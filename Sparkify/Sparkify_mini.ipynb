{
 "cells": [
  {
   "cell_type": "markdown",
   "metadata": {},
   "source": [
    "# Sparkify Project Workspace\n",
    "This workspace contains a **tiny subset (128MB)** of the full dataset available (12GB). Feel free to use this workspace to build your project, or to explore a smaller subset with Spark before deploying your cluster on the cloud. Instructions for setting up your Spark cluster is included in the last lesson of the Extracurricular Spark Course content.\n",
    "\n",
    "You can follow the steps below to guide your data analysis and model building portion of this project."
   ]
  },
  {
   "cell_type": "code",
   "execution_count": 1,
   "metadata": {},
   "outputs": [],
   "source": [
    "# import libraries\n",
    "from pyspark import SparkConf\n",
    "from pyspark.sql import SparkSession\n",
    "from pyspark.sql import Window\n",
    "\n",
    "from pyspark.sql.functions import *\n",
    "from pyspark.sql.types import *\n",
    "\n",
    "import numpy as np\n",
    "import pandas as pd\n",
    "import datetime\n",
    "from time import time\n",
    "import matplotlib.pyplot as plt\n",
    "import matplotlib.colors as mcolors\n",
    "import seaborn as sns\n",
    "\n",
    "from pyspark.ml import Pipeline\n",
    "from pyspark.ml.feature import StringIndexer, OneHotEncoderEstimator, VectorAssembler, MinMaxScaler\n",
    "from pyspark.ml.classification import (NaiveBayes, LogisticRegression, DecisionTreeClassifier, \n",
    "                                       RandomForestClassifier, LinearSVC)\n",
    "from pyspark.ml.evaluation import MulticlassClassificationEvaluator, BinaryClassificationEvaluator\n",
    "from pyspark.ml.tuning import CrossValidator, ParamGridBuilder\n",
    "\n",
    "%matplotlib inline"
   ]
  },
  {
   "cell_type": "code",
   "execution_count": 2,
   "metadata": {},
   "outputs": [],
   "source": [
    "# Set color palette for graphs\n",
    "sns.set_palette('pastel')"
   ]
  },
  {
   "cell_type": "code",
   "execution_count": 3,
   "metadata": {},
   "outputs": [],
   "source": [
    "# show all columns of pandas dataframes, adjust column and display width automatically in notebook\n",
    "# source: https://stackoverflow.com/questions/11707586/how-do-i-expand-the-output-display-to-see-more-\n",
    "# columns-of-a-pandas-dataframe\n",
    "pd.set_option('display.max_columns', None)  \n",
    "pd.set_option('display.expand_frame_repr', False)\n",
    "pd.set_option('max_colwidth', -1)"
   ]
  },
  {
   "cell_type": "code",
   "execution_count": 4,
   "metadata": {},
   "outputs": [],
   "source": [
    "# create a Spark session\n",
    "spark = SparkSession \\\n",
    "    .builder \\\n",
    "    .appName(\"Sparkify\") \\\n",
    "    .getOrCreate()"
   ]
  },
  {
   "cell_type": "code",
   "execution_count": 5,
   "metadata": {
    "scrolled": true
   },
   "outputs": [
    {
     "data": {
      "text/html": [
       "\n",
       "            <div>\n",
       "                <p><b>SparkSession - in-memory</b></p>\n",
       "                \n",
       "        <div>\n",
       "            <p><b>SparkContext</b></p>\n",
       "\n",
       "            <p><a href=\"http://8b7ab2b57a04:4040\">Spark UI</a></p>\n",
       "\n",
       "            <dl>\n",
       "              <dt>Version</dt>\n",
       "                <dd><code>v2.4.3</code></dd>\n",
       "              <dt>Master</dt>\n",
       "                <dd><code>local[*]</code></dd>\n",
       "              <dt>AppName</dt>\n",
       "                <dd><code>Sparkify</code></dd>\n",
       "            </dl>\n",
       "        </div>\n",
       "        \n",
       "            </div>\n",
       "        "
      ],
      "text/plain": [
       "<pyspark.sql.session.SparkSession at 0x7f1d8148d5f8>"
      ]
     },
     "execution_count": 5,
     "metadata": {},
     "output_type": "execute_result"
    }
   ],
   "source": [
    "# check that our Spark session has been created\n",
    "spark.sparkContext.getConf().getAll()\n",
    "spark"
   ]
  },
  {
   "cell_type": "markdown",
   "metadata": {},
   "source": [
    "# Load and Clean Dataset\n",
    "In this workspace, the mini-dataset file is `mini_sparkify_event_data.json`. Load and clean the dataset, checking for invalid or missing data - for example, records without userids or sessionids. "
   ]
  },
  {
   "cell_type": "code",
   "execution_count": 6,
   "metadata": {},
   "outputs": [],
   "source": [
    "# define path to and load json file as dataframe\n",
    "path = \"mini_sparkify_event_data.json\"\n",
    "df = spark.read.json(path)"
   ]
  },
  {
   "cell_type": "code",
   "execution_count": 7,
   "metadata": {
    "scrolled": true
   },
   "outputs": [
    {
     "name": "stdout",
     "output_type": "stream",
     "text": [
      "root\n",
      " |-- artist: string (nullable = true)\n",
      " |-- auth: string (nullable = true)\n",
      " |-- firstName: string (nullable = true)\n",
      " |-- gender: string (nullable = true)\n",
      " |-- itemInSession: long (nullable = true)\n",
      " |-- lastName: string (nullable = true)\n",
      " |-- length: double (nullable = true)\n",
      " |-- level: string (nullable = true)\n",
      " |-- location: string (nullable = true)\n",
      " |-- method: string (nullable = true)\n",
      " |-- page: string (nullable = true)\n",
      " |-- registration: long (nullable = true)\n",
      " |-- sessionId: long (nullable = true)\n",
      " |-- song: string (nullable = true)\n",
      " |-- status: long (nullable = true)\n",
      " |-- ts: long (nullable = true)\n",
      " |-- userAgent: string (nullable = true)\n",
      " |-- userId: string (nullable = true)\n",
      "\n"
     ]
    }
   ],
   "source": [
    "# print schema to check dataframe structure\n",
    "df.printSchema()"
   ]
  },
  {
   "cell_type": "code",
   "execution_count": 8,
   "metadata": {},
   "outputs": [
    {
     "data": {
      "text/plain": [
       "18"
      ]
     },
     "execution_count": 8,
     "metadata": {},
     "output_type": "execute_result"
    }
   ],
   "source": [
    "# number of columns in dataframe\n",
    "len(df.columns)"
   ]
  },
  {
   "cell_type": "markdown",
   "metadata": {},
   "source": [
    "**There are 18 columns in the dataframe, of which 12 are strings and 6 are numerical.**"
   ]
  },
  {
   "cell_type": "code",
   "execution_count": 9,
   "metadata": {},
   "outputs": [
    {
     "data": {
      "text/plain": [
       "286500"
      ]
     },
     "execution_count": 9,
     "metadata": {},
     "output_type": "execute_result"
    }
   ],
   "source": [
    "# number of samples in dataframe\n",
    "df.count()"
   ]
  },
  {
   "cell_type": "code",
   "execution_count": 10,
   "metadata": {
    "scrolled": false
   },
   "outputs": [
    {
     "data": {
      "text/html": [
       "<div>\n",
       "<style scoped>\n",
       "    .dataframe tbody tr th:only-of-type {\n",
       "        vertical-align: middle;\n",
       "    }\n",
       "\n",
       "    .dataframe tbody tr th {\n",
       "        vertical-align: top;\n",
       "    }\n",
       "\n",
       "    .dataframe thead th {\n",
       "        text-align: right;\n",
       "    }\n",
       "</style>\n",
       "<table border=\"1\" class=\"dataframe\">\n",
       "  <thead>\n",
       "    <tr style=\"text-align: right;\">\n",
       "      <th></th>\n",
       "      <th>artist</th>\n",
       "      <th>auth</th>\n",
       "      <th>firstName</th>\n",
       "      <th>gender</th>\n",
       "      <th>itemInSession</th>\n",
       "      <th>lastName</th>\n",
       "      <th>length</th>\n",
       "      <th>level</th>\n",
       "      <th>location</th>\n",
       "      <th>method</th>\n",
       "      <th>page</th>\n",
       "      <th>registration</th>\n",
       "      <th>sessionId</th>\n",
       "      <th>song</th>\n",
       "      <th>status</th>\n",
       "      <th>ts</th>\n",
       "      <th>userAgent</th>\n",
       "      <th>userId</th>\n",
       "    </tr>\n",
       "  </thead>\n",
       "  <tbody>\n",
       "    <tr>\n",
       "      <th>0</th>\n",
       "      <td>Martha Tilston</td>\n",
       "      <td>Logged In</td>\n",
       "      <td>Colin</td>\n",
       "      <td>M</td>\n",
       "      <td>50</td>\n",
       "      <td>Freeman</td>\n",
       "      <td>277.89016</td>\n",
       "      <td>paid</td>\n",
       "      <td>Bakersfield, CA</td>\n",
       "      <td>PUT</td>\n",
       "      <td>NextSong</td>\n",
       "      <td>1.538173e+12</td>\n",
       "      <td>29</td>\n",
       "      <td>Rockpools</td>\n",
       "      <td>200</td>\n",
       "      <td>1538352117000</td>\n",
       "      <td>Mozilla/5.0 (Windows NT 6.1; WOW64; rv:31.0) Gecko/20100101 Firefox/31.0</td>\n",
       "      <td>30</td>\n",
       "    </tr>\n",
       "    <tr>\n",
       "      <th>1</th>\n",
       "      <td>Five Iron Frenzy</td>\n",
       "      <td>Logged In</td>\n",
       "      <td>Micah</td>\n",
       "      <td>M</td>\n",
       "      <td>79</td>\n",
       "      <td>Long</td>\n",
       "      <td>236.09424</td>\n",
       "      <td>free</td>\n",
       "      <td>Boston-Cambridge-Newton, MA-NH</td>\n",
       "      <td>PUT</td>\n",
       "      <td>NextSong</td>\n",
       "      <td>1.538332e+12</td>\n",
       "      <td>8</td>\n",
       "      <td>Canada</td>\n",
       "      <td>200</td>\n",
       "      <td>1538352180000</td>\n",
       "      <td>\"Mozilla/5.0 (Windows NT 6.1; WOW64) AppleWebKit/537.36 (KHTML, like Gecko) Chrome/37.0.2062.103 Safari/537.36\"</td>\n",
       "      <td>9</td>\n",
       "    </tr>\n",
       "    <tr>\n",
       "      <th>2</th>\n",
       "      <td>Adam Lambert</td>\n",
       "      <td>Logged In</td>\n",
       "      <td>Colin</td>\n",
       "      <td>M</td>\n",
       "      <td>51</td>\n",
       "      <td>Freeman</td>\n",
       "      <td>282.82730</td>\n",
       "      <td>paid</td>\n",
       "      <td>Bakersfield, CA</td>\n",
       "      <td>PUT</td>\n",
       "      <td>NextSong</td>\n",
       "      <td>1.538173e+12</td>\n",
       "      <td>29</td>\n",
       "      <td>Time For Miracles</td>\n",
       "      <td>200</td>\n",
       "      <td>1538352394000</td>\n",
       "      <td>Mozilla/5.0 (Windows NT 6.1; WOW64; rv:31.0) Gecko/20100101 Firefox/31.0</td>\n",
       "      <td>30</td>\n",
       "    </tr>\n",
       "    <tr>\n",
       "      <th>3</th>\n",
       "      <td>Enigma</td>\n",
       "      <td>Logged In</td>\n",
       "      <td>Micah</td>\n",
       "      <td>M</td>\n",
       "      <td>80</td>\n",
       "      <td>Long</td>\n",
       "      <td>262.71302</td>\n",
       "      <td>free</td>\n",
       "      <td>Boston-Cambridge-Newton, MA-NH</td>\n",
       "      <td>PUT</td>\n",
       "      <td>NextSong</td>\n",
       "      <td>1.538332e+12</td>\n",
       "      <td>8</td>\n",
       "      <td>Knocking On Forbidden Doors</td>\n",
       "      <td>200</td>\n",
       "      <td>1538352416000</td>\n",
       "      <td>\"Mozilla/5.0 (Windows NT 6.1; WOW64) AppleWebKit/537.36 (KHTML, like Gecko) Chrome/37.0.2062.103 Safari/537.36\"</td>\n",
       "      <td>9</td>\n",
       "    </tr>\n",
       "    <tr>\n",
       "      <th>4</th>\n",
       "      <td>Daft Punk</td>\n",
       "      <td>Logged In</td>\n",
       "      <td>Colin</td>\n",
       "      <td>M</td>\n",
       "      <td>52</td>\n",
       "      <td>Freeman</td>\n",
       "      <td>223.60771</td>\n",
       "      <td>paid</td>\n",
       "      <td>Bakersfield, CA</td>\n",
       "      <td>PUT</td>\n",
       "      <td>NextSong</td>\n",
       "      <td>1.538173e+12</td>\n",
       "      <td>29</td>\n",
       "      <td>Harder Better Faster Stronger</td>\n",
       "      <td>200</td>\n",
       "      <td>1538352676000</td>\n",
       "      <td>Mozilla/5.0 (Windows NT 6.1; WOW64; rv:31.0) Gecko/20100101 Firefox/31.0</td>\n",
       "      <td>30</td>\n",
       "    </tr>\n",
       "  </tbody>\n",
       "</table>\n",
       "</div>"
      ],
      "text/plain": [
       "             artist       auth firstName gender  itemInSession lastName     length level                        location method      page  registration  sessionId                           song  status             ts                                                                                                        userAgent userId\n",
       "0  Martha Tilston    Logged In  Colin     M      50             Freeman  277.89016  paid  Bakersfield, CA                 PUT    NextSong  1.538173e+12  29         Rockpools                      200     1538352117000  Mozilla/5.0 (Windows NT 6.1; WOW64; rv:31.0) Gecko/20100101 Firefox/31.0                                         30   \n",
       "1  Five Iron Frenzy  Logged In  Micah     M      79             Long     236.09424  free  Boston-Cambridge-Newton, MA-NH  PUT    NextSong  1.538332e+12  8          Canada                         200     1538352180000  \"Mozilla/5.0 (Windows NT 6.1; WOW64) AppleWebKit/537.36 (KHTML, like Gecko) Chrome/37.0.2062.103 Safari/537.36\"  9    \n",
       "2  Adam Lambert      Logged In  Colin     M      51             Freeman  282.82730  paid  Bakersfield, CA                 PUT    NextSong  1.538173e+12  29         Time For Miracles              200     1538352394000  Mozilla/5.0 (Windows NT 6.1; WOW64; rv:31.0) Gecko/20100101 Firefox/31.0                                         30   \n",
       "3  Enigma            Logged In  Micah     M      80             Long     262.71302  free  Boston-Cambridge-Newton, MA-NH  PUT    NextSong  1.538332e+12  8          Knocking On Forbidden Doors    200     1538352416000  \"Mozilla/5.0 (Windows NT 6.1; WOW64) AppleWebKit/537.36 (KHTML, like Gecko) Chrome/37.0.2062.103 Safari/537.36\"  9    \n",
       "4  Daft Punk         Logged In  Colin     M      52             Freeman  223.60771  paid  Bakersfield, CA                 PUT    NextSong  1.538173e+12  29         Harder Better Faster Stronger  200     1538352676000  Mozilla/5.0 (Windows NT 6.1; WOW64; rv:31.0) Gecko/20100101 Firefox/31.0                                         30   "
      ]
     },
     "execution_count": 10,
     "metadata": {},
     "output_type": "execute_result"
    }
   ],
   "source": [
    "# print first 5 rows as pandas dataframe\n",
    "df.toPandas().head(5)"
   ]
  },
  {
   "cell_type": "markdown",
   "metadata": {},
   "source": [
    "**There appears to be 'None' and 'NaN' values in some columns and multiple rows/events for the same 'userId'. 'registration' and 'ts' seem to be timestamps, which should be transformed into more useful formats, such as time/day/month/year or similar. The 'location' column could be split into two separate columns with location name and postal abbreviation.**"
   ]
  },
  {
   "cell_type": "code",
   "execution_count": 11,
   "metadata": {
    "scrolled": true
   },
   "outputs": [
    {
     "name": "stdout",
     "output_type": "stream",
     "text": [
      "+-------+------------------+\n",
      "|summary|            artist|\n",
      "+-------+------------------+\n",
      "|  count|            228108|\n",
      "|   mean| 551.0852017937219|\n",
      "| stddev|1217.7693079161374|\n",
      "|    min|               !!!|\n",
      "|    max| ÃÂlafur Arnalds|\n",
      "+-------+------------------+\n",
      "\n"
     ]
    }
   ],
   "source": [
    "df.describe(['artist']).show()"
   ]
  },
  {
   "cell_type": "markdown",
   "metadata": {},
   "source": [
    "**There seems to be some weird formatting in the column with artist names, 'ÃÂlafur Arnalds' doesn't seem correct and I'm not sure '!!!' is an artist or band. It might be best to reformat this column later on.**"
   ]
  },
  {
   "cell_type": "code",
   "execution_count": 12,
   "metadata": {},
   "outputs": [
    {
     "name": "stdout",
     "output_type": "stream",
     "text": [
      "+-------+----------+---------+------+------------------+--------+-----------------+------+-----------------+\n",
      "|summary|      auth|firstName|gender|     itemInSession|lastName|           length| level|         location|\n",
      "+-------+----------+---------+------+------------------+--------+-----------------+------+-----------------+\n",
      "|  count|    286500|   278154|278154|            286500|  278154|           228108|286500|           278154|\n",
      "|   mean|      null|     null|  null|114.41421291448516|    null|249.1171819778458|  null|             null|\n",
      "| stddev|      null|     null|  null|129.76726201140994|    null|99.23517921058361|  null|             null|\n",
      "|    min| Cancelled| Adelaida|     F|                 0|   Adams|          0.78322|  free|       Albany, OR|\n",
      "|    max|Logged Out|   Zyonna|     M|              1321|  Wright|       3024.66567|  paid|Winston-Salem, NC|\n",
      "+-------+----------+---------+------+------------------+--------+-----------------+------+-----------------+\n",
      "\n"
     ]
    }
   ],
   "source": [
    "df.describe(['auth', 'firstName', 'gender', 'itemInSession', 'lastName', 'length', 'level', 'location']).show()"
   ]
  },
  {
   "cell_type": "code",
   "execution_count": 13,
   "metadata": {},
   "outputs": [
    {
     "name": "stdout",
     "output_type": "stream",
     "text": [
      "+----------+------+\n",
      "|      auth| count|\n",
      "+----------+------+\n",
      "| Logged In|278102|\n",
      "|Logged Out|  8249|\n",
      "|     Guest|    97|\n",
      "| Cancelled|    52|\n",
      "+----------+------+\n",
      "\n"
     ]
    }
   ],
   "source": [
    "df.groupBy('auth').count().sort(desc('count')).show()"
   ]
  },
  {
   "cell_type": "code",
   "execution_count": 14,
   "metadata": {},
   "outputs": [
    {
     "name": "stdout",
     "output_type": "stream",
     "text": [
      "+------+------+\n",
      "|gender| count|\n",
      "+------+------+\n",
      "|     F|154578|\n",
      "|     M|123576|\n",
      "|  null|  8346|\n",
      "+------+------+\n",
      "\n"
     ]
    }
   ],
   "source": [
    "df.groupBy('gender').count().sort(desc('count')).show()"
   ]
  },
  {
   "cell_type": "markdown",
   "metadata": {},
   "source": [
    "**the 'gender' column appears to have some null values.**"
   ]
  },
  {
   "cell_type": "code",
   "execution_count": 15,
   "metadata": {},
   "outputs": [
    {
     "name": "stdout",
     "output_type": "stream",
     "text": [
      "+-----+------+\n",
      "|level| count|\n",
      "+-----+------+\n",
      "| paid|228162|\n",
      "| free| 58338|\n",
      "+-----+------+\n",
      "\n"
     ]
    }
   ],
   "source": [
    "df.groupBy('level').count().sort(desc('count')).show()"
   ]
  },
  {
   "cell_type": "code",
   "execution_count": 16,
   "metadata": {},
   "outputs": [
    {
     "name": "stdout",
     "output_type": "stream",
     "text": [
      "+-------+------+-------+--------------------+-----------------+\n",
      "|summary|method|   page|        registration|        sessionId|\n",
      "+-------+------+-------+--------------------+-----------------+\n",
      "|  count|286500| 286500|              278154|           286500|\n",
      "|   mean|  null|   null|1.535358834084427...|1041.526554973822|\n",
      "| stddev|  null|   null| 3.291321616327586E9|726.7762634630741|\n",
      "|    min|   GET|  About|       1521380675000|                1|\n",
      "|    max|   PUT|Upgrade|       1543247354000|             2474|\n",
      "+-------+------+-------+--------------------+-----------------+\n",
      "\n"
     ]
    }
   ],
   "source": [
    "df.describe(['method', 'page', 'registration', 'sessionId']).show()"
   ]
  },
  {
   "cell_type": "code",
   "execution_count": 17,
   "metadata": {},
   "outputs": [
    {
     "name": "stdout",
     "output_type": "stream",
     "text": [
      "+------+------+\n",
      "|method| count|\n",
      "+------+------+\n",
      "|   PUT|261064|\n",
      "|   GET| 25436|\n",
      "+------+------+\n",
      "\n"
     ]
    }
   ],
   "source": [
    "df.groupBy('method').count().sort(desc('count')).show()"
   ]
  },
  {
   "cell_type": "code",
   "execution_count": 18,
   "metadata": {},
   "outputs": [
    {
     "name": "stdout",
     "output_type": "stream",
     "text": [
      "+-------------------------+------+\n",
      "|page                     |count |\n",
      "+-------------------------+------+\n",
      "|NextSong                 |228108|\n",
      "|Home                     |14457 |\n",
      "|Thumbs Up                |12551 |\n",
      "|Add to Playlist          |6526  |\n",
      "|Add Friend               |4277  |\n",
      "|Roll Advert              |3933  |\n",
      "|Login                    |3241  |\n",
      "|Logout                   |3226  |\n",
      "|Thumbs Down              |2546  |\n",
      "|Downgrade                |2055  |\n",
      "|Help                     |1726  |\n",
      "|Settings                 |1514  |\n",
      "|About                    |924   |\n",
      "|Upgrade                  |499   |\n",
      "|Save Settings            |310   |\n",
      "|Error                    |258   |\n",
      "|Submit Upgrade           |159   |\n",
      "|Submit Downgrade         |63    |\n",
      "|Cancel                   |52    |\n",
      "|Cancellation Confirmation|52    |\n",
      "|Register                 |18    |\n",
      "|Submit Registration      |5     |\n",
      "+-------------------------+------+\n",
      "\n"
     ]
    }
   ],
   "source": [
    "df.groupBy('page').count().sort(desc('count')).show(30, truncate=False)"
   ]
  },
  {
   "cell_type": "code",
   "execution_count": 19,
   "metadata": {
    "scrolled": true
   },
   "outputs": [
    {
     "name": "stdout",
     "output_type": "stream",
     "text": [
      "+-------+--------------------+\n",
      "|summary|                song|\n",
      "+-------+--------------------+\n",
      "|  count|              228108|\n",
      "|   mean|            Infinity|\n",
      "| stddev|                 NaN|\n",
      "|    min|\u001c",
      "ÃÂg ÃÂtti Gr...|\n",
      "|    max|ÃÂau hafa slopp...|\n",
      "+-------+--------------------+\n",
      "\n"
     ]
    }
   ],
   "source": [
    "df.describe(['song']).show()"
   ]
  },
  {
   "cell_type": "markdown",
   "metadata": {},
   "source": [
    "**Some weird formatting is present in the 'song' column as well.**"
   ]
  },
  {
   "cell_type": "code",
   "execution_count": 20,
   "metadata": {},
   "outputs": [
    {
     "name": "stdout",
     "output_type": "stream",
     "text": [
      "+-------+------------------+--------------------+--------------------+-----------------+\n",
      "|summary|            status|                  ts|           userAgent|           userId|\n",
      "+-------+------------------+--------------------+--------------------+-----------------+\n",
      "|  count|            286500|              286500|              278154|           286500|\n",
      "|   mean|210.05459685863875|1.540956889810483...|                null|59682.02278593872|\n",
      "| stddev| 31.50507848842214|1.5075439608226302E9|                null|109091.9499991047|\n",
      "|    min|               200|       1538352117000|\"Mozilla/5.0 (Mac...|                 |\n",
      "|    max|               404|       1543799476000|Mozilla/5.0 (comp...|               99|\n",
      "+-------+------------------+--------------------+--------------------+-----------------+\n",
      "\n"
     ]
    }
   ],
   "source": [
    "df.describe(['status', 'ts', 'userAgent', 'userId']).show()"
   ]
  },
  {
   "cell_type": "markdown",
   "metadata": {},
   "source": [
    "**There appears to be empty strings in the 'userId' column.**"
   ]
  },
  {
   "cell_type": "code",
   "execution_count": 21,
   "metadata": {},
   "outputs": [
    {
     "name": "stdout",
     "output_type": "stream",
     "text": [
      "+------+------+\n",
      "|status| count|\n",
      "+------+------+\n",
      "|   307| 26430|\n",
      "|   404|   258|\n",
      "|   200|259812|\n",
      "+------+------+\n",
      "\n"
     ]
    }
   ],
   "source": [
    "df.groupBy('status').count().show()"
   ]
  },
  {
   "cell_type": "code",
   "execution_count": 22,
   "metadata": {
    "scrolled": false
   },
   "outputs": [
    {
     "name": "stdout",
     "output_type": "stream",
     "text": [
      "+------+----+---------+------+-------------+--------+------+-----+--------+------+----+------------+---------+-----+------+---+---------+------+\n",
      "|artist|auth|firstName|gender|itemInSession|lastName|length|level|location|method|page|registration|sessionId| song|status| ts|userAgent|userId|\n",
      "+------+----+---------+------+-------------+--------+------+-----+--------+------+----+------------+---------+-----+------+---+---------+------+\n",
      "| 58392|   0|     8346|  8346|            0|    8346| 58392|    0|    8346|     0|   0|        8346|        0|58392|     0|  0|     8346|     0|\n",
      "+------+----+---------+------+-------------+--------+------+-----+--------+------+----+------------+---------+-----+------+---+---------+------+\n",
      "\n"
     ]
    }
   ],
   "source": [
    "# find NaNs and Nulls in dataframe\n",
    "# source: https://stackoverflow.com/questions/44627386/how-to-find-count-of-null-and-nan-values-for-each-column-in-a-pyspark-dataframe\n",
    "df.select([count(when(isnan(c) | col(c).isNull(), c)).alias(c) for c in df.columns]).show()"
   ]
  },
  {
   "cell_type": "markdown",
   "metadata": {},
   "source": [
    "**'firstName', 'gender', 'lastName', 'location', 'registration' and 'userAgent' seem to be columns with user related information. All of these have the same number of missing values, 8346, which probably means there is no user information for these rows (events). This could be because no user was logged in for this event.**\n",
    "\n",
    "**'artist', 'length' and 'song' seem to be related to the song played per event. These columns have the same number of missing values, 58392, which probably means there is no song/artist information recorded for this event. This might be because the event was some other than a song being played.**"
   ]
  },
  {
   "cell_type": "code",
   "execution_count": 23,
   "metadata": {},
   "outputs": [
    {
     "name": "stdout",
     "output_type": "stream",
     "text": [
      "+------+----+---------+------+-------------+--------+------+-----+--------+------+----+------------+---------+----+------+---+---------+------+\n",
      "|artist|auth|firstName|gender|itemInSession|lastName|length|level|location|method|page|registration|sessionId|song|status| ts|userAgent|userId|\n",
      "+------+----+---------+------+-------------+--------+------+-----+--------+------+----+------------+---------+----+------+---+---------+------+\n",
      "|     0|   0|        0|     0|            0|       0|     0|    0|       0|     0|   0|           0|        0|   0|     0|  0|        0|  8346|\n",
      "+------+----+---------+------+-------------+--------+------+-----+--------+------+----+------------+---------+----+------+---+---------+------+\n",
      "\n"
     ]
    }
   ],
   "source": [
    "# find empty strings in dataframe\n",
    "df.select([count(when(col(c) == '', c)).alias(c) for c in df.columns]).show()"
   ]
  },
  {
   "cell_type": "markdown",
   "metadata": {},
   "source": [
    "**Only the 'userId' column seems to contain empty strings, which is the same number of missing values as for the other user related columns above.**"
   ]
  },
  {
   "cell_type": "code",
   "execution_count": 24,
   "metadata": {},
   "outputs": [
    {
     "data": {
      "text/html": [
       "<div>\n",
       "<style scoped>\n",
       "    .dataframe tbody tr th:only-of-type {\n",
       "        vertical-align: middle;\n",
       "    }\n",
       "\n",
       "    .dataframe tbody tr th {\n",
       "        vertical-align: top;\n",
       "    }\n",
       "\n",
       "    .dataframe thead th {\n",
       "        text-align: right;\n",
       "    }\n",
       "</style>\n",
       "<table border=\"1\" class=\"dataframe\">\n",
       "  <thead>\n",
       "    <tr style=\"text-align: right;\">\n",
       "      <th></th>\n",
       "      <th>artist</th>\n",
       "      <th>auth</th>\n",
       "      <th>firstName</th>\n",
       "      <th>gender</th>\n",
       "      <th>itemInSession</th>\n",
       "      <th>lastName</th>\n",
       "      <th>length</th>\n",
       "      <th>level</th>\n",
       "      <th>location</th>\n",
       "      <th>method</th>\n",
       "      <th>page</th>\n",
       "      <th>registration</th>\n",
       "      <th>sessionId</th>\n",
       "      <th>song</th>\n",
       "      <th>status</th>\n",
       "      <th>ts</th>\n",
       "      <th>userAgent</th>\n",
       "      <th>userId</th>\n",
       "    </tr>\n",
       "  </thead>\n",
       "  <tbody>\n",
       "    <tr>\n",
       "      <th>0</th>\n",
       "      <td>None</td>\n",
       "      <td>Logged Out</td>\n",
       "      <td>None</td>\n",
       "      <td>None</td>\n",
       "      <td>100</td>\n",
       "      <td>None</td>\n",
       "      <td>None</td>\n",
       "      <td>free</td>\n",
       "      <td>None</td>\n",
       "      <td>GET</td>\n",
       "      <td>Home</td>\n",
       "      <td>None</td>\n",
       "      <td>8</td>\n",
       "      <td>None</td>\n",
       "      <td>200</td>\n",
       "      <td>1538355745000</td>\n",
       "      <td>None</td>\n",
       "      <td></td>\n",
       "    </tr>\n",
       "    <tr>\n",
       "      <th>1</th>\n",
       "      <td>None</td>\n",
       "      <td>Logged Out</td>\n",
       "      <td>None</td>\n",
       "      <td>None</td>\n",
       "      <td>101</td>\n",
       "      <td>None</td>\n",
       "      <td>None</td>\n",
       "      <td>free</td>\n",
       "      <td>None</td>\n",
       "      <td>GET</td>\n",
       "      <td>Help</td>\n",
       "      <td>None</td>\n",
       "      <td>8</td>\n",
       "      <td>None</td>\n",
       "      <td>200</td>\n",
       "      <td>1538355807000</td>\n",
       "      <td>None</td>\n",
       "      <td></td>\n",
       "    </tr>\n",
       "    <tr>\n",
       "      <th>2</th>\n",
       "      <td>None</td>\n",
       "      <td>Logged Out</td>\n",
       "      <td>None</td>\n",
       "      <td>None</td>\n",
       "      <td>102</td>\n",
       "      <td>None</td>\n",
       "      <td>None</td>\n",
       "      <td>free</td>\n",
       "      <td>None</td>\n",
       "      <td>GET</td>\n",
       "      <td>Home</td>\n",
       "      <td>None</td>\n",
       "      <td>8</td>\n",
       "      <td>None</td>\n",
       "      <td>200</td>\n",
       "      <td>1538355841000</td>\n",
       "      <td>None</td>\n",
       "      <td></td>\n",
       "    </tr>\n",
       "    <tr>\n",
       "      <th>3</th>\n",
       "      <td>None</td>\n",
       "      <td>Logged Out</td>\n",
       "      <td>None</td>\n",
       "      <td>None</td>\n",
       "      <td>103</td>\n",
       "      <td>None</td>\n",
       "      <td>None</td>\n",
       "      <td>free</td>\n",
       "      <td>None</td>\n",
       "      <td>PUT</td>\n",
       "      <td>Login</td>\n",
       "      <td>None</td>\n",
       "      <td>8</td>\n",
       "      <td>None</td>\n",
       "      <td>307</td>\n",
       "      <td>1538355842000</td>\n",
       "      <td>None</td>\n",
       "      <td></td>\n",
       "    </tr>\n",
       "    <tr>\n",
       "      <th>4</th>\n",
       "      <td>None</td>\n",
       "      <td>Logged Out</td>\n",
       "      <td>None</td>\n",
       "      <td>None</td>\n",
       "      <td>2</td>\n",
       "      <td>None</td>\n",
       "      <td>None</td>\n",
       "      <td>free</td>\n",
       "      <td>None</td>\n",
       "      <td>GET</td>\n",
       "      <td>Home</td>\n",
       "      <td>None</td>\n",
       "      <td>240</td>\n",
       "      <td>None</td>\n",
       "      <td>200</td>\n",
       "      <td>1538356678000</td>\n",
       "      <td>None</td>\n",
       "      <td></td>\n",
       "    </tr>\n",
       "    <tr>\n",
       "      <th>5</th>\n",
       "      <td>None</td>\n",
       "      <td>Logged Out</td>\n",
       "      <td>None</td>\n",
       "      <td>None</td>\n",
       "      <td>3</td>\n",
       "      <td>None</td>\n",
       "      <td>None</td>\n",
       "      <td>free</td>\n",
       "      <td>None</td>\n",
       "      <td>PUT</td>\n",
       "      <td>Login</td>\n",
       "      <td>None</td>\n",
       "      <td>240</td>\n",
       "      <td>None</td>\n",
       "      <td>307</td>\n",
       "      <td>1538356679000</td>\n",
       "      <td>None</td>\n",
       "      <td></td>\n",
       "    </tr>\n",
       "    <tr>\n",
       "      <th>6</th>\n",
       "      <td>None</td>\n",
       "      <td>Logged Out</td>\n",
       "      <td>None</td>\n",
       "      <td>None</td>\n",
       "      <td>0</td>\n",
       "      <td>None</td>\n",
       "      <td>None</td>\n",
       "      <td>free</td>\n",
       "      <td>None</td>\n",
       "      <td>PUT</td>\n",
       "      <td>Login</td>\n",
       "      <td>None</td>\n",
       "      <td>100</td>\n",
       "      <td>None</td>\n",
       "      <td>307</td>\n",
       "      <td>1538358102000</td>\n",
       "      <td>None</td>\n",
       "      <td></td>\n",
       "    </tr>\n",
       "    <tr>\n",
       "      <th>7</th>\n",
       "      <td>None</td>\n",
       "      <td>Logged Out</td>\n",
       "      <td>None</td>\n",
       "      <td>None</td>\n",
       "      <td>0</td>\n",
       "      <td>None</td>\n",
       "      <td>None</td>\n",
       "      <td>free</td>\n",
       "      <td>None</td>\n",
       "      <td>PUT</td>\n",
       "      <td>Login</td>\n",
       "      <td>None</td>\n",
       "      <td>241</td>\n",
       "      <td>None</td>\n",
       "      <td>307</td>\n",
       "      <td>1538360117000</td>\n",
       "      <td>None</td>\n",
       "      <td></td>\n",
       "    </tr>\n",
       "    <tr>\n",
       "      <th>8</th>\n",
       "      <td>None</td>\n",
       "      <td>Logged Out</td>\n",
       "      <td>None</td>\n",
       "      <td>None</td>\n",
       "      <td>14</td>\n",
       "      <td>None</td>\n",
       "      <td>None</td>\n",
       "      <td>free</td>\n",
       "      <td>None</td>\n",
       "      <td>GET</td>\n",
       "      <td>Home</td>\n",
       "      <td>None</td>\n",
       "      <td>187</td>\n",
       "      <td>None</td>\n",
       "      <td>200</td>\n",
       "      <td>1538361527000</td>\n",
       "      <td>None</td>\n",
       "      <td></td>\n",
       "    </tr>\n",
       "    <tr>\n",
       "      <th>9</th>\n",
       "      <td>None</td>\n",
       "      <td>Logged Out</td>\n",
       "      <td>None</td>\n",
       "      <td>None</td>\n",
       "      <td>15</td>\n",
       "      <td>None</td>\n",
       "      <td>None</td>\n",
       "      <td>free</td>\n",
       "      <td>None</td>\n",
       "      <td>PUT</td>\n",
       "      <td>Login</td>\n",
       "      <td>None</td>\n",
       "      <td>187</td>\n",
       "      <td>None</td>\n",
       "      <td>307</td>\n",
       "      <td>1538361528000</td>\n",
       "      <td>None</td>\n",
       "      <td></td>\n",
       "    </tr>\n",
       "    <tr>\n",
       "      <th>10</th>\n",
       "      <td>None</td>\n",
       "      <td>Logged Out</td>\n",
       "      <td>None</td>\n",
       "      <td>None</td>\n",
       "      <td>21</td>\n",
       "      <td>None</td>\n",
       "      <td>None</td>\n",
       "      <td>free</td>\n",
       "      <td>None</td>\n",
       "      <td>GET</td>\n",
       "      <td>Home</td>\n",
       "      <td>None</td>\n",
       "      <td>187</td>\n",
       "      <td>None</td>\n",
       "      <td>200</td>\n",
       "      <td>1538362007000</td>\n",
       "      <td>None</td>\n",
       "      <td></td>\n",
       "    </tr>\n",
       "    <tr>\n",
       "      <th>11</th>\n",
       "      <td>None</td>\n",
       "      <td>Logged Out</td>\n",
       "      <td>None</td>\n",
       "      <td>None</td>\n",
       "      <td>22</td>\n",
       "      <td>None</td>\n",
       "      <td>None</td>\n",
       "      <td>free</td>\n",
       "      <td>None</td>\n",
       "      <td>GET</td>\n",
       "      <td>Home</td>\n",
       "      <td>None</td>\n",
       "      <td>187</td>\n",
       "      <td>None</td>\n",
       "      <td>200</td>\n",
       "      <td>1538362095000</td>\n",
       "      <td>None</td>\n",
       "      <td></td>\n",
       "    </tr>\n",
       "    <tr>\n",
       "      <th>12</th>\n",
       "      <td>None</td>\n",
       "      <td>Logged Out</td>\n",
       "      <td>None</td>\n",
       "      <td>None</td>\n",
       "      <td>23</td>\n",
       "      <td>None</td>\n",
       "      <td>None</td>\n",
       "      <td>free</td>\n",
       "      <td>None</td>\n",
       "      <td>PUT</td>\n",
       "      <td>Login</td>\n",
       "      <td>None</td>\n",
       "      <td>187</td>\n",
       "      <td>None</td>\n",
       "      <td>307</td>\n",
       "      <td>1538362096000</td>\n",
       "      <td>None</td>\n",
       "      <td></td>\n",
       "    </tr>\n",
       "    <tr>\n",
       "      <th>13</th>\n",
       "      <td>None</td>\n",
       "      <td>Logged Out</td>\n",
       "      <td>None</td>\n",
       "      <td>None</td>\n",
       "      <td>0</td>\n",
       "      <td>None</td>\n",
       "      <td>None</td>\n",
       "      <td>free</td>\n",
       "      <td>None</td>\n",
       "      <td>GET</td>\n",
       "      <td>Home</td>\n",
       "      <td>None</td>\n",
       "      <td>27</td>\n",
       "      <td>None</td>\n",
       "      <td>200</td>\n",
       "      <td>1538363488000</td>\n",
       "      <td>None</td>\n",
       "      <td></td>\n",
       "    </tr>\n",
       "    <tr>\n",
       "      <th>14</th>\n",
       "      <td>None</td>\n",
       "      <td>Logged Out</td>\n",
       "      <td>None</td>\n",
       "      <td>None</td>\n",
       "      <td>1</td>\n",
       "      <td>None</td>\n",
       "      <td>None</td>\n",
       "      <td>free</td>\n",
       "      <td>None</td>\n",
       "      <td>GET</td>\n",
       "      <td>About</td>\n",
       "      <td>None</td>\n",
       "      <td>27</td>\n",
       "      <td>None</td>\n",
       "      <td>200</td>\n",
       "      <td>1538363494000</td>\n",
       "      <td>None</td>\n",
       "      <td></td>\n",
       "    </tr>\n",
       "    <tr>\n",
       "      <th>15</th>\n",
       "      <td>None</td>\n",
       "      <td>Logged Out</td>\n",
       "      <td>None</td>\n",
       "      <td>None</td>\n",
       "      <td>2</td>\n",
       "      <td>None</td>\n",
       "      <td>None</td>\n",
       "      <td>free</td>\n",
       "      <td>None</td>\n",
       "      <td>GET</td>\n",
       "      <td>Home</td>\n",
       "      <td>None</td>\n",
       "      <td>27</td>\n",
       "      <td>None</td>\n",
       "      <td>200</td>\n",
       "      <td>1538363503000</td>\n",
       "      <td>None</td>\n",
       "      <td></td>\n",
       "    </tr>\n",
       "    <tr>\n",
       "      <th>16</th>\n",
       "      <td>None</td>\n",
       "      <td>Logged Out</td>\n",
       "      <td>None</td>\n",
       "      <td>None</td>\n",
       "      <td>38</td>\n",
       "      <td>None</td>\n",
       "      <td>None</td>\n",
       "      <td>free</td>\n",
       "      <td>None</td>\n",
       "      <td>GET</td>\n",
       "      <td>Home</td>\n",
       "      <td>None</td>\n",
       "      <td>187</td>\n",
       "      <td>None</td>\n",
       "      <td>200</td>\n",
       "      <td>1538364254000</td>\n",
       "      <td>None</td>\n",
       "      <td></td>\n",
       "    </tr>\n",
       "    <tr>\n",
       "      <th>17</th>\n",
       "      <td>None</td>\n",
       "      <td>Logged Out</td>\n",
       "      <td>None</td>\n",
       "      <td>None</td>\n",
       "      <td>39</td>\n",
       "      <td>None</td>\n",
       "      <td>None</td>\n",
       "      <td>free</td>\n",
       "      <td>None</td>\n",
       "      <td>PUT</td>\n",
       "      <td>Login</td>\n",
       "      <td>None</td>\n",
       "      <td>187</td>\n",
       "      <td>None</td>\n",
       "      <td>307</td>\n",
       "      <td>1538364255000</td>\n",
       "      <td>None</td>\n",
       "      <td></td>\n",
       "    </tr>\n",
       "    <tr>\n",
       "      <th>18</th>\n",
       "      <td>None</td>\n",
       "      <td>Logged Out</td>\n",
       "      <td>None</td>\n",
       "      <td>None</td>\n",
       "      <td>0</td>\n",
       "      <td>None</td>\n",
       "      <td>None</td>\n",
       "      <td>free</td>\n",
       "      <td>None</td>\n",
       "      <td>GET</td>\n",
       "      <td>Home</td>\n",
       "      <td>None</td>\n",
       "      <td>257</td>\n",
       "      <td>None</td>\n",
       "      <td>200</td>\n",
       "      <td>1538364750000</td>\n",
       "      <td>None</td>\n",
       "      <td></td>\n",
       "    </tr>\n",
       "    <tr>\n",
       "      <th>19</th>\n",
       "      <td>None</td>\n",
       "      <td>Logged Out</td>\n",
       "      <td>None</td>\n",
       "      <td>None</td>\n",
       "      <td>47</td>\n",
       "      <td>None</td>\n",
       "      <td>None</td>\n",
       "      <td>free</td>\n",
       "      <td>None</td>\n",
       "      <td>GET</td>\n",
       "      <td>Home</td>\n",
       "      <td>None</td>\n",
       "      <td>100</td>\n",
       "      <td>None</td>\n",
       "      <td>200</td>\n",
       "      <td>1538370681000</td>\n",
       "      <td>None</td>\n",
       "      <td></td>\n",
       "    </tr>\n",
       "  </tbody>\n",
       "</table>\n",
       "</div>"
      ],
      "text/plain": [
       "   artist        auth firstName gender  itemInSession lastName length level location method   page registration  sessionId  song  status             ts userAgent userId\n",
       "0   None   Logged Out  None      None   100            None     None   free  None     GET    Home   None         8          None  200     1538355745000  None           \n",
       "1   None   Logged Out  None      None   101            None     None   free  None     GET    Help   None         8          None  200     1538355807000  None           \n",
       "2   None   Logged Out  None      None   102            None     None   free  None     GET    Home   None         8          None  200     1538355841000  None           \n",
       "3   None   Logged Out  None      None   103            None     None   free  None     PUT    Login  None         8          None  307     1538355842000  None           \n",
       "4   None   Logged Out  None      None   2              None     None   free  None     GET    Home   None         240        None  200     1538356678000  None           \n",
       "5   None   Logged Out  None      None   3              None     None   free  None     PUT    Login  None         240        None  307     1538356679000  None           \n",
       "6   None   Logged Out  None      None   0              None     None   free  None     PUT    Login  None         100        None  307     1538358102000  None           \n",
       "7   None   Logged Out  None      None   0              None     None   free  None     PUT    Login  None         241        None  307     1538360117000  None           \n",
       "8   None   Logged Out  None      None   14             None     None   free  None     GET    Home   None         187        None  200     1538361527000  None           \n",
       "9   None   Logged Out  None      None   15             None     None   free  None     PUT    Login  None         187        None  307     1538361528000  None           \n",
       "10  None   Logged Out  None      None   21             None     None   free  None     GET    Home   None         187        None  200     1538362007000  None           \n",
       "11  None   Logged Out  None      None   22             None     None   free  None     GET    Home   None         187        None  200     1538362095000  None           \n",
       "12  None   Logged Out  None      None   23             None     None   free  None     PUT    Login  None         187        None  307     1538362096000  None           \n",
       "13  None   Logged Out  None      None   0              None     None   free  None     GET    Home   None         27         None  200     1538363488000  None           \n",
       "14  None   Logged Out  None      None   1              None     None   free  None     GET    About  None         27         None  200     1538363494000  None           \n",
       "15  None   Logged Out  None      None   2              None     None   free  None     GET    Home   None         27         None  200     1538363503000  None           \n",
       "16  None   Logged Out  None      None   38             None     None   free  None     GET    Home   None         187        None  200     1538364254000  None           \n",
       "17  None   Logged Out  None      None   39             None     None   free  None     PUT    Login  None         187        None  307     1538364255000  None           \n",
       "18  None   Logged Out  None      None   0              None     None   free  None     GET    Home   None         257        None  200     1538364750000  None           \n",
       "19  None   Logged Out  None      None   47             None     None   free  None     GET    Home   None         100        None  200     1538370681000  None           "
      ]
     },
     "execution_count": 24,
     "metadata": {},
     "output_type": "execute_result"
    }
   ],
   "source": [
    "# show first 20 rows with empty 'userId' as pandas dataframe\n",
    "df.where(col('userId') == '').toPandas().head(20)"
   ]
  },
  {
   "cell_type": "markdown",
   "metadata": {},
   "source": [
    "**It seems like most rows with empty 'userId' has value 'Logged Out' in column 'auth'.**"
   ]
  },
  {
   "cell_type": "code",
   "execution_count": 25,
   "metadata": {},
   "outputs": [
    {
     "name": "stdout",
     "output_type": "stream",
     "text": [
      "+----------+\n",
      "|      auth|\n",
      "+----------+\n",
      "|Logged Out|\n",
      "|     Guest|\n",
      "+----------+\n",
      "\n"
     ]
    }
   ],
   "source": [
    "# print distinct values for column 'auth' where 'userId' is empty\n",
    "df.select('auth').where(col('userId') == '').distinct().show()"
   ]
  },
  {
   "cell_type": "markdown",
   "metadata": {},
   "source": [
    "**Above, we can see that all rows with empty 'userId' has value 'Logged Out' or 'Guest' in column 'auth'. This explains why there is no user data available for these rows. Since we're interested in looking at user behavior, these rows can't help us much since we don't know to which user these events belong to and it seems like the best option is to not include these rows in our analysis.**"
   ]
  },
  {
   "cell_type": "code",
   "execution_count": 26,
   "metadata": {
    "scrolled": true
   },
   "outputs": [
    {
     "data": {
      "text/html": [
       "<div>\n",
       "<style scoped>\n",
       "    .dataframe tbody tr th:only-of-type {\n",
       "        vertical-align: middle;\n",
       "    }\n",
       "\n",
       "    .dataframe tbody tr th {\n",
       "        vertical-align: top;\n",
       "    }\n",
       "\n",
       "    .dataframe thead th {\n",
       "        text-align: right;\n",
       "    }\n",
       "</style>\n",
       "<table border=\"1\" class=\"dataframe\">\n",
       "  <thead>\n",
       "    <tr style=\"text-align: right;\">\n",
       "      <th></th>\n",
       "      <th>artist</th>\n",
       "      <th>auth</th>\n",
       "      <th>firstName</th>\n",
       "      <th>gender</th>\n",
       "      <th>itemInSession</th>\n",
       "      <th>lastName</th>\n",
       "      <th>length</th>\n",
       "      <th>level</th>\n",
       "      <th>location</th>\n",
       "      <th>method</th>\n",
       "      <th>page</th>\n",
       "      <th>registration</th>\n",
       "      <th>sessionId</th>\n",
       "      <th>song</th>\n",
       "      <th>status</th>\n",
       "      <th>ts</th>\n",
       "      <th>userAgent</th>\n",
       "      <th>userId</th>\n",
       "    </tr>\n",
       "  </thead>\n",
       "  <tbody>\n",
       "    <tr>\n",
       "      <th>0</th>\n",
       "      <td>None</td>\n",
       "      <td>Logged In</td>\n",
       "      <td>Colin</td>\n",
       "      <td>M</td>\n",
       "      <td>54</td>\n",
       "      <td>Freeman</td>\n",
       "      <td>None</td>\n",
       "      <td>paid</td>\n",
       "      <td>Bakersfield, CA</td>\n",
       "      <td>PUT</td>\n",
       "      <td>Add to Playlist</td>\n",
       "      <td>1.538173e+12</td>\n",
       "      <td>29</td>\n",
       "      <td>None</td>\n",
       "      <td>200</td>\n",
       "      <td>1538352905000</td>\n",
       "      <td>Mozilla/5.0 (Windows NT 6.1; WOW64; rv:31.0) Gecko/20100101 Firefox/31.0</td>\n",
       "      <td>30</td>\n",
       "    </tr>\n",
       "    <tr>\n",
       "      <th>1</th>\n",
       "      <td>None</td>\n",
       "      <td>Logged In</td>\n",
       "      <td>Micah</td>\n",
       "      <td>M</td>\n",
       "      <td>84</td>\n",
       "      <td>Long</td>\n",
       "      <td>None</td>\n",
       "      <td>free</td>\n",
       "      <td>Boston-Cambridge-Newton, MA-NH</td>\n",
       "      <td>GET</td>\n",
       "      <td>Roll Advert</td>\n",
       "      <td>1.538332e+12</td>\n",
       "      <td>8</td>\n",
       "      <td>None</td>\n",
       "      <td>200</td>\n",
       "      <td>1538353150000</td>\n",
       "      <td>\"Mozilla/5.0 (Windows NT 6.1; WOW64) AppleWebKit/537.36 (KHTML, like Gecko) Chrome/37.0.2062.103 Safari/537.36\"</td>\n",
       "      <td>9</td>\n",
       "    </tr>\n",
       "    <tr>\n",
       "      <th>2</th>\n",
       "      <td>None</td>\n",
       "      <td>Logged In</td>\n",
       "      <td>Micah</td>\n",
       "      <td>M</td>\n",
       "      <td>86</td>\n",
       "      <td>Long</td>\n",
       "      <td>None</td>\n",
       "      <td>free</td>\n",
       "      <td>Boston-Cambridge-Newton, MA-NH</td>\n",
       "      <td>PUT</td>\n",
       "      <td>Thumbs Up</td>\n",
       "      <td>1.538332e+12</td>\n",
       "      <td>8</td>\n",
       "      <td>None</td>\n",
       "      <td>307</td>\n",
       "      <td>1538353376000</td>\n",
       "      <td>\"Mozilla/5.0 (Windows NT 6.1; WOW64) AppleWebKit/537.36 (KHTML, like Gecko) Chrome/37.0.2062.103 Safari/537.36\"</td>\n",
       "      <td>9</td>\n",
       "    </tr>\n",
       "    <tr>\n",
       "      <th>3</th>\n",
       "      <td>None</td>\n",
       "      <td>Logged In</td>\n",
       "      <td>Alexi</td>\n",
       "      <td>F</td>\n",
       "      <td>4</td>\n",
       "      <td>Warren</td>\n",
       "      <td>None</td>\n",
       "      <td>paid</td>\n",
       "      <td>Spokane-Spokane Valley, WA</td>\n",
       "      <td>GET</td>\n",
       "      <td>Downgrade</td>\n",
       "      <td>1.532483e+12</td>\n",
       "      <td>53</td>\n",
       "      <td>None</td>\n",
       "      <td>200</td>\n",
       "      <td>1538354749000</td>\n",
       "      <td>Mozilla/5.0 (Windows NT 6.1; WOW64; rv:32.0) Gecko/20100101 Firefox/32.0</td>\n",
       "      <td>54</td>\n",
       "    </tr>\n",
       "    <tr>\n",
       "      <th>4</th>\n",
       "      <td>None</td>\n",
       "      <td>Logged In</td>\n",
       "      <td>Alexi</td>\n",
       "      <td>F</td>\n",
       "      <td>7</td>\n",
       "      <td>Warren</td>\n",
       "      <td>None</td>\n",
       "      <td>paid</td>\n",
       "      <td>Spokane-Spokane Valley, WA</td>\n",
       "      <td>PUT</td>\n",
       "      <td>Thumbs Up</td>\n",
       "      <td>1.532483e+12</td>\n",
       "      <td>53</td>\n",
       "      <td>None</td>\n",
       "      <td>307</td>\n",
       "      <td>1538355255000</td>\n",
       "      <td>Mozilla/5.0 (Windows NT 6.1; WOW64; rv:32.0) Gecko/20100101 Firefox/32.0</td>\n",
       "      <td>54</td>\n",
       "    </tr>\n",
       "    <tr>\n",
       "      <th>5</th>\n",
       "      <td>None</td>\n",
       "      <td>Logged In</td>\n",
       "      <td>Micah</td>\n",
       "      <td>M</td>\n",
       "      <td>95</td>\n",
       "      <td>Long</td>\n",
       "      <td>None</td>\n",
       "      <td>free</td>\n",
       "      <td>Boston-Cambridge-Newton, MA-NH</td>\n",
       "      <td>PUT</td>\n",
       "      <td>Thumbs Down</td>\n",
       "      <td>1.538332e+12</td>\n",
       "      <td>8</td>\n",
       "      <td>None</td>\n",
       "      <td>307</td>\n",
       "      <td>1538355306000</td>\n",
       "      <td>\"Mozilla/5.0 (Windows NT 6.1; WOW64) AppleWebKit/537.36 (KHTML, like Gecko) Chrome/37.0.2062.103 Safari/537.36\"</td>\n",
       "      <td>9</td>\n",
       "    </tr>\n",
       "    <tr>\n",
       "      <th>6</th>\n",
       "      <td>None</td>\n",
       "      <td>Logged In</td>\n",
       "      <td>Micah</td>\n",
       "      <td>M</td>\n",
       "      <td>97</td>\n",
       "      <td>Long</td>\n",
       "      <td>None</td>\n",
       "      <td>free</td>\n",
       "      <td>Boston-Cambridge-Newton, MA-NH</td>\n",
       "      <td>GET</td>\n",
       "      <td>Home</td>\n",
       "      <td>1.538332e+12</td>\n",
       "      <td>8</td>\n",
       "      <td>None</td>\n",
       "      <td>200</td>\n",
       "      <td>1538355504000</td>\n",
       "      <td>\"Mozilla/5.0 (Windows NT 6.1; WOW64) AppleWebKit/537.36 (KHTML, like Gecko) Chrome/37.0.2062.103 Safari/537.36\"</td>\n",
       "      <td>9</td>\n",
       "    </tr>\n",
       "    <tr>\n",
       "      <th>7</th>\n",
       "      <td>None</td>\n",
       "      <td>Logged In</td>\n",
       "      <td>Micah</td>\n",
       "      <td>M</td>\n",
       "      <td>99</td>\n",
       "      <td>Long</td>\n",
       "      <td>None</td>\n",
       "      <td>free</td>\n",
       "      <td>Boston-Cambridge-Newton, MA-NH</td>\n",
       "      <td>PUT</td>\n",
       "      <td>Logout</td>\n",
       "      <td>1.538332e+12</td>\n",
       "      <td>8</td>\n",
       "      <td>None</td>\n",
       "      <td>307</td>\n",
       "      <td>1538355687000</td>\n",
       "      <td>\"Mozilla/5.0 (Windows NT 6.1; WOW64) AppleWebKit/537.36 (KHTML, like Gecko) Chrome/37.0.2062.103 Safari/537.36\"</td>\n",
       "      <td>9</td>\n",
       "    </tr>\n",
       "    <tr>\n",
       "      <th>8</th>\n",
       "      <td>None</td>\n",
       "      <td>Logged In</td>\n",
       "      <td>Ashlynn</td>\n",
       "      <td>F</td>\n",
       "      <td>9</td>\n",
       "      <td>Williams</td>\n",
       "      <td>None</td>\n",
       "      <td>free</td>\n",
       "      <td>Tallahassee, FL</td>\n",
       "      <td>PUT</td>\n",
       "      <td>Thumbs Up</td>\n",
       "      <td>1.537365e+12</td>\n",
       "      <td>217</td>\n",
       "      <td>None</td>\n",
       "      <td>307</td>\n",
       "      <td>1538355711000</td>\n",
       "      <td>\"Mozilla/5.0 (Macintosh; Intel Mac OS X 10_9_4) AppleWebKit/537.36 (KHTML, like Gecko) Chrome/37.0.2062.94 Safari/537.36\"</td>\n",
       "      <td>74</td>\n",
       "    </tr>\n",
       "    <tr>\n",
       "      <th>9</th>\n",
       "      <td>None</td>\n",
       "      <td>Logged Out</td>\n",
       "      <td>None</td>\n",
       "      <td>None</td>\n",
       "      <td>100</td>\n",
       "      <td>None</td>\n",
       "      <td>None</td>\n",
       "      <td>free</td>\n",
       "      <td>None</td>\n",
       "      <td>GET</td>\n",
       "      <td>Home</td>\n",
       "      <td>NaN</td>\n",
       "      <td>8</td>\n",
       "      <td>None</td>\n",
       "      <td>200</td>\n",
       "      <td>1538355745000</td>\n",
       "      <td>None</td>\n",
       "      <td></td>\n",
       "    </tr>\n",
       "    <tr>\n",
       "      <th>10</th>\n",
       "      <td>None</td>\n",
       "      <td>Logged Out</td>\n",
       "      <td>None</td>\n",
       "      <td>None</td>\n",
       "      <td>101</td>\n",
       "      <td>None</td>\n",
       "      <td>None</td>\n",
       "      <td>free</td>\n",
       "      <td>None</td>\n",
       "      <td>GET</td>\n",
       "      <td>Help</td>\n",
       "      <td>NaN</td>\n",
       "      <td>8</td>\n",
       "      <td>None</td>\n",
       "      <td>200</td>\n",
       "      <td>1538355807000</td>\n",
       "      <td>None</td>\n",
       "      <td></td>\n",
       "    </tr>\n",
       "    <tr>\n",
       "      <th>11</th>\n",
       "      <td>None</td>\n",
       "      <td>Logged Out</td>\n",
       "      <td>None</td>\n",
       "      <td>None</td>\n",
       "      <td>102</td>\n",
       "      <td>None</td>\n",
       "      <td>None</td>\n",
       "      <td>free</td>\n",
       "      <td>None</td>\n",
       "      <td>GET</td>\n",
       "      <td>Home</td>\n",
       "      <td>NaN</td>\n",
       "      <td>8</td>\n",
       "      <td>None</td>\n",
       "      <td>200</td>\n",
       "      <td>1538355841000</td>\n",
       "      <td>None</td>\n",
       "      <td></td>\n",
       "    </tr>\n",
       "    <tr>\n",
       "      <th>12</th>\n",
       "      <td>None</td>\n",
       "      <td>Logged Out</td>\n",
       "      <td>None</td>\n",
       "      <td>None</td>\n",
       "      <td>103</td>\n",
       "      <td>None</td>\n",
       "      <td>None</td>\n",
       "      <td>free</td>\n",
       "      <td>None</td>\n",
       "      <td>PUT</td>\n",
       "      <td>Login</td>\n",
       "      <td>NaN</td>\n",
       "      <td>8</td>\n",
       "      <td>None</td>\n",
       "      <td>307</td>\n",
       "      <td>1538355842000</td>\n",
       "      <td>None</td>\n",
       "      <td></td>\n",
       "    </tr>\n",
       "    <tr>\n",
       "      <th>13</th>\n",
       "      <td>None</td>\n",
       "      <td>Logged In</td>\n",
       "      <td>Micah</td>\n",
       "      <td>M</td>\n",
       "      <td>104</td>\n",
       "      <td>Long</td>\n",
       "      <td>None</td>\n",
       "      <td>free</td>\n",
       "      <td>Boston-Cambridge-Newton, MA-NH</td>\n",
       "      <td>GET</td>\n",
       "      <td>Home</td>\n",
       "      <td>1.538332e+12</td>\n",
       "      <td>8</td>\n",
       "      <td>None</td>\n",
       "      <td>200</td>\n",
       "      <td>1538355855000</td>\n",
       "      <td>\"Mozilla/5.0 (Windows NT 6.1; WOW64) AppleWebKit/537.36 (KHTML, like Gecko) Chrome/37.0.2062.103 Safari/537.36\"</td>\n",
       "      <td>9</td>\n",
       "    </tr>\n",
       "    <tr>\n",
       "      <th>14</th>\n",
       "      <td>None</td>\n",
       "      <td>Logged In</td>\n",
       "      <td>Colin</td>\n",
       "      <td>M</td>\n",
       "      <td>71</td>\n",
       "      <td>Freeman</td>\n",
       "      <td>None</td>\n",
       "      <td>paid</td>\n",
       "      <td>Bakersfield, CA</td>\n",
       "      <td>PUT</td>\n",
       "      <td>Thumbs Down</td>\n",
       "      <td>1.538173e+12</td>\n",
       "      <td>29</td>\n",
       "      <td>None</td>\n",
       "      <td>307</td>\n",
       "      <td>1538356524000</td>\n",
       "      <td>Mozilla/5.0 (Windows NT 6.1; WOW64; rv:31.0) Gecko/20100101 Firefox/31.0</td>\n",
       "      <td>30</td>\n",
       "    </tr>\n",
       "    <tr>\n",
       "      <th>15</th>\n",
       "      <td>None</td>\n",
       "      <td>Logged In</td>\n",
       "      <td>Warren</td>\n",
       "      <td>M</td>\n",
       "      <td>1</td>\n",
       "      <td>Miller</td>\n",
       "      <td>None</td>\n",
       "      <td>free</td>\n",
       "      <td>Baltimore-Columbia-Towson, MD</td>\n",
       "      <td>PUT</td>\n",
       "      <td>Logout</td>\n",
       "      <td>1.538170e+12</td>\n",
       "      <td>240</td>\n",
       "      <td>None</td>\n",
       "      <td>307</td>\n",
       "      <td>1538356651000</td>\n",
       "      <td>Mozilla/5.0 (Windows NT 6.0; rv:31.0) Gecko/20100101 Firefox/31.0</td>\n",
       "      <td>4</td>\n",
       "    </tr>\n",
       "    <tr>\n",
       "      <th>16</th>\n",
       "      <td>None</td>\n",
       "      <td>Logged Out</td>\n",
       "      <td>None</td>\n",
       "      <td>None</td>\n",
       "      <td>2</td>\n",
       "      <td>None</td>\n",
       "      <td>None</td>\n",
       "      <td>free</td>\n",
       "      <td>None</td>\n",
       "      <td>GET</td>\n",
       "      <td>Home</td>\n",
       "      <td>NaN</td>\n",
       "      <td>240</td>\n",
       "      <td>None</td>\n",
       "      <td>200</td>\n",
       "      <td>1538356678000</td>\n",
       "      <td>None</td>\n",
       "      <td></td>\n",
       "    </tr>\n",
       "    <tr>\n",
       "      <th>17</th>\n",
       "      <td>None</td>\n",
       "      <td>Logged Out</td>\n",
       "      <td>None</td>\n",
       "      <td>None</td>\n",
       "      <td>3</td>\n",
       "      <td>None</td>\n",
       "      <td>None</td>\n",
       "      <td>free</td>\n",
       "      <td>None</td>\n",
       "      <td>PUT</td>\n",
       "      <td>Login</td>\n",
       "      <td>NaN</td>\n",
       "      <td>240</td>\n",
       "      <td>None</td>\n",
       "      <td>307</td>\n",
       "      <td>1538356679000</td>\n",
       "      <td>None</td>\n",
       "      <td></td>\n",
       "    </tr>\n",
       "    <tr>\n",
       "      <th>18</th>\n",
       "      <td>None</td>\n",
       "      <td>Logged In</td>\n",
       "      <td>Warren</td>\n",
       "      <td>M</td>\n",
       "      <td>4</td>\n",
       "      <td>Miller</td>\n",
       "      <td>None</td>\n",
       "      <td>free</td>\n",
       "      <td>Baltimore-Columbia-Towson, MD</td>\n",
       "      <td>GET</td>\n",
       "      <td>Home</td>\n",
       "      <td>1.538170e+12</td>\n",
       "      <td>240</td>\n",
       "      <td>None</td>\n",
       "      <td>200</td>\n",
       "      <td>1538356686000</td>\n",
       "      <td>Mozilla/5.0 (Windows NT 6.0; rv:31.0) Gecko/20100101 Firefox/31.0</td>\n",
       "      <td>4</td>\n",
       "    </tr>\n",
       "    <tr>\n",
       "      <th>19</th>\n",
       "      <td>None</td>\n",
       "      <td>Logged In</td>\n",
       "      <td>Ashlynn</td>\n",
       "      <td>F</td>\n",
       "      <td>15</td>\n",
       "      <td>Williams</td>\n",
       "      <td>None</td>\n",
       "      <td>free</td>\n",
       "      <td>Tallahassee, FL</td>\n",
       "      <td>PUT</td>\n",
       "      <td>Add to Playlist</td>\n",
       "      <td>1.537365e+12</td>\n",
       "      <td>217</td>\n",
       "      <td>None</td>\n",
       "      <td>200</td>\n",
       "      <td>1538356816000</td>\n",
       "      <td>\"Mozilla/5.0 (Macintosh; Intel Mac OS X 10_9_4) AppleWebKit/537.36 (KHTML, like Gecko) Chrome/37.0.2062.94 Safari/537.36\"</td>\n",
       "      <td>74</td>\n",
       "    </tr>\n",
       "  </tbody>\n",
       "</table>\n",
       "</div>"
      ],
      "text/plain": [
       "   artist        auth firstName gender  itemInSession  lastName length level                        location method             page  registration  sessionId  song  status             ts                                                                                                                  userAgent userId\n",
       "0   None   Logged In   Colin     M      54             Freeman   None   paid  Bakersfield, CA                 PUT    Add to Playlist  1.538173e+12  29         None  200     1538352905000  Mozilla/5.0 (Windows NT 6.1; WOW64; rv:31.0) Gecko/20100101 Firefox/31.0                                                   30   \n",
       "1   None   Logged In   Micah     M      84             Long      None   free  Boston-Cambridge-Newton, MA-NH  GET    Roll Advert      1.538332e+12  8          None  200     1538353150000  \"Mozilla/5.0 (Windows NT 6.1; WOW64) AppleWebKit/537.36 (KHTML, like Gecko) Chrome/37.0.2062.103 Safari/537.36\"            9    \n",
       "2   None   Logged In   Micah     M      86             Long      None   free  Boston-Cambridge-Newton, MA-NH  PUT    Thumbs Up        1.538332e+12  8          None  307     1538353376000  \"Mozilla/5.0 (Windows NT 6.1; WOW64) AppleWebKit/537.36 (KHTML, like Gecko) Chrome/37.0.2062.103 Safari/537.36\"            9    \n",
       "3   None   Logged In   Alexi     F      4              Warren    None   paid  Spokane-Spokane Valley, WA      GET    Downgrade        1.532483e+12  53         None  200     1538354749000  Mozilla/5.0 (Windows NT 6.1; WOW64; rv:32.0) Gecko/20100101 Firefox/32.0                                                   54   \n",
       "4   None   Logged In   Alexi     F      7              Warren    None   paid  Spokane-Spokane Valley, WA      PUT    Thumbs Up        1.532483e+12  53         None  307     1538355255000  Mozilla/5.0 (Windows NT 6.1; WOW64; rv:32.0) Gecko/20100101 Firefox/32.0                                                   54   \n",
       "5   None   Logged In   Micah     M      95             Long      None   free  Boston-Cambridge-Newton, MA-NH  PUT    Thumbs Down      1.538332e+12  8          None  307     1538355306000  \"Mozilla/5.0 (Windows NT 6.1; WOW64) AppleWebKit/537.36 (KHTML, like Gecko) Chrome/37.0.2062.103 Safari/537.36\"            9    \n",
       "6   None   Logged In   Micah     M      97             Long      None   free  Boston-Cambridge-Newton, MA-NH  GET    Home             1.538332e+12  8          None  200     1538355504000  \"Mozilla/5.0 (Windows NT 6.1; WOW64) AppleWebKit/537.36 (KHTML, like Gecko) Chrome/37.0.2062.103 Safari/537.36\"            9    \n",
       "7   None   Logged In   Micah     M      99             Long      None   free  Boston-Cambridge-Newton, MA-NH  PUT    Logout           1.538332e+12  8          None  307     1538355687000  \"Mozilla/5.0 (Windows NT 6.1; WOW64) AppleWebKit/537.36 (KHTML, like Gecko) Chrome/37.0.2062.103 Safari/537.36\"            9    \n",
       "8   None   Logged In   Ashlynn   F      9              Williams  None   free  Tallahassee, FL                 PUT    Thumbs Up        1.537365e+12  217        None  307     1538355711000  \"Mozilla/5.0 (Macintosh; Intel Mac OS X 10_9_4) AppleWebKit/537.36 (KHTML, like Gecko) Chrome/37.0.2062.94 Safari/537.36\"  74   \n",
       "9   None   Logged Out  None      None   100            None      None   free  None                            GET    Home            NaN            8          None  200     1538355745000  None                                                                                                                            \n",
       "10  None   Logged Out  None      None   101            None      None   free  None                            GET    Help            NaN            8          None  200     1538355807000  None                                                                                                                            \n",
       "11  None   Logged Out  None      None   102            None      None   free  None                            GET    Home            NaN            8          None  200     1538355841000  None                                                                                                                            \n",
       "12  None   Logged Out  None      None   103            None      None   free  None                            PUT    Login           NaN            8          None  307     1538355842000  None                                                                                                                            \n",
       "13  None   Logged In   Micah     M      104            Long      None   free  Boston-Cambridge-Newton, MA-NH  GET    Home             1.538332e+12  8          None  200     1538355855000  \"Mozilla/5.0 (Windows NT 6.1; WOW64) AppleWebKit/537.36 (KHTML, like Gecko) Chrome/37.0.2062.103 Safari/537.36\"            9    \n",
       "14  None   Logged In   Colin     M      71             Freeman   None   paid  Bakersfield, CA                 PUT    Thumbs Down      1.538173e+12  29         None  307     1538356524000  Mozilla/5.0 (Windows NT 6.1; WOW64; rv:31.0) Gecko/20100101 Firefox/31.0                                                   30   \n",
       "15  None   Logged In   Warren    M      1              Miller    None   free  Baltimore-Columbia-Towson, MD   PUT    Logout           1.538170e+12  240        None  307     1538356651000  Mozilla/5.0 (Windows NT 6.0; rv:31.0) Gecko/20100101 Firefox/31.0                                                          4    \n",
       "16  None   Logged Out  None      None   2              None      None   free  None                            GET    Home            NaN            240        None  200     1538356678000  None                                                                                                                            \n",
       "17  None   Logged Out  None      None   3              None      None   free  None                            PUT    Login           NaN            240        None  307     1538356679000  None                                                                                                                            \n",
       "18  None   Logged In   Warren    M      4              Miller    None   free  Baltimore-Columbia-Towson, MD   GET    Home             1.538170e+12  240        None  200     1538356686000  Mozilla/5.0 (Windows NT 6.0; rv:31.0) Gecko/20100101 Firefox/31.0                                                          4    \n",
       "19  None   Logged In   Ashlynn   F      15             Williams  None   free  Tallahassee, FL                 PUT    Add to Playlist  1.537365e+12  217        None  200     1538356816000  \"Mozilla/5.0 (Macintosh; Intel Mac OS X 10_9_4) AppleWebKit/537.36 (KHTML, like Gecko) Chrome/37.0.2062.94 Safari/537.36\"  74   "
      ]
     },
     "execution_count": 26,
     "metadata": {},
     "output_type": "execute_result"
    }
   ],
   "source": [
    "# show first 20 rows with missing values in 'artist' as pandas dataframe\n",
    "df.where(isnan(df['artist']) | df['artist'].isNull()).toPandas().head(20)"
   ]
  },
  {
   "cell_type": "markdown",
   "metadata": {},
   "source": [
    "**It seems like rows with missing values in 'artist' have events other than 'NextSong' in column 'page'.**"
   ]
  },
  {
   "cell_type": "code",
   "execution_count": 27,
   "metadata": {},
   "outputs": [
    {
     "name": "stdout",
     "output_type": "stream",
     "text": [
      "+-------------------------+\n",
      "|page                     |\n",
      "+-------------------------+\n",
      "|Cancel                   |\n",
      "|Submit Downgrade         |\n",
      "|Thumbs Down              |\n",
      "|Home                     |\n",
      "|Downgrade                |\n",
      "|Roll Advert              |\n",
      "|Logout                   |\n",
      "|Save Settings            |\n",
      "|Cancellation Confirmation|\n",
      "|About                    |\n",
      "|Submit Registration      |\n",
      "|Settings                 |\n",
      "|Login                    |\n",
      "|Register                 |\n",
      "|Add to Playlist          |\n",
      "|Add Friend               |\n",
      "|Thumbs Up                |\n",
      "|Help                     |\n",
      "|Upgrade                  |\n",
      "|Error                    |\n",
      "|Submit Upgrade           |\n",
      "+-------------------------+\n",
      "\n"
     ]
    }
   ],
   "source": [
    "# print distinct values for column 'page' where 'artist' has missing value\n",
    "df.select('page').where(isnan(df['artist']) | df['artist'].isNull()).distinct().show(50, truncate=False)"
   ]
  },
  {
   "cell_type": "code",
   "execution_count": 28,
   "metadata": {},
   "outputs": [
    {
     "data": {
      "text/plain": [
       "{Row(page='NextSong')}"
      ]
     },
     "execution_count": 28,
     "metadata": {},
     "output_type": "execute_result"
    }
   ],
   "source": [
    "# compare distinct values for column 'page' for entire dataset and subset only including rows where 'artist' has missing value\n",
    "set(df.select('page').distinct().collect()) - set(\n",
    "    df.select('page').where(isnan(df['artist']) | df['artist'].isNull()).distinct().collect())"
   ]
  },
  {
   "cell_type": "markdown",
   "metadata": {},
   "source": [
    "**There is one value in column 'page' missing - 'NextSong' - for rows where 'artist' has a missing value. This most likely means that the rows where the artist and song information is missing relates to other types of events and are therefore not song related. All types of events would be good to keep in the analysis of user behavior so I wouldn't remove these rows with missing values.**"
   ]
  },
  {
   "cell_type": "code",
   "execution_count": 29,
   "metadata": {},
   "outputs": [],
   "source": [
    "# drop rows with no user data (Logged Out or Guest)\n",
    "df_clean = df.where(col('userId') != '')"
   ]
  },
  {
   "cell_type": "code",
   "execution_count": 30,
   "metadata": {},
   "outputs": [
    {
     "name": "stdout",
     "output_type": "stream",
     "text": [
      "278154\n"
     ]
    }
   ],
   "source": [
    "# number of rows after removal\n",
    "print(df_clean.count())"
   ]
  },
  {
   "cell_type": "code",
   "execution_count": 31,
   "metadata": {},
   "outputs": [
    {
     "name": "stdout",
     "output_type": "stream",
     "text": [
      "+------+----+---------+------+-------------+--------+------+-----+--------+------+----+------------+---------+-----+------+---+---------+------+\n",
      "|artist|auth|firstName|gender|itemInSession|lastName|length|level|location|method|page|registration|sessionId| song|status| ts|userAgent|userId|\n",
      "+------+----+---------+------+-------------+--------+------+-----+--------+------+----+------------+---------+-----+------+---+---------+------+\n",
      "| 50046|   0|        0|     0|            0|       0| 50046|    0|       0|     0|   0|           0|        0|50046|     0|  0|        0|     0|\n",
      "+------+----+---------+------+-------------+--------+------+-----+--------+------+----+------------+---------+-----+------+---+---------+------+\n",
      "\n"
     ]
    }
   ],
   "source": [
    "# check NaNs and Nulls in new dataframe\n",
    "df_clean.select([count(when(isnan(c) | col(c).isNull(), c)).alias(c) for c in df_clean.columns]).show()"
   ]
  },
  {
   "cell_type": "code",
   "execution_count": 32,
   "metadata": {},
   "outputs": [],
   "source": [
    "# udf to convert timestamp to correct format\n",
    "# source: https://stackoverflow.com/questions/45977449/convert-timestamp-to-date-in-spark-dataframe\n",
    "get_timestamp = udf(lambda x: datetime.datetime.fromtimestamp(x/1000.0).strftime('%Y-%m-%d %H:%M:%S'))\n",
    "\n",
    "# apply udf to registration timestamp\n",
    "df_clean = df_clean.withColumn('registration', get_timestamp(df_clean['registration']))\n",
    "\n",
    "# apply udf to ts timestamp\n",
    "df_clean = df_clean.withColumn('ts', get_timestamp(df_clean['ts']))"
   ]
  },
  {
   "cell_type": "code",
   "execution_count": 33,
   "metadata": {},
   "outputs": [
    {
     "name": "stdout",
     "output_type": "stream",
     "text": [
      "+-------------------+\n",
      "|       registration|\n",
      "+-------------------+\n",
      "|2018-09-28 22:22:42|\n",
      "|2018-09-30 18:20:30|\n",
      "|2018-09-28 22:22:42|\n",
      "|2018-09-30 18:20:30|\n",
      "|2018-09-28 22:22:42|\n",
      "|2018-09-30 18:20:30|\n",
      "|2018-09-30 18:20:30|\n",
      "|2018-09-28 22:22:42|\n",
      "|2018-09-28 22:22:42|\n",
      "|2018-09-28 22:22:42|\n",
      "|2018-09-30 18:20:30|\n",
      "|2018-09-30 18:20:30|\n",
      "|2018-09-28 22:22:42|\n",
      "|2018-09-30 18:20:30|\n",
      "|2018-09-30 18:20:30|\n",
      "|2018-09-28 22:22:42|\n",
      "|2018-09-30 18:20:30|\n",
      "|2018-09-19 13:53:39|\n",
      "|2018-09-28 22:22:42|\n",
      "|2018-09-30 18:20:30|\n",
      "+-------------------+\n",
      "only showing top 20 rows\n",
      "\n"
     ]
    }
   ],
   "source": [
    "df_clean.select('registration').show()"
   ]
  },
  {
   "cell_type": "code",
   "execution_count": 34,
   "metadata": {},
   "outputs": [
    {
     "name": "stdout",
     "output_type": "stream",
     "text": [
      "+-------------------+\n",
      "|                 ts|\n",
      "+-------------------+\n",
      "|2018-10-01 00:01:57|\n",
      "|2018-10-01 00:03:00|\n",
      "|2018-10-01 00:06:34|\n",
      "|2018-10-01 00:06:56|\n",
      "|2018-10-01 00:11:16|\n",
      "|2018-10-01 00:11:18|\n",
      "|2018-10-01 00:14:46|\n",
      "|2018-10-01 00:14:59|\n",
      "|2018-10-01 00:15:05|\n",
      "|2018-10-01 00:18:04|\n",
      "|2018-10-01 00:19:06|\n",
      "|2018-10-01 00:19:10|\n",
      "|2018-10-01 00:20:18|\n",
      "|2018-10-01 00:22:55|\n",
      "|2018-10-01 00:22:56|\n",
      "|2018-10-01 00:24:01|\n",
      "|2018-10-01 00:26:16|\n",
      "|2018-10-01 00:27:48|\n",
      "|2018-10-01 00:28:07|\n",
      "|2018-10-01 00:29:04|\n",
      "+-------------------+\n",
      "only showing top 20 rows\n",
      "\n"
     ]
    }
   ],
   "source": [
    "df_clean.select('ts').show()"
   ]
  },
  {
   "cell_type": "code",
   "execution_count": 35,
   "metadata": {},
   "outputs": [
    {
     "name": "stdout",
     "output_type": "stream",
     "text": [
      "+--------+---------+------+\n",
      "|year(ts)|month(ts)| count|\n",
      "+--------+---------+------+\n",
      "|    2018|       10|144916|\n",
      "|    2018|       11|133234|\n",
      "|    2018|       12|     4|\n",
      "+--------+---------+------+\n",
      "\n"
     ]
    }
   ],
   "source": [
    "# time period for all events in dataset\n",
    "df_clean.groupBy(year('ts'), month('ts')).count().sort(month('ts')).show()"
   ]
  },
  {
   "cell_type": "markdown",
   "metadata": {},
   "source": [
    "**All events in the dataset happened during Oct-Dec 2018.**"
   ]
  },
  {
   "cell_type": "code",
   "execution_count": 36,
   "metadata": {},
   "outputs": [],
   "source": [
    "# split location column into two, one column with location name and one column with the state\n",
    "df_clean = df_clean.withColumn('location_name', split(col('location'), ',').getItem(0))\n",
    "df_clean = df_clean.withColumn('state', split(col('location'), ',').getItem(1))\n",
    "# keep only the first state\n",
    "df_clean = df_clean.withColumn('state', split(col('state'), '-').getItem(0))"
   ]
  },
  {
   "cell_type": "code",
   "execution_count": 37,
   "metadata": {},
   "outputs": [
    {
     "name": "stdout",
     "output_type": "stream",
     "text": [
      "+-----------------------+\n",
      "|location_name          |\n",
      "+-----------------------+\n",
      "|Bakersfield            |\n",
      "|Boston-Cambridge-Newton|\n",
      "|Bakersfield            |\n",
      "|Boston-Cambridge-Newton|\n",
      "|Bakersfield            |\n",
      "|Boston-Cambridge-Newton|\n",
      "|Boston-Cambridge-Newton|\n",
      "|Bakersfield            |\n",
      "|Bakersfield            |\n",
      "|Bakersfield            |\n",
      "|Boston-Cambridge-Newton|\n",
      "|Boston-Cambridge-Newton|\n",
      "|Bakersfield            |\n",
      "|Boston-Cambridge-Newton|\n",
      "|Boston-Cambridge-Newton|\n",
      "|Bakersfield            |\n",
      "|Boston-Cambridge-Newton|\n",
      "|Tallahassee            |\n",
      "|Bakersfield            |\n",
      "|Boston-Cambridge-Newton|\n",
      "+-----------------------+\n",
      "only showing top 20 rows\n",
      "\n"
     ]
    }
   ],
   "source": [
    "df_clean.select('location_name').show(truncate=False)"
   ]
  },
  {
   "cell_type": "code",
   "execution_count": 38,
   "metadata": {
    "scrolled": false
   },
   "outputs": [
    {
     "name": "stdout",
     "output_type": "stream",
     "text": [
      "+-----+\n",
      "|state|\n",
      "+-----+\n",
      "|   CA|\n",
      "|   MA|\n",
      "|   CA|\n",
      "|   MA|\n",
      "|   CA|\n",
      "|   MA|\n",
      "|   MA|\n",
      "|   CA|\n",
      "|   CA|\n",
      "|   CA|\n",
      "|   MA|\n",
      "|   MA|\n",
      "|   CA|\n",
      "|   MA|\n",
      "|   MA|\n",
      "|   CA|\n",
      "|   MA|\n",
      "|   FL|\n",
      "|   CA|\n",
      "|   MA|\n",
      "+-----+\n",
      "only showing top 20 rows\n",
      "\n"
     ]
    }
   ],
   "source": [
    "df_clean.select('state').show()"
   ]
  },
  {
   "cell_type": "markdown",
   "metadata": {},
   "source": [
    "# Exploratory Data Analysis\n",
    "When you're working with the full dataset, perform EDA by loading a small subset of the data and doing basic manipulations within Spark. In this workspace, you are already provided a small subset of data you can explore.\n",
    "\n",
    "### Define Churn\n",
    "\n",
    "Once you've done some preliminary analysis, create a column `Churn` to use as the label for your model. I suggest using the `Cancellation Confirmation` events to define your churn, which happen for both paid and free users. As a bonus task, you can also look into the `Downgrade` events.\n",
    "\n",
    "### Explore Data\n",
    "Once you've defined churn, perform some exploratory data analysis to observe the behavior for users who stayed vs users who churned. You can start by exploring aggregates on these two groups of users, observing how much of a specific action they experienced per a certain time unit or number of songs played."
   ]
  },
  {
   "cell_type": "code",
   "execution_count": 39,
   "metadata": {},
   "outputs": [
    {
     "name": "stdout",
     "output_type": "stream",
     "text": [
      "+-----+------+\n",
      "|churn| count|\n",
      "+-----+------+\n",
      "|    1|    52|\n",
      "|    0|278102|\n",
      "+-----+------+\n",
      "\n"
     ]
    }
   ],
   "source": [
    "# create new column 'churn'\n",
    "# churn = 1 (yes) if column page = 'Cancellation Confirmation', else 0 (No)\n",
    "df_clean = df_clean.withColumn('churn', when(col('page') == 'Cancellation Confirmation', 1).otherwise(0))\n",
    "\n",
    "# Show counts per value for 'churn'\n",
    "df_clean.groupBy('churn').count().show()"
   ]
  },
  {
   "cell_type": "markdown",
   "metadata": {},
   "source": [
    "**I have decided to use a quite strict but simple definition of churn, where a user is considered to have churned only when they have deleted their account and completely stopped using the service. This is easily accessed in the data as 'page == Cancellation Confirmation' and applies to both free and paid plans the same way.**"
   ]
  },
  {
   "cell_type": "code",
   "execution_count": 40,
   "metadata": {
    "scrolled": true
   },
   "outputs": [
    {
     "data": {
      "text/plain": [
       "['125',\n",
       " '51',\n",
       " '54',\n",
       " '100014',\n",
       " '101',\n",
       " '29',\n",
       " '100021',\n",
       " '87',\n",
       " '73',\n",
       " '3',\n",
       " '28',\n",
       " '100022',\n",
       " '100025',\n",
       " '300007',\n",
       " '100006',\n",
       " '18',\n",
       " '70',\n",
       " '100005',\n",
       " '17',\n",
       " '100007',\n",
       " '300001',\n",
       " '100009',\n",
       " '100015',\n",
       " '200024',\n",
       " '100003',\n",
       " '103',\n",
       " '100024',\n",
       " '53',\n",
       " '122',\n",
       " '200017',\n",
       " '58',\n",
       " '100011',\n",
       " '100019',\n",
       " '100012',\n",
       " '200018',\n",
       " '200016',\n",
       " '200020',\n",
       " '106',\n",
       " '143',\n",
       " '32',\n",
       " '200001',\n",
       " '105',\n",
       " '200011',\n",
       " '100023',\n",
       " '100013',\n",
       " '100017',\n",
       " '121',\n",
       " '12',\n",
       " '200015',\n",
       " '129',\n",
       " '200021',\n",
       " '100001']"
      ]
     },
     "execution_count": 40,
     "metadata": {},
     "output_type": "execute_result"
    }
   ],
   "source": [
    "# get userId's where churn = 1\n",
    "churned_users = df_clean.select('userId').where(col('churn') == 1).groupby('userId').count()\n",
    "\n",
    "# only keep values from 'userId' column and store as list\n",
    "# source: https://stackoverflow.com/questions/38610559/convert-spark-dataframe-column-to-python-list\n",
    "churned_users = [row['userId'] for row in churned_users.collect()]\n",
    "\n",
    "# print userId's for churned users\n",
    "churned_users"
   ]
  },
  {
   "cell_type": "code",
   "execution_count": 41,
   "metadata": {},
   "outputs": [
    {
     "name": "stdout",
     "output_type": "stream",
     "text": [
      "+-----+------+\n",
      "|churn| count|\n",
      "+-----+------+\n",
      "|    1| 44864|\n",
      "|    0|233290|\n",
      "+-----+------+\n",
      "\n"
     ]
    }
   ],
   "source": [
    "# set column 'churn' as 1 for all rows for a churned user\n",
    "df_clean = df_clean.withColumn('churn', when((df_clean.userId).isin(churned_users), 1).otherwise(0))\n",
    "\n",
    "# Show counts per value for 'churn'\n",
    "df_clean.groupBy('churn').count().show()"
   ]
  },
  {
   "cell_type": "code",
   "execution_count": 42,
   "metadata": {
    "scrolled": true
   },
   "outputs": [
    {
     "data": {
      "text/html": [
       "<div>\n",
       "<style scoped>\n",
       "    .dataframe tbody tr th:only-of-type {\n",
       "        vertical-align: middle;\n",
       "    }\n",
       "\n",
       "    .dataframe tbody tr th {\n",
       "        vertical-align: top;\n",
       "    }\n",
       "\n",
       "    .dataframe thead th {\n",
       "        text-align: right;\n",
       "    }\n",
       "</style>\n",
       "<table border=\"1\" class=\"dataframe\">\n",
       "  <thead>\n",
       "    <tr style=\"text-align: right;\">\n",
       "      <th></th>\n",
       "      <th>itemInSession</th>\n",
       "      <th>level</th>\n",
       "      <th>method</th>\n",
       "      <th>page</th>\n",
       "      <th>sessionId</th>\n",
       "      <th>ts</th>\n",
       "      <th>userId</th>\n",
       "      <th>churn</th>\n",
       "    </tr>\n",
       "  </thead>\n",
       "  <tbody>\n",
       "    <tr>\n",
       "      <th>0</th>\n",
       "      <td>0</td>\n",
       "      <td>paid</td>\n",
       "      <td>PUT</td>\n",
       "      <td>NextSong</td>\n",
       "      <td>37</td>\n",
       "      <td>2018-10-10 13:12:16</td>\n",
       "      <td>100014</td>\n",
       "      <td>1</td>\n",
       "    </tr>\n",
       "    <tr>\n",
       "      <th>1</th>\n",
       "      <td>1</td>\n",
       "      <td>paid</td>\n",
       "      <td>PUT</td>\n",
       "      <td>NextSong</td>\n",
       "      <td>37</td>\n",
       "      <td>2018-10-10 13:15:51</td>\n",
       "      <td>100014</td>\n",
       "      <td>1</td>\n",
       "    </tr>\n",
       "    <tr>\n",
       "      <th>2</th>\n",
       "      <td>2</td>\n",
       "      <td>paid</td>\n",
       "      <td>PUT</td>\n",
       "      <td>NextSong</td>\n",
       "      <td>37</td>\n",
       "      <td>2018-10-10 13:17:56</td>\n",
       "      <td>100014</td>\n",
       "      <td>1</td>\n",
       "    </tr>\n",
       "    <tr>\n",
       "      <th>3</th>\n",
       "      <td>3</td>\n",
       "      <td>paid</td>\n",
       "      <td>PUT</td>\n",
       "      <td>NextSong</td>\n",
       "      <td>37</td>\n",
       "      <td>2018-10-10 13:21:38</td>\n",
       "      <td>100014</td>\n",
       "      <td>1</td>\n",
       "    </tr>\n",
       "    <tr>\n",
       "      <th>4</th>\n",
       "      <td>4</td>\n",
       "      <td>paid</td>\n",
       "      <td>GET</td>\n",
       "      <td>Help</td>\n",
       "      <td>37</td>\n",
       "      <td>2018-10-10 13:21:45</td>\n",
       "      <td>100014</td>\n",
       "      <td>1</td>\n",
       "    </tr>\n",
       "    <tr>\n",
       "      <th>5</th>\n",
       "      <td>5</td>\n",
       "      <td>paid</td>\n",
       "      <td>PUT</td>\n",
       "      <td>NextSong</td>\n",
       "      <td>37</td>\n",
       "      <td>2018-10-10 13:25:56</td>\n",
       "      <td>100014</td>\n",
       "      <td>1</td>\n",
       "    </tr>\n",
       "    <tr>\n",
       "      <th>6</th>\n",
       "      <td>6</td>\n",
       "      <td>paid</td>\n",
       "      <td>PUT</td>\n",
       "      <td>NextSong</td>\n",
       "      <td>37</td>\n",
       "      <td>2018-10-10 13:36:51</td>\n",
       "      <td>100014</td>\n",
       "      <td>1</td>\n",
       "    </tr>\n",
       "    <tr>\n",
       "      <th>7</th>\n",
       "      <td>7</td>\n",
       "      <td>paid</td>\n",
       "      <td>PUT</td>\n",
       "      <td>NextSong</td>\n",
       "      <td>37</td>\n",
       "      <td>2018-10-10 13:41:54</td>\n",
       "      <td>100014</td>\n",
       "      <td>1</td>\n",
       "    </tr>\n",
       "    <tr>\n",
       "      <th>8</th>\n",
       "      <td>8</td>\n",
       "      <td>paid</td>\n",
       "      <td>PUT</td>\n",
       "      <td>NextSong</td>\n",
       "      <td>37</td>\n",
       "      <td>2018-10-10 13:45:53</td>\n",
       "      <td>100014</td>\n",
       "      <td>1</td>\n",
       "    </tr>\n",
       "    <tr>\n",
       "      <th>9</th>\n",
       "      <td>9</td>\n",
       "      <td>paid</td>\n",
       "      <td>PUT</td>\n",
       "      <td>NextSong</td>\n",
       "      <td>37</td>\n",
       "      <td>2018-10-10 13:51:50</td>\n",
       "      <td>100014</td>\n",
       "      <td>1</td>\n",
       "    </tr>\n",
       "    <tr>\n",
       "      <th>10</th>\n",
       "      <td>10</td>\n",
       "      <td>paid</td>\n",
       "      <td>PUT</td>\n",
       "      <td>NextSong</td>\n",
       "      <td>37</td>\n",
       "      <td>2018-10-10 13:56:28</td>\n",
       "      <td>100014</td>\n",
       "      <td>1</td>\n",
       "    </tr>\n",
       "    <tr>\n",
       "      <th>11</th>\n",
       "      <td>11</td>\n",
       "      <td>paid</td>\n",
       "      <td>PUT</td>\n",
       "      <td>NextSong</td>\n",
       "      <td>37</td>\n",
       "      <td>2018-10-10 14:00:38</td>\n",
       "      <td>100014</td>\n",
       "      <td>1</td>\n",
       "    </tr>\n",
       "    <tr>\n",
       "      <th>12</th>\n",
       "      <td>12</td>\n",
       "      <td>paid</td>\n",
       "      <td>PUT</td>\n",
       "      <td>NextSong</td>\n",
       "      <td>37</td>\n",
       "      <td>2018-10-10 14:09:05</td>\n",
       "      <td>100014</td>\n",
       "      <td>1</td>\n",
       "    </tr>\n",
       "    <tr>\n",
       "      <th>13</th>\n",
       "      <td>13</td>\n",
       "      <td>paid</td>\n",
       "      <td>PUT</td>\n",
       "      <td>NextSong</td>\n",
       "      <td>37</td>\n",
       "      <td>2018-10-10 14:15:25</td>\n",
       "      <td>100014</td>\n",
       "      <td>1</td>\n",
       "    </tr>\n",
       "    <tr>\n",
       "      <th>14</th>\n",
       "      <td>14</td>\n",
       "      <td>paid</td>\n",
       "      <td>PUT</td>\n",
       "      <td>NextSong</td>\n",
       "      <td>37</td>\n",
       "      <td>2018-10-10 14:18:49</td>\n",
       "      <td>100014</td>\n",
       "      <td>1</td>\n",
       "    </tr>\n",
       "    <tr>\n",
       "      <th>15</th>\n",
       "      <td>15</td>\n",
       "      <td>paid</td>\n",
       "      <td>PUT</td>\n",
       "      <td>NextSong</td>\n",
       "      <td>37</td>\n",
       "      <td>2018-10-10 14:22:14</td>\n",
       "      <td>100014</td>\n",
       "      <td>1</td>\n",
       "    </tr>\n",
       "    <tr>\n",
       "      <th>16</th>\n",
       "      <td>16</td>\n",
       "      <td>paid</td>\n",
       "      <td>PUT</td>\n",
       "      <td>NextSong</td>\n",
       "      <td>37</td>\n",
       "      <td>2018-10-10 14:25:41</td>\n",
       "      <td>100014</td>\n",
       "      <td>1</td>\n",
       "    </tr>\n",
       "    <tr>\n",
       "      <th>17</th>\n",
       "      <td>17</td>\n",
       "      <td>paid</td>\n",
       "      <td>PUT</td>\n",
       "      <td>Thumbs Up</td>\n",
       "      <td>37</td>\n",
       "      <td>2018-10-10 14:25:42</td>\n",
       "      <td>100014</td>\n",
       "      <td>1</td>\n",
       "    </tr>\n",
       "    <tr>\n",
       "      <th>18</th>\n",
       "      <td>18</td>\n",
       "      <td>paid</td>\n",
       "      <td>PUT</td>\n",
       "      <td>NextSong</td>\n",
       "      <td>37</td>\n",
       "      <td>2018-10-10 14:29:38</td>\n",
       "      <td>100014</td>\n",
       "      <td>1</td>\n",
       "    </tr>\n",
       "    <tr>\n",
       "      <th>19</th>\n",
       "      <td>19</td>\n",
       "      <td>paid</td>\n",
       "      <td>PUT</td>\n",
       "      <td>NextSong</td>\n",
       "      <td>37</td>\n",
       "      <td>2018-10-10 14:34:31</td>\n",
       "      <td>100014</td>\n",
       "      <td>1</td>\n",
       "    </tr>\n",
       "    <tr>\n",
       "      <th>20</th>\n",
       "      <td>20</td>\n",
       "      <td>paid</td>\n",
       "      <td>PUT</td>\n",
       "      <td>NextSong</td>\n",
       "      <td>37</td>\n",
       "      <td>2018-10-10 14:38:08</td>\n",
       "      <td>100014</td>\n",
       "      <td>1</td>\n",
       "    </tr>\n",
       "    <tr>\n",
       "      <th>21</th>\n",
       "      <td>21</td>\n",
       "      <td>paid</td>\n",
       "      <td>PUT</td>\n",
       "      <td>NextSong</td>\n",
       "      <td>37</td>\n",
       "      <td>2018-10-10 14:44:58</td>\n",
       "      <td>100014</td>\n",
       "      <td>1</td>\n",
       "    </tr>\n",
       "    <tr>\n",
       "      <th>22</th>\n",
       "      <td>22</td>\n",
       "      <td>paid</td>\n",
       "      <td>PUT</td>\n",
       "      <td>NextSong</td>\n",
       "      <td>37</td>\n",
       "      <td>2018-10-10 14:49:49</td>\n",
       "      <td>100014</td>\n",
       "      <td>1</td>\n",
       "    </tr>\n",
       "    <tr>\n",
       "      <th>23</th>\n",
       "      <td>23</td>\n",
       "      <td>paid</td>\n",
       "      <td>PUT</td>\n",
       "      <td>NextSong</td>\n",
       "      <td>37</td>\n",
       "      <td>2018-10-10 14:52:13</td>\n",
       "      <td>100014</td>\n",
       "      <td>1</td>\n",
       "    </tr>\n",
       "    <tr>\n",
       "      <th>24</th>\n",
       "      <td>24</td>\n",
       "      <td>paid</td>\n",
       "      <td>PUT</td>\n",
       "      <td>NextSong</td>\n",
       "      <td>37</td>\n",
       "      <td>2018-10-10 14:57:58</td>\n",
       "      <td>100014</td>\n",
       "      <td>1</td>\n",
       "    </tr>\n",
       "    <tr>\n",
       "      <th>25</th>\n",
       "      <td>25</td>\n",
       "      <td>paid</td>\n",
       "      <td>PUT</td>\n",
       "      <td>NextSong</td>\n",
       "      <td>37</td>\n",
       "      <td>2018-10-10 15:01:54</td>\n",
       "      <td>100014</td>\n",
       "      <td>1</td>\n",
       "    </tr>\n",
       "    <tr>\n",
       "      <th>26</th>\n",
       "      <td>26</td>\n",
       "      <td>paid</td>\n",
       "      <td>PUT</td>\n",
       "      <td>NextSong</td>\n",
       "      <td>37</td>\n",
       "      <td>2018-10-10 15:06:12</td>\n",
       "      <td>100014</td>\n",
       "      <td>1</td>\n",
       "    </tr>\n",
       "    <tr>\n",
       "      <th>27</th>\n",
       "      <td>27</td>\n",
       "      <td>paid</td>\n",
       "      <td>PUT</td>\n",
       "      <td>NextSong</td>\n",
       "      <td>37</td>\n",
       "      <td>2018-10-10 15:09:41</td>\n",
       "      <td>100014</td>\n",
       "      <td>1</td>\n",
       "    </tr>\n",
       "    <tr>\n",
       "      <th>28</th>\n",
       "      <td>28</td>\n",
       "      <td>paid</td>\n",
       "      <td>PUT</td>\n",
       "      <td>NextSong</td>\n",
       "      <td>37</td>\n",
       "      <td>2018-10-10 15:14:25</td>\n",
       "      <td>100014</td>\n",
       "      <td>1</td>\n",
       "    </tr>\n",
       "    <tr>\n",
       "      <th>29</th>\n",
       "      <td>29</td>\n",
       "      <td>paid</td>\n",
       "      <td>PUT</td>\n",
       "      <td>NextSong</td>\n",
       "      <td>37</td>\n",
       "      <td>2018-10-10 15:18:01</td>\n",
       "      <td>100014</td>\n",
       "      <td>1</td>\n",
       "    </tr>\n",
       "    <tr>\n",
       "      <th>...</th>\n",
       "      <td>...</td>\n",
       "      <td>...</td>\n",
       "      <td>...</td>\n",
       "      <td>...</td>\n",
       "      <td>...</td>\n",
       "      <td>...</td>\n",
       "      <td>...</td>\n",
       "      <td>...</td>\n",
       "    </tr>\n",
       "    <tr>\n",
       "      <th>280</th>\n",
       "      <td>44</td>\n",
       "      <td>paid</td>\n",
       "      <td>PUT</td>\n",
       "      <td>NextSong</td>\n",
       "      <td>185</td>\n",
       "      <td>2018-11-20 17:33:34</td>\n",
       "      <td>100014</td>\n",
       "      <td>1</td>\n",
       "    </tr>\n",
       "    <tr>\n",
       "      <th>281</th>\n",
       "      <td>45</td>\n",
       "      <td>paid</td>\n",
       "      <td>PUT</td>\n",
       "      <td>NextSong</td>\n",
       "      <td>185</td>\n",
       "      <td>2018-11-20 17:37:41</td>\n",
       "      <td>100014</td>\n",
       "      <td>1</td>\n",
       "    </tr>\n",
       "    <tr>\n",
       "      <th>282</th>\n",
       "      <td>46</td>\n",
       "      <td>paid</td>\n",
       "      <td>PUT</td>\n",
       "      <td>NextSong</td>\n",
       "      <td>185</td>\n",
       "      <td>2018-11-20 17:41:34</td>\n",
       "      <td>100014</td>\n",
       "      <td>1</td>\n",
       "    </tr>\n",
       "    <tr>\n",
       "      <th>283</th>\n",
       "      <td>47</td>\n",
       "      <td>paid</td>\n",
       "      <td>PUT</td>\n",
       "      <td>NextSong</td>\n",
       "      <td>185</td>\n",
       "      <td>2018-11-20 17:46:04</td>\n",
       "      <td>100014</td>\n",
       "      <td>1</td>\n",
       "    </tr>\n",
       "    <tr>\n",
       "      <th>284</th>\n",
       "      <td>48</td>\n",
       "      <td>paid</td>\n",
       "      <td>PUT</td>\n",
       "      <td>NextSong</td>\n",
       "      <td>185</td>\n",
       "      <td>2018-11-20 17:49:16</td>\n",
       "      <td>100014</td>\n",
       "      <td>1</td>\n",
       "    </tr>\n",
       "    <tr>\n",
       "      <th>285</th>\n",
       "      <td>49</td>\n",
       "      <td>paid</td>\n",
       "      <td>PUT</td>\n",
       "      <td>NextSong</td>\n",
       "      <td>185</td>\n",
       "      <td>2018-11-20 17:53:05</td>\n",
       "      <td>100014</td>\n",
       "      <td>1</td>\n",
       "    </tr>\n",
       "    <tr>\n",
       "      <th>286</th>\n",
       "      <td>50</td>\n",
       "      <td>paid</td>\n",
       "      <td>PUT</td>\n",
       "      <td>NextSong</td>\n",
       "      <td>185</td>\n",
       "      <td>2018-11-20 17:56:55</td>\n",
       "      <td>100014</td>\n",
       "      <td>1</td>\n",
       "    </tr>\n",
       "    <tr>\n",
       "      <th>287</th>\n",
       "      <td>51</td>\n",
       "      <td>paid</td>\n",
       "      <td>PUT</td>\n",
       "      <td>NextSong</td>\n",
       "      <td>185</td>\n",
       "      <td>2018-11-20 18:01:32</td>\n",
       "      <td>100014</td>\n",
       "      <td>1</td>\n",
       "    </tr>\n",
       "    <tr>\n",
       "      <th>288</th>\n",
       "      <td>52</td>\n",
       "      <td>paid</td>\n",
       "      <td>PUT</td>\n",
       "      <td>NextSong</td>\n",
       "      <td>185</td>\n",
       "      <td>2018-11-20 18:05:49</td>\n",
       "      <td>100014</td>\n",
       "      <td>1</td>\n",
       "    </tr>\n",
       "    <tr>\n",
       "      <th>289</th>\n",
       "      <td>53</td>\n",
       "      <td>paid</td>\n",
       "      <td>PUT</td>\n",
       "      <td>NextSong</td>\n",
       "      <td>185</td>\n",
       "      <td>2018-11-20 18:09:52</td>\n",
       "      <td>100014</td>\n",
       "      <td>1</td>\n",
       "    </tr>\n",
       "    <tr>\n",
       "      <th>290</th>\n",
       "      <td>54</td>\n",
       "      <td>paid</td>\n",
       "      <td>PUT</td>\n",
       "      <td>NextSong</td>\n",
       "      <td>185</td>\n",
       "      <td>2018-11-20 18:13:38</td>\n",
       "      <td>100014</td>\n",
       "      <td>1</td>\n",
       "    </tr>\n",
       "    <tr>\n",
       "      <th>291</th>\n",
       "      <td>55</td>\n",
       "      <td>paid</td>\n",
       "      <td>PUT</td>\n",
       "      <td>NextSong</td>\n",
       "      <td>185</td>\n",
       "      <td>2018-11-20 18:17:47</td>\n",
       "      <td>100014</td>\n",
       "      <td>1</td>\n",
       "    </tr>\n",
       "    <tr>\n",
       "      <th>292</th>\n",
       "      <td>56</td>\n",
       "      <td>paid</td>\n",
       "      <td>PUT</td>\n",
       "      <td>Thumbs Up</td>\n",
       "      <td>185</td>\n",
       "      <td>2018-11-20 18:17:48</td>\n",
       "      <td>100014</td>\n",
       "      <td>1</td>\n",
       "    </tr>\n",
       "    <tr>\n",
       "      <th>293</th>\n",
       "      <td>57</td>\n",
       "      <td>paid</td>\n",
       "      <td>PUT</td>\n",
       "      <td>NextSong</td>\n",
       "      <td>185</td>\n",
       "      <td>2018-11-20 18:21:13</td>\n",
       "      <td>100014</td>\n",
       "      <td>1</td>\n",
       "    </tr>\n",
       "    <tr>\n",
       "      <th>294</th>\n",
       "      <td>58</td>\n",
       "      <td>paid</td>\n",
       "      <td>PUT</td>\n",
       "      <td>Thumbs Down</td>\n",
       "      <td>185</td>\n",
       "      <td>2018-11-20 18:21:14</td>\n",
       "      <td>100014</td>\n",
       "      <td>1</td>\n",
       "    </tr>\n",
       "    <tr>\n",
       "      <th>295</th>\n",
       "      <td>59</td>\n",
       "      <td>paid</td>\n",
       "      <td>PUT</td>\n",
       "      <td>NextSong</td>\n",
       "      <td>185</td>\n",
       "      <td>2018-11-20 18:29:45</td>\n",
       "      <td>100014</td>\n",
       "      <td>1</td>\n",
       "    </tr>\n",
       "    <tr>\n",
       "      <th>296</th>\n",
       "      <td>60</td>\n",
       "      <td>paid</td>\n",
       "      <td>PUT</td>\n",
       "      <td>NextSong</td>\n",
       "      <td>185</td>\n",
       "      <td>2018-11-20 18:31:02</td>\n",
       "      <td>100014</td>\n",
       "      <td>1</td>\n",
       "    </tr>\n",
       "    <tr>\n",
       "      <th>297</th>\n",
       "      <td>61</td>\n",
       "      <td>paid</td>\n",
       "      <td>PUT</td>\n",
       "      <td>NextSong</td>\n",
       "      <td>185</td>\n",
       "      <td>2018-11-20 18:34:23</td>\n",
       "      <td>100014</td>\n",
       "      <td>1</td>\n",
       "    </tr>\n",
       "    <tr>\n",
       "      <th>298</th>\n",
       "      <td>62</td>\n",
       "      <td>paid</td>\n",
       "      <td>PUT</td>\n",
       "      <td>NextSong</td>\n",
       "      <td>185</td>\n",
       "      <td>2018-11-20 18:40:01</td>\n",
       "      <td>100014</td>\n",
       "      <td>1</td>\n",
       "    </tr>\n",
       "    <tr>\n",
       "      <th>299</th>\n",
       "      <td>63</td>\n",
       "      <td>paid</td>\n",
       "      <td>PUT</td>\n",
       "      <td>NextSong</td>\n",
       "      <td>185</td>\n",
       "      <td>2018-11-20 18:42:57</td>\n",
       "      <td>100014</td>\n",
       "      <td>1</td>\n",
       "    </tr>\n",
       "    <tr>\n",
       "      <th>300</th>\n",
       "      <td>64</td>\n",
       "      <td>paid</td>\n",
       "      <td>PUT</td>\n",
       "      <td>NextSong</td>\n",
       "      <td>185</td>\n",
       "      <td>2018-11-20 18:48:30</td>\n",
       "      <td>100014</td>\n",
       "      <td>1</td>\n",
       "    </tr>\n",
       "    <tr>\n",
       "      <th>301</th>\n",
       "      <td>65</td>\n",
       "      <td>paid</td>\n",
       "      <td>PUT</td>\n",
       "      <td>NextSong</td>\n",
       "      <td>185</td>\n",
       "      <td>2018-11-20 18:52:41</td>\n",
       "      <td>100014</td>\n",
       "      <td>1</td>\n",
       "    </tr>\n",
       "    <tr>\n",
       "      <th>302</th>\n",
       "      <td>66</td>\n",
       "      <td>paid</td>\n",
       "      <td>PUT</td>\n",
       "      <td>Thumbs Up</td>\n",
       "      <td>185</td>\n",
       "      <td>2018-11-20 18:52:42</td>\n",
       "      <td>100014</td>\n",
       "      <td>1</td>\n",
       "    </tr>\n",
       "    <tr>\n",
       "      <th>303</th>\n",
       "      <td>67</td>\n",
       "      <td>paid</td>\n",
       "      <td>PUT</td>\n",
       "      <td>Add to Playlist</td>\n",
       "      <td>185</td>\n",
       "      <td>2018-11-20 18:53:48</td>\n",
       "      <td>100014</td>\n",
       "      <td>1</td>\n",
       "    </tr>\n",
       "    <tr>\n",
       "      <th>304</th>\n",
       "      <td>68</td>\n",
       "      <td>paid</td>\n",
       "      <td>PUT</td>\n",
       "      <td>NextSong</td>\n",
       "      <td>185</td>\n",
       "      <td>2018-11-20 18:55:15</td>\n",
       "      <td>100014</td>\n",
       "      <td>1</td>\n",
       "    </tr>\n",
       "    <tr>\n",
       "      <th>305</th>\n",
       "      <td>69</td>\n",
       "      <td>paid</td>\n",
       "      <td>PUT</td>\n",
       "      <td>NextSong</td>\n",
       "      <td>185</td>\n",
       "      <td>2018-11-20 18:59:12</td>\n",
       "      <td>100014</td>\n",
       "      <td>1</td>\n",
       "    </tr>\n",
       "    <tr>\n",
       "      <th>306</th>\n",
       "      <td>70</td>\n",
       "      <td>paid</td>\n",
       "      <td>PUT</td>\n",
       "      <td>NextSong</td>\n",
       "      <td>185</td>\n",
       "      <td>2018-11-20 19:03:48</td>\n",
       "      <td>100014</td>\n",
       "      <td>1</td>\n",
       "    </tr>\n",
       "    <tr>\n",
       "      <th>307</th>\n",
       "      <td>71</td>\n",
       "      <td>paid</td>\n",
       "      <td>GET</td>\n",
       "      <td>Downgrade</td>\n",
       "      <td>185</td>\n",
       "      <td>2018-11-20 19:04:01</td>\n",
       "      <td>100014</td>\n",
       "      <td>1</td>\n",
       "    </tr>\n",
       "    <tr>\n",
       "      <th>308</th>\n",
       "      <td>72</td>\n",
       "      <td>paid</td>\n",
       "      <td>PUT</td>\n",
       "      <td>Cancel</td>\n",
       "      <td>185</td>\n",
       "      <td>2018-11-20 19:04:02</td>\n",
       "      <td>100014</td>\n",
       "      <td>1</td>\n",
       "    </tr>\n",
       "    <tr>\n",
       "      <th>309</th>\n",
       "      <td>73</td>\n",
       "      <td>paid</td>\n",
       "      <td>GET</td>\n",
       "      <td>Cancellation Confirmation</td>\n",
       "      <td>185</td>\n",
       "      <td>2018-11-20 19:04:09</td>\n",
       "      <td>100014</td>\n",
       "      <td>1</td>\n",
       "    </tr>\n",
       "  </tbody>\n",
       "</table>\n",
       "<p>310 rows × 8 columns</p>\n",
       "</div>"
      ],
      "text/plain": [
       "     itemInSession level method                       page  sessionId                   ts  userId  churn\n",
       "0    0              paid  PUT    NextSong                   37         2018-10-10 13:12:16  100014  1    \n",
       "1    1              paid  PUT    NextSong                   37         2018-10-10 13:15:51  100014  1    \n",
       "2    2              paid  PUT    NextSong                   37         2018-10-10 13:17:56  100014  1    \n",
       "3    3              paid  PUT    NextSong                   37         2018-10-10 13:21:38  100014  1    \n",
       "4    4              paid  GET    Help                       37         2018-10-10 13:21:45  100014  1    \n",
       "5    5              paid  PUT    NextSong                   37         2018-10-10 13:25:56  100014  1    \n",
       "6    6              paid  PUT    NextSong                   37         2018-10-10 13:36:51  100014  1    \n",
       "7    7              paid  PUT    NextSong                   37         2018-10-10 13:41:54  100014  1    \n",
       "8    8              paid  PUT    NextSong                   37         2018-10-10 13:45:53  100014  1    \n",
       "9    9              paid  PUT    NextSong                   37         2018-10-10 13:51:50  100014  1    \n",
       "10   10             paid  PUT    NextSong                   37         2018-10-10 13:56:28  100014  1    \n",
       "11   11             paid  PUT    NextSong                   37         2018-10-10 14:00:38  100014  1    \n",
       "12   12             paid  PUT    NextSong                   37         2018-10-10 14:09:05  100014  1    \n",
       "13   13             paid  PUT    NextSong                   37         2018-10-10 14:15:25  100014  1    \n",
       "14   14             paid  PUT    NextSong                   37         2018-10-10 14:18:49  100014  1    \n",
       "15   15             paid  PUT    NextSong                   37         2018-10-10 14:22:14  100014  1    \n",
       "16   16             paid  PUT    NextSong                   37         2018-10-10 14:25:41  100014  1    \n",
       "17   17             paid  PUT    Thumbs Up                  37         2018-10-10 14:25:42  100014  1    \n",
       "18   18             paid  PUT    NextSong                   37         2018-10-10 14:29:38  100014  1    \n",
       "19   19             paid  PUT    NextSong                   37         2018-10-10 14:34:31  100014  1    \n",
       "20   20             paid  PUT    NextSong                   37         2018-10-10 14:38:08  100014  1    \n",
       "21   21             paid  PUT    NextSong                   37         2018-10-10 14:44:58  100014  1    \n",
       "22   22             paid  PUT    NextSong                   37         2018-10-10 14:49:49  100014  1    \n",
       "23   23             paid  PUT    NextSong                   37         2018-10-10 14:52:13  100014  1    \n",
       "24   24             paid  PUT    NextSong                   37         2018-10-10 14:57:58  100014  1    \n",
       "25   25             paid  PUT    NextSong                   37         2018-10-10 15:01:54  100014  1    \n",
       "26   26             paid  PUT    NextSong                   37         2018-10-10 15:06:12  100014  1    \n",
       "27   27             paid  PUT    NextSong                   37         2018-10-10 15:09:41  100014  1    \n",
       "28   28             paid  PUT    NextSong                   37         2018-10-10 15:14:25  100014  1    \n",
       "29   29             paid  PUT    NextSong                   37         2018-10-10 15:18:01  100014  1    \n",
       "..   ..              ...  ...         ...                   ..                         ...     ... ..    \n",
       "280  44             paid  PUT    NextSong                   185        2018-11-20 17:33:34  100014  1    \n",
       "281  45             paid  PUT    NextSong                   185        2018-11-20 17:37:41  100014  1    \n",
       "282  46             paid  PUT    NextSong                   185        2018-11-20 17:41:34  100014  1    \n",
       "283  47             paid  PUT    NextSong                   185        2018-11-20 17:46:04  100014  1    \n",
       "284  48             paid  PUT    NextSong                   185        2018-11-20 17:49:16  100014  1    \n",
       "285  49             paid  PUT    NextSong                   185        2018-11-20 17:53:05  100014  1    \n",
       "286  50             paid  PUT    NextSong                   185        2018-11-20 17:56:55  100014  1    \n",
       "287  51             paid  PUT    NextSong                   185        2018-11-20 18:01:32  100014  1    \n",
       "288  52             paid  PUT    NextSong                   185        2018-11-20 18:05:49  100014  1    \n",
       "289  53             paid  PUT    NextSong                   185        2018-11-20 18:09:52  100014  1    \n",
       "290  54             paid  PUT    NextSong                   185        2018-11-20 18:13:38  100014  1    \n",
       "291  55             paid  PUT    NextSong                   185        2018-11-20 18:17:47  100014  1    \n",
       "292  56             paid  PUT    Thumbs Up                  185        2018-11-20 18:17:48  100014  1    \n",
       "293  57             paid  PUT    NextSong                   185        2018-11-20 18:21:13  100014  1    \n",
       "294  58             paid  PUT    Thumbs Down                185        2018-11-20 18:21:14  100014  1    \n",
       "295  59             paid  PUT    NextSong                   185        2018-11-20 18:29:45  100014  1    \n",
       "296  60             paid  PUT    NextSong                   185        2018-11-20 18:31:02  100014  1    \n",
       "297  61             paid  PUT    NextSong                   185        2018-11-20 18:34:23  100014  1    \n",
       "298  62             paid  PUT    NextSong                   185        2018-11-20 18:40:01  100014  1    \n",
       "299  63             paid  PUT    NextSong                   185        2018-11-20 18:42:57  100014  1    \n",
       "300  64             paid  PUT    NextSong                   185        2018-11-20 18:48:30  100014  1    \n",
       "301  65             paid  PUT    NextSong                   185        2018-11-20 18:52:41  100014  1    \n",
       "302  66             paid  PUT    Thumbs Up                  185        2018-11-20 18:52:42  100014  1    \n",
       "303  67             paid  PUT    Add to Playlist            185        2018-11-20 18:53:48  100014  1    \n",
       "304  68             paid  PUT    NextSong                   185        2018-11-20 18:55:15  100014  1    \n",
       "305  69             paid  PUT    NextSong                   185        2018-11-20 18:59:12  100014  1    \n",
       "306  70             paid  PUT    NextSong                   185        2018-11-20 19:03:48  100014  1    \n",
       "307  71             paid  GET    Downgrade                  185        2018-11-20 19:04:01  100014  1    \n",
       "308  72             paid  PUT    Cancel                     185        2018-11-20 19:04:02  100014  1    \n",
       "309  73             paid  GET    Cancellation Confirmation  185        2018-11-20 19:04:09  100014  1    \n",
       "\n",
       "[310 rows x 8 columns]"
      ]
     },
     "execution_count": 42,
     "metadata": {},
     "output_type": "execute_result"
    }
   ],
   "source": [
    "# show all events related to a churned user\n",
    "df_clean.select(['itemInSession', 'level', 'method', 'page', 'sessionId', 'ts', 'userId', 'churn']).where(col('userId') == 100014).toPandas()"
   ]
  },
  {
   "cell_type": "markdown",
   "metadata": {},
   "source": [
    "**Here we can see all events related to a specific user that has churned, the order shows the events leading up to the cancellation confirmation.**"
   ]
  },
  {
   "cell_type": "code",
   "execution_count": 43,
   "metadata": {
    "scrolled": true
   },
   "outputs": [
    {
     "name": "stdout",
     "output_type": "stream",
     "text": [
      "Number of events (rows) in dataset: 278154\n",
      "Number of unique users: 225\n",
      "Number of users that have churned: 52\n",
      "Number of active users (not churned): 173\n"
     ]
    }
   ],
   "source": [
    "# number of rows/events in dataframe\n",
    "print('Number of events (rows) in dataset: {}'.format(df_clean.count()))\n",
    "\n",
    "# number of unique userId's in dataframe\n",
    "print('Number of unique users: {}'.format(df_clean.select('userId').distinct().count()))\n",
    "\n",
    "# number of users that have churned\n",
    "print('Number of users that have churned: {}'.format(\n",
    "df_clean.where(col('churn') == 1).groupBy('userId').count().count()))\n",
    "\n",
    "# number of active users (not churned)\n",
    "print('Number of active users (not churned): {}'.format(\n",
    "df_clean.where(col('churn') == 0).groupBy('userId').count().count()))"
   ]
  },
  {
   "cell_type": "markdown",
   "metadata": {},
   "source": [
    "**If we look at the number of churned and active users, this dataset is quite imbalanced, there are roughly three times more samples with active users.**"
   ]
  },
  {
   "cell_type": "code",
   "execution_count": 44,
   "metadata": {},
   "outputs": [
    {
     "data": {
      "text/plain": [
       "Downgrade      19\n",
       "Settings       14\n",
       "Roll Advert    14\n",
       "Thumbs Down    4 \n",
       "Add Friend     1 \n",
       "Name: page, dtype: int64"
      ]
     },
     "execution_count": 44,
     "metadata": {},
     "output_type": "execute_result"
    }
   ],
   "source": [
    "# convert dataframe to pandas dataframe\n",
    "df_clean_pd = df_clean.toPandas()\n",
    "\n",
    "# create filter with rows that have the value 'Cancel' in column 'page'\n",
    "filter = df_clean_pd.loc[df_clean_pd['page'] == 'Cancel'].index\n",
    "\n",
    "# use filter to select rows before rows in filter to see what user did before the event 'Cancel'\n",
    "df_clean_pd.iloc[filter-1].page.value_counts(ascending=False)"
   ]
  },
  {
   "cell_type": "markdown",
   "metadata": {},
   "source": [
    "**The above table shows the last event a user did before going to the 'Cancel' page. The majority of the users downgraded their plan before cancelling their subscription, others went to the settings page before cancelling, which might mean they were trying to find where you cancel the subscription. Interestingly, a lot of users got an ad ('Roll Advert') before choosing to cancel their plan, which might mean that the ad was the reason for cancelling and that they think there were too many ads to continue using the service.**"
   ]
  },
  {
   "cell_type": "code",
   "execution_count": 45,
   "metadata": {},
   "outputs": [
    {
     "data": {
      "text/plain": [
       "Timedelta('0 days 00:00:01')"
      ]
     },
     "execution_count": 45,
     "metadata": {},
     "output_type": "execute_result"
    }
   ],
   "source": [
    "# create ts (timestamp) arrays with the time for the event of cancelling and the time for the last event\n",
    "# before cancelling\n",
    "ts_cancel = pd.to_datetime(df_clean_pd.loc[df_clean_pd['page'] == 'Cancel'].ts.values)\n",
    "ts_before_cancel = pd.to_datetime(df_clean_pd.iloc[filter-1].ts.values)\n",
    "\n",
    "# create pandas series with the time difference between cancelling and the last event before cancelling\n",
    "ts_diff = pd.Series(ts_cancel - ts_before_cancel)\n",
    "# average time differene between cancelling and the last event before cancelling\n",
    "ts_diff.mean()"
   ]
  },
  {
   "cell_type": "markdown",
   "metadata": {},
   "source": [
    "**I wanted to see if there was a lag or difference in time before cancelling a subscription and the event before, but it seems all users have the same time difference between these events and that cancelling was an instant action.**"
   ]
  },
  {
   "cell_type": "code",
   "execution_count": 46,
   "metadata": {},
   "outputs": [
    {
     "name": "stdout",
     "output_type": "stream",
     "text": [
      "Average number of interactions (events) for churned users: 863\n",
      "Average number of interactions (events) for active users: 1348\n",
      "\n",
      "Average number of sessions for churned users: 10\n",
      "Average number of sessions for active users: 15\n",
      "\n",
      "Average number of items in a session for churned users: 84\n",
      "Average number of items in a session for active users: 88\n"
     ]
    }
   ],
   "source": [
    "# average number of events/interactions per user\n",
    "print('Average number of interactions (events) for churned users: {:.0f}'.format(\n",
    "    df_clean.where(col('churn') == 1).count() / \n",
    "    df_clean.where(col('churn') == 1).groupBy('userId').count().count()))\n",
    "\n",
    "print('Average number of interactions (events) for active users: {:.0f}'.format(\n",
    "    df_clean.where(col('churn') == 0).count() / \n",
    "    df_clean.where(col('churn') == 0).groupBy('userId').count().count()))\n",
    "\n",
    "print('')\n",
    "\n",
    "# average number of sessions per user\n",
    "print('Average number of sessions for churned users: {:.0f}'.format(\n",
    "    df_clean.where(col('churn') == 1).groupBy('userId', 'sessionId').count().count() / \n",
    "    df_clean.where(col('churn') == 1).groupBy('userId').count().count()))\n",
    "\n",
    "print('Average number of sessions for active users: {:.0f}'.format(\n",
    "    df_clean.where(col('churn') == 0).groupBy('userId', 'sessionId').count().count() / \n",
    "    df_clean.where(col('churn') == 0).groupBy('userId').count().count()))\n",
    "\n",
    "print('')\n",
    "\n",
    "# average number of items in a session per user\n",
    "print('Average number of items in a session for churned users: {:.0f}'.format(\n",
    "    df_clean.where(col('churn') == 1).count() / \n",
    "    df_clean.where(col('churn') == 1).groupBy('userId', 'sessionId').count().count()))\n",
    "\n",
    "print('Average number of items in a session for active users: {:.0f}'.format(\n",
    "    df_clean.where(col('churn') == 0).count() / \n",
    "    df_clean.where(col('churn') == 0).groupBy('userId', 'sessionId').count().count()))"
   ]
  },
  {
   "cell_type": "markdown",
   "metadata": {},
   "source": [
    "**Above we can see the averages of number of interactions, sessions and items in a session for churned and active users. Active users have a higher average for all, they have more total interactions on the platform (events), a higher number of times they've been on the platform (sessions) and more interactions per time they're using the service (session items). It appears that this group of users are more active on the platform in broad terms.**"
   ]
  },
  {
   "cell_type": "code",
   "execution_count": 47,
   "metadata": {},
   "outputs": [
    {
     "data": {
      "image/png": "[encoded data removed]",
      "text/plain": [
       "<matplotlib.figure.Figure at 0x7f1d60fb9908>"
      ]
     },
     "metadata": {
      "needs_background": "light"
     },
     "output_type": "display_data"
    },
    {
     "name": "stdout",
     "output_type": "stream",
     "text": [
      "\n",
      "Average session length for churned users (hours):\n",
      "+-------------------+\n",
      "|avg(session_length)|\n",
      "+-------------------+\n",
      "|  4.718692338992486|\n",
      "+-------------------+\n",
      "\n",
      "Average session length for active users (hours):\n",
      "+-------------------+\n",
      "|avg(session_length)|\n",
      "+-------------------+\n",
      "|  5.047589365434434|\n",
      "+-------------------+\n",
      "\n"
     ]
    }
   ],
   "source": [
    "# average session length per user\n",
    "# udf to convert time to correct format and show time difference in hours\n",
    "# source: https://stackoverflow.com/questions/30283415/calculating-duration-by-subtracting-two-datetime-columns-in-string-format\n",
    "time_delta = udf(lambda y, x: (datetime.datetime.strptime(y, '%Y-%m-%d %H:%M:%S') - \n",
    "                               datetime.datetime.strptime(x, '%Y-%m-%d %H:%M:%S')).total_seconds()/3600)\n",
    "\n",
    "# create dataframe with first timestamp (ts) per session\n",
    "# add column 'churn' and set as 1 for rows with churned user\n",
    "df_min = df_clean.groupBy('userId', 'sessionId').agg(min('ts').alias('min_ts'))\n",
    "df_min = df_min.withColumn('churn', when((df_min.userId).isin(churned_users), 1).otherwise(0))\n",
    "\n",
    "# create dataframe with last timestamp (ts) per session\n",
    "df_max = df_clean.groupBy('userId', 'sessionId').agg(max('ts').alias('max_ts'))\n",
    "\n",
    "# join dataframes\n",
    "df_ts = df_min.join(df_max, on=['userId', 'sessionId'])\n",
    "\n",
    "# apply udf when calculating and creating new column with time difference\n",
    "df_ts = df_ts.withColumn('session_length', time_delta(df_ts['max_ts'], df_ts['min_ts']).cast('float'))\n",
    "\n",
    "# graph of session length per user group\n",
    "# store columns to be used as pandas dataframe\n",
    "df_ts_pd = df_ts.select('churn', 'session_length').toPandas()\n",
    "\n",
    "# plot results\n",
    "plt.figure(figsize=(10,6))\n",
    "plt.hist(df_ts_pd['session_length'][df_ts_pd['churn'] == 0], label='Active users')\n",
    "plt.hist(df_ts_pd['session_length'][df_ts_pd['churn'] == 1], label='Churned users')\n",
    "plt.legend(loc='upper right')\n",
    "plt.title('Average session length (hours)')\n",
    "plt.xlabel('Average session length per user (hours)')\n",
    "plt.ylabel('Count')\n",
    "plt.show()\n",
    "\n",
    "print('')\n",
    "\n",
    "# average session length for churned users\n",
    "print('Average session length for churned users (hours):')\n",
    "df_ts.where(col('churn') == 1).agg(avg('session_length')).show()\n",
    "\n",
    "# average session length for active users\n",
    "print('Average session length for active users (hours):')\n",
    "df_ts.where(col('churn') == 0).agg(avg('session_length')).show()"
   ]
  },
  {
   "cell_type": "markdown",
   "metadata": {},
   "source": [
    "**The average length of a session is slightly longer for active than churned users, and it seems active users spend more time on the platform each time they're using it.**"
   ]
  },
  {
   "cell_type": "code",
   "execution_count": 48,
   "metadata": {
    "scrolled": false
   },
   "outputs": [
    {
     "data": {
      "image/png": "[encoded data removed]",
      "text/plain": [
       "<matplotlib.figure.Figure at 0x7f1d609f50b8>"
      ]
     },
     "metadata": {
      "needs_background": "light"
     },
     "output_type": "display_data"
    },
    {
     "name": "stdout",
     "output_type": "stream",
     "text": [
      "\n",
      "Average number of days registered for churned users:\n",
      "+--------------------+\n",
      "|avg(days_registered)|\n",
      "+--------------------+\n",
      "|   67.64847093437946|\n",
      "+--------------------+\n",
      "\n",
      "Average number of days registered for active users:\n",
      "+--------------------+\n",
      "|avg(days_registered)|\n",
      "+--------------------+\n",
      "|   92.97668995670625|\n",
      "+--------------------+\n",
      "\n"
     ]
    }
   ],
   "source": [
    "# average registration/usage length per user (days from registration date to ts for latest event)\n",
    "# create dataframe with last timestamp (ts) per user\n",
    "df_last = df_clean.groupBy('userId').agg(max('ts').alias('last_interaction'))\n",
    "\n",
    "# join dataframes and add column 'days_registered' with number of days from registration date to ts for last event\n",
    "df_reg = df_last.join(df_clean, on='userId').select(\n",
    "    df_last['*'], df_clean['registration'], df_clean['churn']).withColumn(\n",
    "    'days_registered', datediff(df_last['last_interaction'], df_clean['registration']))\n",
    "\n",
    "# graph of number of days registered per user group\n",
    "# store columns to be used as pandas dataframe\n",
    "df_reg_pd = df_reg.select('churn', 'days_registered').toPandas()\n",
    "\n",
    "# plot results\n",
    "plt.figure(figsize=(10,6))\n",
    "plt.hist(df_reg_pd['days_registered'][df_reg_pd['churn'] == 0], label='Active users')\n",
    "plt.hist(df_reg_pd['days_registered'][df_reg_pd['churn'] == 1], label='Churned users')\n",
    "plt.legend(loc='upper right')\n",
    "plt.title('Days registered')\n",
    "plt.xlabel('Number of days registered per user')\n",
    "plt.ylabel('Count')\n",
    "plt.show()\n",
    "\n",
    "print('')\n",
    "\n",
    "# get average number of days registered for churned users\n",
    "print('Average number of days registered for churned users:')\n",
    "df_reg.where(col('churn') == 1).agg(avg('days_registered')).show()\n",
    "\n",
    "# get average number of days registered for active users\n",
    "print('Average number of days registered for active users:')\n",
    "df_reg.where(col('churn') == 0).agg(avg('days_registered')).show()"
   ]
  },
  {
   "cell_type": "markdown",
   "metadata": {},
   "source": [
    "**Active users have, on average, been registered on the platform for a longer time than churned users.**"
   ]
  },
  {
   "cell_type": "code",
   "execution_count": 49,
   "metadata": {},
   "outputs": [
    {
     "name": "stdout",
     "output_type": "stream",
     "text": [
      "Average number of unique artists played per churned user: 162\n",
      "Average number of unique artists played per active user: 96\n",
      "\n",
      "Average number of unique songs played per churned user: 370\n",
      "Average number of unique songs played per active user: 308\n"
     ]
    }
   ],
   "source": [
    "# average number of unique artists played per user\n",
    "print('Average number of unique artists played per churned user: {:.0f}'.format(\n",
    "    df_clean.where(col('churn') == 1).groupBy('artist').count().count() / df_clean.where(\n",
    "    col('churn') == 1).groupBy('userId').count().count()))\n",
    "\n",
    "print('Average number of unique artists played per active user: {:.0f}'.format(\n",
    "    df_clean.where(col('churn') == 0).groupBy('artist').count().count() / df_clean.where(\n",
    "    col('churn') == 0).groupBy('userId').count().count()))\n",
    "\n",
    "print('')\n",
    "\n",
    "# average number of unique songs played per user\n",
    "print('Average number of unique songs played per churned user: {:.0f}'.format(\n",
    "    df_clean.where(col('churn') == 1).groupBy('song').count().count() / df_clean.where(\n",
    "    col('churn') == 1).groupBy('userId').count().count()))\n",
    "\n",
    "print('Average number of unique songs played per active user: {:.0f}'.format(\n",
    "    df_clean.where(col('churn') == 0).groupBy('song').count().count() / df_clean.where(\n",
    "    col('churn') == 0).groupBy('userId').count().count()))"
   ]
  },
  {
   "cell_type": "code",
   "execution_count": 50,
   "metadata": {},
   "outputs": [
    {
     "name": "stdout",
     "output_type": "stream",
     "text": [
      "Average number of unique artists played per session for churned users: 16\n",
      "Average number of unique artists played per session for active users: 6\n",
      "\n",
      "Average number of unique songs played per session for churned users: 36\n",
      "Average number of unique songs played per session for active users: 20\n"
     ]
    }
   ],
   "source": [
    "# average number of unique artists played per session\n",
    "print('Average number of unique artists played per session for churned users: {:.0f}'.format(\n",
    "    df_clean.where(col('churn') == 1).groupBy('artist').count().count() / df_clean.where(\n",
    "    col('churn') == 1).groupBy('userId', 'sessionId').count().count()))\n",
    "\n",
    "print('Average number of unique artists played per session for active users: {:.0f}'.format(\n",
    "    df_clean.where(col('churn') == 0).groupBy('artist').count().count() / df_clean.where(\n",
    "    col('churn') == 0).groupBy('userId', 'sessionId').count().count()))\n",
    "\n",
    "print('')\n",
    "\n",
    "# average number of unique songs played per session\n",
    "print('Average number of unique songs played per session for churned users: {:.0f}'.format(\n",
    "    df_clean.where(col('churn') == 1).groupBy('song').count().count() / df_clean.where(\n",
    "    col('churn') == 1).groupBy('userId', 'sessionId').count().count()))\n",
    "\n",
    "print('Average number of unique songs played per session for active users: {:.0f}'.format(\n",
    "    df_clean.where(col('churn') == 0).groupBy('song').count().count() / df_clean.where(\n",
    "    col('churn') == 0).groupBy('userId', 'sessionId').count().count()))"
   ]
  },
  {
   "cell_type": "markdown",
   "metadata": {},
   "source": [
    "**Interestingly, churned users have, on average, listened to a higher number of both unique artists and songs compared to active users, both in total and per session. So while they haven't been more active in any other ways that we've looked at so far, they seem to be more active in terms of how many different artists and songs they listen to.**"
   ]
  },
  {
   "cell_type": "code",
   "execution_count": 51,
   "metadata": {},
   "outputs": [
    {
     "name": "stdout",
     "output_type": "stream",
     "text": [
      "Share of churned users that are on a paid plan: 44%\n",
      "Share of churned users that are on a free plan: 56%\n",
      "\n",
      "Share of active users that are on a paid plan: 46%\n",
      "Share of active users that are on a free plan: 54%\n"
     ]
    }
   ],
   "source": [
    "# percent paid and free plans of churned users\n",
    "print('Share of churned users that are on a paid plan: {:.0f}%'.format(\n",
    "    df_clean.where((df_clean.level == 'paid') & (df_clean.churn == 1)).groupBy('userId').count().count() /\n",
    "    df_clean.where(df_clean.churn == 1).groupBy('userId', 'level').count().count() * 100))\n",
    "\n",
    "print('Share of churned users that are on a free plan: {:.0f}%'.format(\n",
    "    df_clean.where((df_clean.level == 'free') & (df_clean.churn == 1)).groupBy('userId').count().count() /\n",
    "    df_clean.where(df_clean.churn == 1).groupBy('userId', 'level').count().count() * 100))\n",
    "\n",
    "print('')\n",
    "\n",
    "# percent paid and free plans of active users\n",
    "print('Share of active users that are on a paid plan: {:.0f}%'.format(\n",
    "    df_clean.where((df_clean.level == 'paid') & (df_clean.churn == 0)).groupBy('userId').count().count() /\n",
    "    df_clean.where(df_clean.churn == 0).groupBy('userId', 'level').count().count() * 100))\n",
    "\n",
    "print('Share of active users that are on a free plan: {:.0f}%'.format(\n",
    "    df_clean.where((df_clean.level == 'free') & (df_clean.churn == 0)).groupBy('userId').count().count() /\n",
    "    df_clean.where(df_clean.churn == 0).groupBy('userId', 'level').count().count() * 100))"
   ]
  },
  {
   "cell_type": "markdown",
   "metadata": {},
   "source": [
    "**The share of users that are on paid or free plans are quite similar between churned and active users. Relatively speaking, churned users are slightly more on free plans and the distribution between free and paid plans is more even in the group with active users.**"
   ]
  },
  {
   "cell_type": "code",
   "execution_count": 52,
   "metadata": {
    "scrolled": false
   },
   "outputs": [
    {
     "data": {
      "image/png": "[encoded data removed]",
      "text/plain": [
       "<matplotlib.figure.Figure at 0x7f1d6c4ec668>"
      ]
     },
     "metadata": {
      "needs_background": "light"
     },
     "output_type": "display_data"
    },
    {
     "name": "stdout",
     "output_type": "stream",
     "text": [
      "\n",
      "Number of events per page type for all events with a churned user:\n",
      "+--------------------+-----+\n",
      "|                page|count|\n",
      "+--------------------+-----+\n",
      "|            NextSong|36394|\n",
      "|           Thumbs Up| 1859|\n",
      "|                Home| 1672|\n",
      "|     Add to Playlist| 1038|\n",
      "|         Roll Advert|  967|\n",
      "|          Add Friend|  636|\n",
      "|              Logout|  553|\n",
      "|         Thumbs Down|  496|\n",
      "|           Downgrade|  337|\n",
      "|            Settings|  270|\n",
      "|                Help|  239|\n",
      "|             Upgrade|  112|\n",
      "|       Save Settings|   58|\n",
      "|               About|   56|\n",
      "|              Cancel|   52|\n",
      "|Cancellation Conf...|   52|\n",
      "|               Error|   32|\n",
      "|      Submit Upgrade|   32|\n",
      "|    Submit Downgrade|    9|\n",
      "+--------------------+-----+\n",
      "\n",
      "Number of events per page type for all events with active users:\n",
      "+----------------+------+\n",
      "|            page| count|\n",
      "+----------------+------+\n",
      "|        NextSong|191714|\n",
      "|       Thumbs Up| 10692|\n",
      "|            Home|  8410|\n",
      "| Add to Playlist|  5488|\n",
      "|      Add Friend|  3641|\n",
      "|     Roll Advert|  2966|\n",
      "|          Logout|  2673|\n",
      "|     Thumbs Down|  2050|\n",
      "|       Downgrade|  1718|\n",
      "|        Settings|  1244|\n",
      "|            Help|  1215|\n",
      "|           About|   439|\n",
      "|         Upgrade|   387|\n",
      "|   Save Settings|   252|\n",
      "|           Error|   220|\n",
      "|  Submit Upgrade|   127|\n",
      "|Submit Downgrade|    54|\n",
      "+----------------+------+\n",
      "\n"
     ]
    }
   ],
   "source": [
    "# graph of number of events per page type per user group\n",
    "# plot results as proportions instead of counts\n",
    "# source: https://stackoverflow.com/questions/35692781/python-plotting-percentage-in-seaborn-bar-plot\n",
    "plt.figure(figsize=(15,10))\n",
    "\n",
    "df_page_pd = df_clean.select('churn', 'page').toPandas()\n",
    "x, y, hue = 'page', 'proportion', 'churn'\n",
    "hue_order = ['Active users', 'Churned users']\n",
    "\n",
    "(df_page_pd[x]\n",
    " .groupby(df_page_pd[hue])\n",
    " .value_counts(normalize=True)\n",
    " .rename(y)\n",
    " .reset_index()\n",
    " .pipe((sns.barplot, 'data'), x=x, y=y, hue=hue))\n",
    "\n",
    "plt.legend(loc='upper right', title='Churn')\n",
    "plt.title('Number of events per page type (proportion of user group)')\n",
    "plt.xlabel('Page')\n",
    "plt.ylabel('Proportion')\n",
    "plt.xticks(rotation=90)\n",
    "plt.show()\n",
    "\n",
    "print('')\n",
    "\n",
    "print('Number of events per page type for all events with a churned user:')\n",
    "df_clean.where(col('churn') == 1).groupBy('page').count().sort(desc('count')).show()\n",
    "\n",
    "print('Number of events per page type for all events with active users:')\n",
    "df_clean.where(col('churn') == 0).groupBy('page').count().sort(desc('count')).show()"
   ]
  },
  {
   "cell_type": "markdown",
   "metadata": {},
   "source": [
    "**The most frequent page types for all events by churned and active users is pretty similar, the top 4 are in the same frequency order for both: 'NextSong', 'Thumbs Up', 'Home' and 'Add to Playlist'. More than 80% of the dataset for both churned and active users is events with page type 'NextSong', which relates to listening to music.**\n",
    "\n",
    "**The pages 'NextSong', 'Thumbs Up', 'Home', 'Add Friend', 'Roll Advert', 'Logout', 'Thumbs Down', 'Settings' and 'Upgrade' all have some difference in proportion between churned and active users for all events. We should look into these on a unique user basis as well.**"
   ]
  },
  {
   "cell_type": "code",
   "execution_count": 53,
   "metadata": {},
   "outputs": [
    {
     "name": "stdout",
     "output_type": "stream",
     "text": [
      "Average number of songs played for churned users: 700\n",
      "Average number of songs played for active users: 1108\n"
     ]
    }
   ],
   "source": [
    "# average number of songes played for churned and active users\n",
    "print('Average number of songs played for churned users: {:.0f}'.format(\n",
    "    df_clean.where((df_clean.page == 'NextSong') & (df_clean.churn == 1)).count() /\n",
    "    df_clean.where(df_clean.churn == 1).groupBy('userId').count().count()))\n",
    "\n",
    "print('Average number of songs played for active users: {:.0f}'.format(\n",
    "    df_clean.where((df_clean.page == 'NextSong') & (df_clean.churn == 0)).count() /\n",
    "    df_clean.where(df_clean.churn == 0).groupBy('userId').count().count()))"
   ]
  },
  {
   "cell_type": "code",
   "execution_count": 54,
   "metadata": {},
   "outputs": [
    {
     "name": "stdout",
     "output_type": "stream",
     "text": [
      "Average number of thumbs up for churned users: 36\n",
      "Average number of thumbs up for active users: 62\n"
     ]
    }
   ],
   "source": [
    "# average number of thumbs up for churned and active users\n",
    "print('Average number of thumbs up for churned users: {:.0f}'.format(\n",
    "    df_clean.where((df_clean.page == 'Thumbs Up') & (df_clean.churn == 1)).count() /\n",
    "    df_clean.where(df_clean.churn == 1).groupBy('userId').count().count()))\n",
    "\n",
    "print('Average number of thumbs up for active users: {:.0f}'.format(\n",
    "    df_clean.where((df_clean.page == 'Thumbs Up') & (df_clean.churn == 0)).count() /\n",
    "    df_clean.where(df_clean.churn == 0).groupBy('userId').count().count()))"
   ]
  },
  {
   "cell_type": "code",
   "execution_count": 55,
   "metadata": {},
   "outputs": [
    {
     "name": "stdout",
     "output_type": "stream",
     "text": [
      "Average number of home page visits for churned users: 32\n",
      "Average number of home page visits for active users: 49\n"
     ]
    }
   ],
   "source": [
    "# average number of home page visits for churned and active users\n",
    "print('Average number of home page visits for churned users: {:.0f}'.format(\n",
    "    df_clean.where((df_clean.page == 'Home') & (df_clean.churn == 1)).count() /\n",
    "    df_clean.where(df_clean.churn == 1).groupBy('userId').count().count()))\n",
    "\n",
    "print('Average number of home page visits for active users: {:.0f}'.format(\n",
    "    df_clean.where((df_clean.page == 'Home') & (df_clean.churn == 0)).count() /\n",
    "    df_clean.where(df_clean.churn == 0).groupBy('userId').count().count()))"
   ]
  },
  {
   "cell_type": "code",
   "execution_count": 56,
   "metadata": {},
   "outputs": [
    {
     "name": "stdout",
     "output_type": "stream",
     "text": [
      "Average number of added friends for churned users: 12\n",
      "Average number of added friends for active users: 21\n"
     ]
    }
   ],
   "source": [
    "# average number of added friends for churned and active users\n",
    "print('Average number of added friends for churned users: {:.0f}'.format(\n",
    "    df_clean.where((df_clean.page == 'Add Friend') & (df_clean.churn == 1)).count() /\n",
    "    df_clean.where(df_clean.churn == 1).groupBy('userId').count().count()))\n",
    "\n",
    "print('Average number of added friends for active users: {:.0f}'.format(\n",
    "    df_clean.where((df_clean.page == 'Add Friend') & (df_clean.churn == 0)).count() /\n",
    "    df_clean.where(df_clean.churn == 0).groupBy('userId').count().count()))"
   ]
  },
  {
   "cell_type": "markdown",
   "metadata": {},
   "source": [
    "**On average, active users listen to more songs, give more thumbs up, visit the home page more (probably because this might be the first page you receive before or just after you log in) and add more friends.**"
   ]
  },
  {
   "cell_type": "code",
   "execution_count": 57,
   "metadata": {},
   "outputs": [
    {
     "name": "stdout",
     "output_type": "stream",
     "text": [
      "Average number of ads received for churned users: 19\n",
      "Average number of ads received for active users: 17\n"
     ]
    }
   ],
   "source": [
    "# average number of ads received for churned and active users\n",
    "print('Average number of ads received for churned users: {:.0f}'.format(\n",
    "    df_clean.where((df_clean.page == 'Roll Advert') & (df_clean.churn == 1)).count() /\n",
    "    df_clean.where(df_clean.churn == 1).groupBy('userId').count().count()))\n",
    "\n",
    "print('Average number of ads received for active users: {:.0f}'.format(\n",
    "    df_clean.where((df_clean.page == 'Roll Advert') & (df_clean.churn == 0)).count() /\n",
    "    df_clean.where(df_clean.churn == 0).groupBy('userId').count().count()))"
   ]
  },
  {
   "cell_type": "markdown",
   "metadata": {},
   "source": [
    "**There is not a great difference in the number of ads received for churned and active users, churned users have received a few more on average. This variable might still be interesting though since we could see earlier that a fair amount of churned users received an ad before cancelling their account.**"
   ]
  },
  {
   "cell_type": "code",
   "execution_count": 58,
   "metadata": {},
   "outputs": [
    {
     "name": "stdout",
     "output_type": "stream",
     "text": [
      "Average number of logouts for churned users: 11\n",
      "Average number of logouts for active users: 15\n"
     ]
    }
   ],
   "source": [
    "# average number of logouts for churned and active users\n",
    "print('Average number of logouts for churned users: {:.0f}'.format(\n",
    "    df_clean.where((df_clean.page == 'Logout') & (df_clean.churn == 1)).count() /\n",
    "    df_clean.where(df_clean.churn == 1).groupBy('userId').count().count()))\n",
    "\n",
    "print('Average number of logouts for active users: {:.0f}'.format(\n",
    "    df_clean.where((df_clean.page == 'Logout') & (df_clean.churn == 0)).count() /\n",
    "    df_clean.where(df_clean.churn == 0).groupBy('userId').count().count()))"
   ]
  },
  {
   "cell_type": "code",
   "execution_count": 59,
   "metadata": {},
   "outputs": [
    {
     "name": "stdout",
     "output_type": "stream",
     "text": [
      "Average number of thumbs down for churned users: 10\n",
      "Average number of thumbs down for active users: 12\n"
     ]
    }
   ],
   "source": [
    "# average number of thumbs down for churned and active users\n",
    "print('Average number of thumbs down for churned users: {:.0f}'.format(\n",
    "    df_clean.where((df_clean.page == 'Thumbs Down') & (df_clean.churn == 1)).count() /\n",
    "    df_clean.where(df_clean.churn == 1).groupBy('userId').count().count()))\n",
    "\n",
    "print('Average number of thumbs down for active users: {:.0f}'.format(\n",
    "    df_clean.where((df_clean.page == 'Thumbs Down') & (df_clean.churn == 0)).count() /\n",
    "    df_clean.where(df_clean.churn == 0).groupBy('userId').count().count()))"
   ]
  },
  {
   "cell_type": "code",
   "execution_count": 60,
   "metadata": {},
   "outputs": [
    {
     "name": "stdout",
     "output_type": "stream",
     "text": [
      "Average number of settings page visits for churned users: 5\n",
      "Average number of settings page visits for active users: 7\n"
     ]
    }
   ],
   "source": [
    "# average number of settings page visits for churned and active users\n",
    "print('Average number of settings page visits for churned users: {:.0f}'.format(\n",
    "    df_clean.where((df_clean.page == 'Settings') & (df_clean.churn == 1)).count() /\n",
    "    df_clean.where(df_clean.churn == 1).groupBy('userId').count().count()))\n",
    "\n",
    "print('Average number of settings page visits for active users: {:.0f}'.format(\n",
    "    df_clean.where((df_clean.page == 'Settings') & (df_clean.churn == 0)).count() /\n",
    "    df_clean.where(df_clean.churn == 0).groupBy('userId').count().count()))"
   ]
  },
  {
   "cell_type": "code",
   "execution_count": 61,
   "metadata": {},
   "outputs": [
    {
     "name": "stdout",
     "output_type": "stream",
     "text": [
      "Average number of plan upgrades for churned users: 2\n",
      "Average number of plan upgrades for active users: 2\n"
     ]
    }
   ],
   "source": [
    "# average number of plan upgrades for churned and active users\n",
    "print('Average number of plan upgrades for churned users: {:.0f}'.format(\n",
    "    df_clean.where((df_clean.page == 'Upgrade') & (df_clean.churn == 1)).count() /\n",
    "    df_clean.where(df_clean.churn == 1).groupBy('userId').count().count()))\n",
    "\n",
    "print('Average number of plan upgrades for active users: {:.0f}'.format(\n",
    "    df_clean.where((df_clean.page == 'Upgrade') & (df_clean.churn == 0)).count() /\n",
    "    df_clean.where(df_clean.churn == 0).groupBy('userId').count().count()))"
   ]
  },
  {
   "cell_type": "markdown",
   "metadata": {},
   "source": [
    "**On average, active users log out more, give more thumbs down, visit the settings page more and upgrade their plans more. There are not great differences between the groups here.**"
   ]
  },
  {
   "cell_type": "code",
   "execution_count": 62,
   "metadata": {},
   "outputs": [
    {
     "name": "stdout",
     "output_type": "stream",
     "text": [
      "Number of female users in dataset: 104\n",
      "Number of male users in dataset: 121\n"
     ]
    }
   ],
   "source": [
    "# number of females in dataset\n",
    "print('Number of female users in dataset: {:.0f}'.format(\n",
    "df_clean.where(df_clean.gender == 'F').groupBy('userId').count().count()))\n",
    "\n",
    "# number of males in dataset\n",
    "print('Number of male users in dataset: {:.0f}'.format(\n",
    "df_clean.where(df_clean.gender == 'M').groupBy('userId').count().count()))"
   ]
  },
  {
   "cell_type": "code",
   "execution_count": 63,
   "metadata": {},
   "outputs": [
    {
     "name": "stdout",
     "output_type": "stream",
     "text": [
      "Percentage of all events that where made by females: 56%\n",
      "Percentage of all events that where made by males: 44%\n"
     ]
    }
   ],
   "source": [
    "# percent female of all events\n",
    "print('Percentage of all events that where made by females: {:.0f}%'.format(\n",
    "df_clean.where(df_clean.gender == 'F').count() / df_clean.count() * 100))\n",
    "\n",
    "# percent male of all events\n",
    "print('Percentage of all events that where made by males: {:.0f}%'.format(\n",
    "df_clean.where(df_clean.gender == 'M').count() / df_clean.count() * 100))"
   ]
  },
  {
   "cell_type": "markdown",
   "metadata": {},
   "source": [
    "**There are more male than female users in the dataset. If we look at total events, a majority of them were made by females. So there are fewer females in the dataset but they appear to be more active.**"
   ]
  },
  {
   "cell_type": "code",
   "execution_count": 64,
   "metadata": {
    "scrolled": false
   },
   "outputs": [
    {
     "data": {
      "image/png": "[encoded data removed]",
      "text/plain": [
       "<matplotlib.figure.Figure at 0x7f1d75ee9be0>"
      ]
     },
     "metadata": {
      "needs_background": "light"
     },
     "output_type": "display_data"
    },
    {
     "name": "stdout",
     "output_type": "stream",
     "text": [
      "\n",
      "Share of churned users that are male: 62%\n",
      "Share of churned users that are female: 38%\n",
      "\n",
      "Share of active users that are male: 51%\n",
      "Share of active users that are female: 49%\n"
     ]
    }
   ],
   "source": [
    "# graph of gender proportion for all events per user group\n",
    "plt.figure(figsize=(15,10))\n",
    "\n",
    "df_gender_pd = df_clean.select('churn', 'gender').toPandas()\n",
    "x, y, hue = 'gender', 'proportion', 'churn'\n",
    "hue_order = ['Active users', 'Churned users']\n",
    "\n",
    "(df_gender_pd[x]\n",
    " .groupby(df_gender_pd[hue])\n",
    " .value_counts(normalize=True)\n",
    " .rename(y)\n",
    " .reset_index()\n",
    " .pipe((sns.barplot, 'data'), x=x, y=y, hue=hue))\n",
    "\n",
    "plt.legend(loc='upper right', title='Churn')\n",
    "plt.title('Gender distribution for all events (proportion of user group)')\n",
    "plt.xlabel('Gender')\n",
    "plt.ylabel('Proportion')\n",
    "plt.show()\n",
    "\n",
    "print('')\n",
    "\n",
    "# percent males and females of churned users\n",
    "print('Share of churned users that are male: {:.0f}%'.format(\n",
    "    df_clean.where((df_clean.gender == 'M') & (df_clean.churn == 1)).groupBy('userId').count().count() /\n",
    "    df_clean.where(df_clean.churn == 1).groupBy('userId', 'gender').count().count() * 100))\n",
    "\n",
    "print('Share of churned users that are female: {:.0f}%'.format(\n",
    "    df_clean.where((df_clean.gender == 'F') & (df_clean.churn == 1)).groupBy('userId').count().count() /\n",
    "    df_clean.where(df_clean.churn == 1).groupBy('userId', 'gender').count().count() * 100))\n",
    "\n",
    "print('')\n",
    "\n",
    "# percent males and females of active users\n",
    "print('Share of active users that are male: {:.0f}%'.format(\n",
    "    df_clean.where((df_clean.gender == 'M') & (df_clean.churn == 0)).groupBy('userId').count().count() /\n",
    "    df_clean.where(df_clean.churn == 0).groupBy('userId', 'gender').count().count() * 100))\n",
    "\n",
    "print('Share of active users that are female: {:.0f}%'.format(\n",
    "    df_clean.where((df_clean.gender == 'F') & (df_clean.churn == 0)).groupBy('userId').count().count() /\n",
    "    df_clean.where(df_clean.churn == 0).groupBy('userId', 'gender').count().count() * 100))"
   ]
  },
  {
   "cell_type": "markdown",
   "metadata": {},
   "source": [
    "**There seems to be a difference in terms of gender between churned and active users when it comes to all events, a bigger proportion of males are churned users and a bigger proportion of females are active users. When we look at unique users, the gender distribution for active users is pretty even between the genders, but a majority of the churned users are male.**"
   ]
  },
  {
   "cell_type": "code",
   "execution_count": 65,
   "metadata": {},
   "outputs": [
    {
     "name": "stdout",
     "output_type": "stream",
     "text": [
      "Share of females that are churned users: 19%\n",
      "Share of females that are active users: 81%\n",
      "\n",
      "Share of males that are churned users: 26%\n",
      "Share of males that are active users: 74%\n"
     ]
    }
   ],
   "source": [
    "# percent churned and active of all females\n",
    "print('Share of females that are churned users: {:.0f}%'.format(\n",
    "    df_clean.where((df_clean.gender == 'F') & (df_clean.churn == 1)).groupBy('userId').count().count() /\n",
    "    df_clean.where(df_clean.gender == 'F').groupBy('userId').count().count() * 100))\n",
    "\n",
    "print('Share of females that are active users: {:.0f}%'.format(\n",
    "    df_clean.where((df_clean.gender == 'F') & (df_clean.churn == 0)).groupBy('userId').count().count() /\n",
    "    df_clean.where(df_clean.gender == 'F').groupBy('userId').count().count() * 100))\n",
    "    \n",
    "print('')\n",
    "\n",
    "# percent churned and active of all males\n",
    "print('Share of males that are churned users: {:.0f}%'.format(\n",
    "    df_clean.where((df_clean.gender == 'M') & (df_clean.churn == 1)).groupBy('userId').count().count() /\n",
    "    df_clean.where(df_clean.gender == 'M').groupBy('userId').count().count() * 100))\n",
    "\n",
    "print('Share of males that are active users: {:.0f}%'.format(\n",
    "    df_clean.where((df_clean.gender == 'M') & (df_clean.churn == 0)).groupBy('userId').count().count() /\n",
    "    df_clean.where(df_clean.gender == 'M').groupBy('userId').count().count() * 100))"
   ]
  },
  {
   "cell_type": "markdown",
   "metadata": {},
   "source": [
    "**Above we can see the share of churned and active users for all females and males. There is a greater share of all females that are active and a greater share of males that have churned relative to the proportions for females.**"
   ]
  },
  {
   "cell_type": "code",
   "execution_count": 66,
   "metadata": {
    "scrolled": false
   },
   "outputs": [
    {
     "data": {
      "image/png": "[encoded data removed]",
      "text/plain": [
       "<matplotlib.figure.Figure at 0x7f1d73d15978>"
      ]
     },
     "metadata": {
      "needs_background": "light"
     },
     "output_type": "display_data"
    },
    {
     "name": "stdout",
     "output_type": "stream",
     "text": [
      "\n",
      "States for all events with a churned user:\n",
      "+-----+-----+\n",
      "|state|count|\n",
      "+-----+-----+\n",
      "|   CA| 7613|\n",
      "|   CO| 4317|\n",
      "|   MS| 3839|\n",
      "|   WA| 3526|\n",
      "|   NY| 3356|\n",
      "|   OH| 3173|\n",
      "|   KY| 3016|\n",
      "|   AL| 2102|\n",
      "|   MI| 1958|\n",
      "|   FL| 1763|\n",
      "|   IL| 1603|\n",
      "|   PA| 1580|\n",
      "|   MO| 1361|\n",
      "|   TX| 1294|\n",
      "|   NC| 1050|\n",
      "|   IN|  918|\n",
      "|   AR|  520|\n",
      "|   SC|  494|\n",
      "|   MD|  268|\n",
      "|   MT|  254|\n",
      "|   AZ|  251|\n",
      "|   LA|  216|\n",
      "|   DC|  158|\n",
      "|   VA|  149|\n",
      "|   TN|   62|\n",
      "|   OR|   23|\n",
      "+-----+-----+\n",
      "\n",
      "States for all events with an active user:\n",
      "+-----+-----+\n",
      "|state|count|\n",
      "+-----+-----+\n",
      "|   CA|39158|\n",
      "|   NY|24864|\n",
      "|   TX|22200|\n",
      "|   NC|17418|\n",
      "|   MA|13873|\n",
      "|   FL|11427|\n",
      "|   PA| 8048|\n",
      "|   KY| 7326|\n",
      "|   NJ| 7001|\n",
      "|   GA| 6952|\n",
      "|   CT| 6720|\n",
      "|   IL| 6616|\n",
      "|   MO| 6059|\n",
      "|   MI| 5258|\n",
      "|   NH| 4764|\n",
      "|   VA| 4748|\n",
      "|   AZ| 4595|\n",
      "|   AK| 3563|\n",
      "|   TN| 3535|\n",
      "|   MD| 3424|\n",
      "|   CO| 3176|\n",
      "|   DC| 2932|\n",
      "|   WV| 2278|\n",
      "|   MN| 2241|\n",
      "|   MT| 2132|\n",
      "|   NV| 2042|\n",
      "|   OK| 1842|\n",
      "|   UT| 1419|\n",
      "|   WI| 1342|\n",
      "|   SC| 1011|\n",
      "|   LA|  955|\n",
      "|   RI|  927|\n",
      "|   MS|  795|\n",
      "|   AL|  755|\n",
      "|   IA|  651|\n",
      "|   OH|  347|\n",
      "|   IN|  344|\n",
      "|   WA|  246|\n",
      "|   NE|  187|\n",
      "|   OR|  119|\n",
      "+-----+-----+\n",
      "\n"
     ]
    }
   ],
   "source": [
    "# graph of location distribution for all events per user group\n",
    "plt.figure(figsize=(15,10))\n",
    "\n",
    "df_location_pd = df_clean.select('churn', 'state').toPandas()\n",
    "x, y, hue = 'state', 'proportion', 'churn'\n",
    "hue_order = ['Active users', 'Churned users']\n",
    "\n",
    "(df_location_pd[x]\n",
    " .groupby(df_location_pd[hue])\n",
    " .value_counts(normalize=True)\n",
    " .rename(y)\n",
    " .reset_index()\n",
    " .pipe((sns.barplot, 'data'), x=x, y=y, hue=hue))\n",
    "\n",
    "plt.legend(loc='upper right', title='Churn')\n",
    "plt.title('Location distribution for all events (proportion of user group)')\n",
    "plt.xlabel('State')\n",
    "plt.ylabel('Proportion')\n",
    "plt.xticks(rotation=90)\n",
    "plt.show()\n",
    "\n",
    "print('')\n",
    "\n",
    "print('States for all events with a churned user:')\n",
    "df_clean.where(col('churn') == 1).groupBy('state').count().sort(desc('count')).show(40)\n",
    "\n",
    "print('States for all events with an active user:')\n",
    "df_clean.where(col('churn') == 0).groupBy('state').count().sort(desc('count')).show(40)"
   ]
  },
  {
   "cell_type": "markdown",
   "metadata": {},
   "source": [
    "**The states seem to differ between churned and active users when it comes to all events in the dataset. California (CA) has the most events for both groups, but there is a bigger proportion of events for Colorado (CO) and Massachusetts (MA) for churned users and for New York (NY) and Texas (TX) for active users.**"
   ]
  },
  {
   "cell_type": "markdown",
   "metadata": {},
   "source": [
    "# Feature Engineering\n",
    "Once you've familiarized yourself with the data, build out the features you find promising to train your model on. To work with the full dataset, you can follow the following steps.\n",
    "- Write a script to extract the necessary features from the smaller subset of data\n",
    "- Ensure that your script is scalable, using the best practices discussed in Lesson 3\n",
    "- Try your script on the full data set, debugging your script if necessary\n",
    "\n",
    "If you are working in the classroom workspace, you can just extract features based on the small subset of data contained here. Be sure to transfer over this work to the larger dataset when you work on your Spark cluster."
   ]
  },
  {
   "cell_type": "markdown",
   "metadata": {},
   "source": [
    "**These variables appear to have a great enough difference between churned and active users to be interesting to include in a model to predict customer churn:**\n",
    "\n",
    "- **Number of events per user**\n",
    "- **Number of sessions per user**\n",
    "- **Average session length per user**\n",
    "- **Number of days registered per user**\n",
    "- **Number of unique artists played per user**\n",
    "- **Number of unique songs played to per user**\n",
    "- **Number of 'page = NextSong' counts per user**\n",
    "- **Number of 'page = Thumbs Up' counts per user**\n",
    "- **Number of 'page = Home' counts per user**\n",
    "- **Number of 'page = Add Friend' counts per user**\n",
    "- **Number of 'page = Roll Advert' counts per user**\n",
    "- **Gender**\n",
    "- **State**"
   ]
  },
  {
   "cell_type": "markdown",
   "metadata": {},
   "source": [
    "**Lets calculate and add the columns above to dataset to check more in depth if these are useful in modeling:**"
   ]
  },
  {
   "cell_type": "code",
   "execution_count": 67,
   "metadata": {},
   "outputs": [],
   "source": [
    "# calculate and add new columns\n",
    "\n",
    "# create partitions\n",
    "w1 = Window.partitionBy('userId')\n",
    "w2 = Window.partitionBy('userId', 'sessionId')\n",
    "w3 = Window.partitionBy('userId', 'artist')\n",
    "w4 = Window.partitionBy('userId', 'song')\n",
    "\n",
    "# total_events - column with total number of events per user\n",
    "# create dataframe with row counts per user\n",
    "df_events = df_clean.select('userId', count('userId').over(w1).alias('total_events')).distinct()\n",
    "df_events = df_events.select(col('userId').alias('userId1'), 'total_events')\n",
    "\n",
    "# total_sessions - column with total number of sessions per user\n",
    "# create dataframe with session counts per user\n",
    "df_sessions = df_clean.select('userId', 'sessionId', count('userId').over(w2).alias('count')).distinct()\n",
    "df_sessions = df_sessions.withColumn('total_sessions', count('sessionId').over(w1))\n",
    "df_sessions = df_sessions.dropDuplicates(['userId'])\n",
    "df_sessions = df_sessions.select(col('userId').alias('userId2'), 'total_sessions')\n",
    "\n",
    "# min_ts_session and max_ts_session - columns with timestamp from first and latest event per user and session\n",
    "# session_length - column with session length in hours per session\n",
    "# avg_session_length - column with average session length per user\n",
    "# udf to convert time to correct format and show time difference in hours\n",
    "time_delta = udf(lambda y, x: (datetime.datetime.strptime(y, '%Y-%m-%d %H:%M:%S') - \n",
    "                                   datetime.datetime.strptime(x, '%Y-%m-%d %H:%M:%S')).total_seconds()/3600)\n",
    "\n",
    "# create columns with timestamp (ts) from first and latest event per user and session\n",
    "df_clean = df_clean.withColumn('min_ts_session', min('ts').over(w2))\n",
    "df_clean = df_clean.withColumn('max_ts_session', max('ts').over(w2))\n",
    "\n",
    "# apply udf when creating column with time difference (in hours)\n",
    "df_clean = df_clean.withColumn('session_length', time_delta(df_clean['max_ts_session'], \n",
    "                                                            df_clean['min_ts_session']).cast('float'))\n",
    "\n",
    "# create column with average session length per user (in hours)\n",
    "df_clean = df_clean.withColumn('avg_session_length', avg('session_length').over(w1))\n",
    "    \n",
    "# latest_ts and days_registered - columns with timestamp from latest event and with number of days registered\n",
    "# create column with timestamp (ts) from latest event per user\n",
    "df_clean = df_clean.withColumn('latest_ts', max('ts').over(w1))\n",
    "\n",
    "# create column 'days_registered'\n",
    "df_clean = df_clean.withColumn('days_registered', datediff(df_clean['latest_ts'], df_clean['registration']))\n",
    "\n",
    "# unique_artists - column with number of unique artists played per user\n",
    "# create dataframe with artist counts per user\n",
    "df_artist = df_clean.select('userId', 'artist', count('userId').over(w3).alias('count')).distinct()\n",
    "df_artist = df_artist.withColumn('unique_artists', count('artist').over(w1))\n",
    "df_artist = df_artist.dropDuplicates(['userId'])\n",
    "df_artist = df_artist.select(col('userId').alias('userId3'), 'unique_artists')\n",
    "\n",
    "# unique_songs - column with number of unique songs played per user\n",
    "# create dataframe with song counts per user\n",
    "df_song = df_clean.select('userId', 'song', count('userId').over(w4).alias('count')).distinct()\n",
    "df_song = df_song.withColumn('unique_songs', count('song').over(w1))\n",
    "df_song = df_song.dropDuplicates(['userId'])\n",
    "df_song = df_song.select(col('userId').alias('userId4'), 'unique_songs')\n",
    "\n",
    "# total_nextsong - column with number of 'NextSong' events per user\n",
    "# create dataframe with 'page = NextSong' counts per user\n",
    "df_nextsong = df_clean.where(df_clean.page == 'NextSong').select(\n",
    "    'userId', count('userId').over(w1).alias('total_nextsong')).distinct()\n",
    "df_nextsong = df_nextsong.select(col('userId').alias('userId5'), 'total_nextsong')\n",
    "\n",
    "# total_thumbsup - column with number of 'Thumbs Up' events per user\n",
    "# create dataframe with 'page = Thumbs Up' counts per user\n",
    "df_thumbsup = df_clean.where(df_clean.page == 'Thumbs Up').select(\n",
    "    'userId', count('userId').over(w1).alias('total_thumbsup')).distinct()\n",
    "df_thumbsup = df_thumbsup.select(col('userId').alias('userId6'), 'total_thumbsup')\n",
    "\n",
    "# total_home - column with number of 'Home' events per user\n",
    "# create dataframe with 'page = Home' counts per user\n",
    "df_home = df_clean.where(df_clean.page == 'Home').select(\n",
    "    'userId', count('userId').over(w1).alias('total_home')).distinct()\n",
    "df_home = df_home.select(col('userId').alias('userId7'), 'total_home')\n",
    "\n",
    "# total_addfriend - column with number of 'Add Friend' events per user\n",
    "# create dataframe with 'page = Add Friend' counts per user\n",
    "df_addfriend = df_clean.where(df_clean.page == 'Add Friend').select(\n",
    "    'userId', count('userId').over(w1).alias('total_addfriend')).distinct()\n",
    "df_addfriend = df_addfriend.select(col('userId').alias('userId8'), 'total_addfriend')\n",
    "\n",
    "# total_rolladvert - column with number of 'Roll Advert' events per user\n",
    "# create dataframe with 'page = Roll Advert' counts per user\n",
    "df_rolladvert = df_clean.where(df_clean.page == 'Roll Advert').select(\n",
    "    'userId', count('userId').over(w1).alias('total_rolladvert')).distinct()\n",
    "df_rolladvert = df_rolladvert.select(col('userId').alias('userId9'), 'total_rolladvert')\n",
    "\n",
    "# latest_event - column indicating row with latest event per user\n",
    "df_clean = df_clean.withColumn('latest_event', when(df_clean.latest_ts == df_clean.ts, 1).otherwise(0))\n",
    "\n",
    "# keep only row with latest event per user in data to be used for modeling\n",
    "df_ml = df_clean.where(col('latest_event') == 1)\n",
    "\n",
    "# drop duplicates from dataframe\n",
    "df_ml = df_ml.dropDuplicates(['userId'])\n",
    "\n",
    "# recode 'gender' to numerical binary\n",
    "df_ml = df_ml.withColumn('gender', when(df_ml.gender == 'F', 1).otherwise(0))\n",
    "\n",
    "# only keep columns to be used in modeling and replace NaN with 0\n",
    "df_ml = df_ml.select('userId', 'churn', 'gender', 'state', 'avg_session_length', \n",
    "                     'days_registered', ).fillna(0)\n",
    "\n",
    "# add columns to df_ml and replace NaN with 0 for column\n",
    "# add column 'total_events'\n",
    "df_ml = df_ml.join(df_events, df_ml.userId == df_events.userId1, how='left').select(\n",
    "    df_ml['*'], df_events['total_events']).fillna(0, subset=['total_events'])\n",
    "\n",
    "# add column 'total_sessions'\n",
    "df_ml = df_ml.join(df_sessions, df_ml.userId == df_sessions.userId2, how='left').select(\n",
    "    df_ml['*'], df_sessions['total_sessions']).fillna(0, subset=['total_sessions'])\n",
    "\n",
    "# add column 'unique_artists'\n",
    "df_ml = df_ml.join(df_artist, df_ml.userId == df_artist.userId3, how='left').select(\n",
    "    df_ml['*'], df_artist['unique_artists']).fillna(0, subset=['unique_artists'])\n",
    "\n",
    "# add column 'unique_songs'\n",
    "df_ml = df_ml.join(df_song, df_ml.userId == df_song.userId4, how='left').select(\n",
    "    df_ml['*'], df_song['unique_songs']).fillna(0, subset=['unique_songs'])\n",
    "\n",
    "# add column 'total_nextsong'\n",
    "df_ml = df_ml.join(df_nextsong, df_ml.userId == df_nextsong.userId5, how='left').select(\n",
    "    df_ml['*'], df_nextsong['total_nextsong']).fillna(0, subset=['total_nextsong'])\n",
    "\n",
    "# add column 'total_thumbsup'\n",
    "df_ml = df_ml.join(df_thumbsup, df_ml.userId == df_thumbsup.userId6, how='left').select(\n",
    "    df_ml['*'], df_thumbsup['total_thumbsup']).fillna(0, subset=['total_thumbsup'])\n",
    "\n",
    "# add column 'total_home'\n",
    "df_ml = df_ml.join(df_home, df_ml.userId == df_home.userId7, how='left').select(\n",
    "    df_ml['*'], df_home['total_home']).fillna(0, subset=['total_home'])\n",
    "\n",
    "# add column 'total_addfriend'\n",
    "df_ml = df_ml.join(df_addfriend, df_ml.userId == df_addfriend.userId8, how='left').select(\n",
    "    df_ml['*'], df_addfriend['total_addfriend']).fillna(0, subset=['total_addfriend'])\n",
    "\n",
    "# add column 'total_rolladvert'\n",
    "df_ml = df_ml.join(df_rolladvert, df_ml.userId == df_rolladvert.userId9, how='left').select(\n",
    "    df_ml['*'], df_rolladvert['total_rolladvert']).fillna(0, subset=['total_rolladvert'])"
   ]
  },
  {
   "cell_type": "code",
   "execution_count": 68,
   "metadata": {},
   "outputs": [
    {
     "name": "stdout",
     "output_type": "stream",
     "text": [
      "root\n",
      " |-- userId: string (nullable = true)\n",
      " |-- churn: integer (nullable = false)\n",
      " |-- gender: integer (nullable = false)\n",
      " |-- state: string (nullable = true)\n",
      " |-- avg_session_length: double (nullable = false)\n",
      " |-- days_registered: integer (nullable = true)\n",
      " |-- total_events: long (nullable = true)\n",
      " |-- total_sessions: long (nullable = true)\n",
      " |-- unique_artists: long (nullable = true)\n",
      " |-- unique_songs: long (nullable = true)\n",
      " |-- total_nextsong: long (nullable = true)\n",
      " |-- total_thumbsup: long (nullable = true)\n",
      " |-- total_home: long (nullable = true)\n",
      " |-- total_addfriend: long (nullable = true)\n",
      " |-- total_rolladvert: long (nullable = true)\n",
      "\n"
     ]
    }
   ],
   "source": [
    "df_ml.printSchema()"
   ]
  },
  {
   "cell_type": "code",
   "execution_count": 69,
   "metadata": {},
   "outputs": [
    {
     "data": {
      "text/plain": [
       "DataFrame[userId: string, churn: int, gender: int, state: string, avg_session_length: double, days_registered: int, total_events: bigint, total_sessions: bigint, unique_artists: bigint, unique_songs: bigint, total_nextsong: bigint, total_thumbsup: bigint, total_home: bigint, total_addfriend: bigint, total_rolladvert: bigint]"
      ]
     },
     "execution_count": 69,
     "metadata": {},
     "output_type": "execute_result"
    }
   ],
   "source": [
    "df_ml.cache()"
   ]
  },
  {
   "cell_type": "markdown",
   "metadata": {},
   "source": [
    "**Lets have a look at the new columns and how the distribution might differ between churned and active users:**"
   ]
  },
  {
   "cell_type": "code",
   "execution_count": 70,
   "metadata": {},
   "outputs": [
    {
     "data": {
      "image/png": "[encoded data removed]",
      "text/plain": [
       "<matplotlib.figure.Figure at 0x7f1d717d30f0>"
      ]
     },
     "metadata": {
      "needs_background": "light"
     },
     "output_type": "display_data"
    },
    {
     "name": "stdout",
     "output_type": "stream",
     "text": [
      "Basic statistics for churned users:\n",
      "+-------+-----------------+\n",
      "|summary|     total_events|\n",
      "+-------+-----------------+\n",
      "|  count|               52|\n",
      "|   mean|862.7692307692307|\n",
      "| stddev|852.2623782542744|\n",
      "|    min|               11|\n",
      "|    25%|              187|\n",
      "|    50%|              552|\n",
      "|    75%|             1102|\n",
      "|    max|             3603|\n",
      "+-------+-----------------+\n",
      "\n",
      "Basic statistics for active users:\n",
      "+-------+------------------+\n",
      "|summary|      total_events|\n",
      "+-------+------------------+\n",
      "|  count|               173|\n",
      "|   mean|1348.4971098265896|\n",
      "| stddev| 1425.428636571019|\n",
      "|    min|                 6|\n",
      "|    25%|               321|\n",
      "|    50%|               940|\n",
      "|    75%|              2005|\n",
      "|    max|              9632|\n",
      "+-------+------------------+\n",
      "\n"
     ]
    }
   ],
   "source": [
    "# plot total_events\n",
    "# store column values as array\n",
    "churn = df_ml.select('total_events').where(df_ml['churn'] == 1).toPandas().values.tolist()\n",
    "active = df_ml.select('total_events').where(df_ml['churn'] == 0).toPandas().values.tolist()\n",
    "\n",
    "# plot boxplots of both arrays in the same plot\n",
    "data = [churn, active]\n",
    "fig, ax = plt.subplots(figsize=(6,6))\n",
    "ax.boxplot(data)\n",
    "ax.set_xticklabels(['Churned', 'Active'])\n",
    "plt.title('Total events')\n",
    "plt.show()\n",
    "\n",
    "# plot basic statistics\n",
    "print('Basic statistics for churned users:')\n",
    "df_ml.select('total_events').where(df_ml['churn'] == 1).summary().show()\n",
    "print('Basic statistics for active users:')\n",
    "df_ml.select('total_events').where(df_ml['churn'] == 0).summary().show()"
   ]
  },
  {
   "cell_type": "code",
   "execution_count": 71,
   "metadata": {},
   "outputs": [
    {
     "data": {
      "image/png": "[encoded data removed]",
      "text/plain": [
       "<matplotlib.figure.Figure at 0x7f1d758c3f98>"
      ]
     },
     "metadata": {
      "needs_background": "light"
     },
     "output_type": "display_data"
    },
    {
     "name": "stdout",
     "output_type": "stream",
     "text": [
      "Basic statistics for churned users:\n",
      "+-------+------------------+\n",
      "|summary|    total_sessions|\n",
      "+-------+------------------+\n",
      "|  count|                52|\n",
      "|   mean|10.326923076923077|\n",
      "| stddev|  8.61080295917924|\n",
      "|    min|                 1|\n",
      "|    25%|                 5|\n",
      "|    50%|                 8|\n",
      "|    75%|                12|\n",
      "|    max|                37|\n",
      "+-------+------------------+\n",
      "\n",
      "Basic statistics for active users:\n",
      "+-------+------------------+\n",
      "|summary|    total_sessions|\n",
      "+-------+------------------+\n",
      "|  count|               173|\n",
      "|   mean|15.254335260115607|\n",
      "| stddev|15.866963127421307|\n",
      "|    min|                 1|\n",
      "|    25%|                 6|\n",
      "|    50%|                11|\n",
      "|    75%|                19|\n",
      "|    max|               107|\n",
      "+-------+------------------+\n",
      "\n"
     ]
    }
   ],
   "source": [
    "# plot total_sessions\n",
    "# store column values as array\n",
    "churn = df_ml.select('total_sessions').where(df_ml['churn'] == 1).toPandas().values.tolist()\n",
    "active = df_ml.select('total_sessions').where(df_ml['churn'] == 0).toPandas().values.tolist()\n",
    "\n",
    "# plot boxplots of both arrays in the same plot\n",
    "data = [churn, active]\n",
    "fig, ax = plt.subplots(figsize=(6,6))\n",
    "ax.boxplot(data)\n",
    "ax.set_xticklabels(['Churned', 'Active'])\n",
    "plt.title('Total sessions')\n",
    "plt.show()\n",
    "\n",
    "# plot basic statistics\n",
    "print('Basic statistics for churned users:')\n",
    "df_ml.select('total_sessions').where(df_ml['churn'] == 1).summary().show()\n",
    "print('Basic statistics for active users:')\n",
    "df_ml.select('total_sessions').where(df_ml['churn'] == 0).summary().show()"
   ]
  },
  {
   "cell_type": "markdown",
   "metadata": {},
   "source": [
    "**There is not that big of a difference in the total number of sessions if we compare churned and active users. The mean is higher for active users (likely because of the outliers for this group) but the number of sessions for 25%, 50% and 75% of the datasets don't differ that much.**"
   ]
  },
  {
   "cell_type": "code",
   "execution_count": 72,
   "metadata": {},
   "outputs": [
    {
     "data": {
      "image/png": "[encoded data removed]",
      "text/plain": [
       "<matplotlib.figure.Figure at 0x7f1d6e257128>"
      ]
     },
     "metadata": {
      "needs_background": "light"
     },
     "output_type": "display_data"
    },
    {
     "name": "stdout",
     "output_type": "stream",
     "text": [
      "Basic statistics for churned users:\n",
      "+-------+------------------+\n",
      "|summary|avg_session_length|\n",
      "+-------+------------------+\n",
      "|  count|                52|\n",
      "|   mean| 8.048868485300888|\n",
      "| stddev| 6.345236883473346|\n",
      "|    min|0.4927777647972107|\n",
      "|    25%|3.3211112022399902|\n",
      "|    50%|  6.38861172152296|\n",
      "|    75%| 9.441156521151143|\n",
      "|    max| 31.70917101300778|\n",
      "+-------+------------------+\n",
      "\n",
      "Basic statistics for active users:\n",
      "+-------+-------------------+\n",
      "|summary| avg_session_length|\n",
      "+-------+-------------------+\n",
      "|  count|                173|\n",
      "|   mean| 10.080303650836603|\n",
      "| stddev|  6.913496501718813|\n",
      "|    min|0.11666666716337204|\n",
      "|    25%|  5.094972980089402|\n",
      "|    50%|    9.1002779006958|\n",
      "|    75%| 13.971460027764826|\n",
      "|    max|  43.79557182164721|\n",
      "+-------+-------------------+\n",
      "\n"
     ]
    }
   ],
   "source": [
    "# plot avg_session_length\n",
    "# store column values as list\n",
    "churn = df_ml.select('avg_session_length').where(df_ml['churn'] == 1).toPandas().values.tolist()\n",
    "active = df_ml.select('avg_session_length').where(df_ml['churn'] == 0).toPandas().values.tolist()\n",
    "\n",
    "# plot boxplots of both lists in the same plot\n",
    "data = [churn, active]\n",
    "fig, ax = plt.subplots(figsize=(6,6))\n",
    "ax.boxplot(data)\n",
    "ax.set_xticklabels(['Churned', 'Active'])\n",
    "plt.title('Average session length (hours)')\n",
    "plt.show()\n",
    "\n",
    "# plot basic statistics\n",
    "print('Basic statistics for churned users:')\n",
    "df_ml.select('avg_session_length').where(df_ml['churn'] == 1).summary().show()\n",
    "print('Basic statistics for active users:')\n",
    "df_ml.select('avg_session_length').where(df_ml['churn'] == 0).summary().show()"
   ]
  },
  {
   "cell_type": "markdown",
   "metadata": {},
   "source": [
    "**Average session length appears to be eavenly higher across the active users compared to churned users.**"
   ]
  },
  {
   "cell_type": "code",
   "execution_count": 73,
   "metadata": {},
   "outputs": [
    {
     "data": {
      "image/png": "[encoded data removed]",
      "text/plain": [
       "<matplotlib.figure.Figure at 0x7f1d6ceefdd8>"
      ]
     },
     "metadata": {
      "needs_background": "light"
     },
     "output_type": "display_data"
    },
    {
     "name": "stdout",
     "output_type": "stream",
     "text": [
      "Basic statistics for churned users:\n",
      "+-------+------------------+\n",
      "|summary|   days_registered|\n",
      "+-------+------------------+\n",
      "|  count|                52|\n",
      "|   mean| 57.36538461538461|\n",
      "| stddev|36.587809416366895|\n",
      "|    min|                 5|\n",
      "|    25%|                29|\n",
      "|    50%|                50|\n",
      "|    75%|                73|\n",
      "|    max|               188|\n",
      "+-------+------------------+\n",
      "\n",
      "Basic statistics for active users:\n",
      "+-------+-----------------+\n",
      "|summary|  days_registered|\n",
      "+-------+-----------------+\n",
      "|  count|              173|\n",
      "|   mean|86.56647398843931|\n",
      "| stddev|35.33432397636966|\n",
      "|    min|                0|\n",
      "|    25%|               65|\n",
      "|    50%|               76|\n",
      "|    75%|              103|\n",
      "|    max|              256|\n",
      "+-------+-----------------+\n",
      "\n"
     ]
    }
   ],
   "source": [
    "# plot days_registered\n",
    "# store column values as list\n",
    "churn = df_ml.select('days_registered').where(df_ml['churn'] == 1).toPandas().values.tolist()\n",
    "active = df_ml.select('days_registered').where(df_ml['churn'] == 0).toPandas().values.tolist()\n",
    "\n",
    "# plot boxplots of both lists in the same plot\n",
    "data = [churn, active]\n",
    "fig, ax = plt.subplots(figsize=(6,6))\n",
    "ax.boxplot(data)\n",
    "ax.set_xticklabels(['Churned', 'Active'])\n",
    "plt.title('Days registered')\n",
    "plt.show()\n",
    "\n",
    "# plot basic statistics\n",
    "print('Basic statistics for churned users:')\n",
    "df_ml.select('days_registered').where(df_ml['churn'] == 1).summary().show()\n",
    "print('Basic statistics for active users:')\n",
    "df_ml.select('days_registered').where(df_ml['churn'] == 0).summary().show()"
   ]
  },
  {
   "cell_type": "code",
   "execution_count": 74,
   "metadata": {},
   "outputs": [
    {
     "data": {
      "image/png": "[encoded data removed]",
      "text/plain": [
       "<matplotlib.figure.Figure at 0x7f1d7117bc88>"
      ]
     },
     "metadata": {
      "needs_background": "light"
     },
     "output_type": "display_data"
    },
    {
     "name": "stdout",
     "output_type": "stream",
     "text": [
      "Basic statistics for churned users:\n",
      "+-------+-----------------+\n",
      "|summary|   unique_artists|\n",
      "+-------+-----------------+\n",
      "|  count|               52|\n",
      "|   mean|518.6923076923077|\n",
      "| stddev|455.9143167892335|\n",
      "|    min|                8|\n",
      "|    25%|              125|\n",
      "|    50%|              374|\n",
      "|    75%|              741|\n",
      "|    max|             1804|\n",
      "+-------+-----------------+\n",
      "\n",
      "Basic statistics for active users:\n",
      "+-------+-----------------+\n",
      "|summary|   unique_artists|\n",
      "+-------+-----------------+\n",
      "|  count|              173|\n",
      "|   mean|749.7861271676301|\n",
      "| stddev| 633.235440098802|\n",
      "|    min|                3|\n",
      "|    25%|              226|\n",
      "|    50%|              587|\n",
      "|    75%|             1137|\n",
      "|    max|             3544|\n",
      "+-------+-----------------+\n",
      "\n"
     ]
    }
   ],
   "source": [
    "# plot unique_artists\n",
    "# store column values as list\n",
    "churn = df_ml.select('unique_artists').where(df_ml['churn'] == 1).toPandas().values.tolist()\n",
    "active = df_ml.select('unique_artists').where(df_ml['churn'] == 0).toPandas().values.tolist()\n",
    "\n",
    "# plot boxplots of both lists in the same plot\n",
    "data = [churn, active]\n",
    "fig, ax = plt.subplots(figsize=(6,6))\n",
    "ax.boxplot(data)\n",
    "ax.set_xticklabels(['Churned', 'Active'])\n",
    "plt.title('Unique artists')\n",
    "plt.show()\n",
    "\n",
    "# plot basic statistics\n",
    "print('Basic statistics for churned users:')\n",
    "df_ml.select('unique_artists').where(df_ml['churn'] == 1).summary().show()\n",
    "print('Basic statistics for active users:')\n",
    "df_ml.select('unique_artists').where(df_ml['churn'] == 0).summary().show()"
   ]
  },
  {
   "cell_type": "code",
   "execution_count": 75,
   "metadata": {},
   "outputs": [
    {
     "data": {
      "image/png": "[encoded data removed]",
      "text/plain": [
       "<matplotlib.figure.Figure at 0x7f1d695e1da0>"
      ]
     },
     "metadata": {
      "needs_background": "light"
     },
     "output_type": "display_data"
    },
    {
     "name": "stdout",
     "output_type": "stream",
     "text": [
      "Basic statistics for churned users:\n",
      "+-------+-----------------+\n",
      "|summary|     unique_songs|\n",
      "+-------+-----------------+\n",
      "|  count|               52|\n",
      "|   mean|638.3653846153846|\n",
      "| stddev|619.5986692490094|\n",
      "|    min|                8|\n",
      "|    25%|              129|\n",
      "|    50%|              412|\n",
      "|    75%|              875|\n",
      "|    max|             2562|\n",
      "+-------+-----------------+\n",
      "\n",
      "Basic statistics for active users:\n",
      "+-------+-----------------+\n",
      "|summary|     unique_songs|\n",
      "+-------+-----------------+\n",
      "|  count|              173|\n",
      "|   mean|975.7687861271677|\n",
      "| stddev|951.9128806124245|\n",
      "|    min|                3|\n",
      "|    25%|              239|\n",
      "|    50%|              696|\n",
      "|    75%|             1477|\n",
      "|    max|             5946|\n",
      "+-------+-----------------+\n",
      "\n"
     ]
    }
   ],
   "source": [
    "# plot unique_songs\n",
    "# store column values as list\n",
    "churn = df_ml.select('unique_songs').where(df_ml['churn'] == 1).toPandas().values.tolist()\n",
    "active = df_ml.select('unique_songs').where(df_ml['churn'] == 0).toPandas().values.tolist()\n",
    "\n",
    "# plot boxplots of both lists in the same plot\n",
    "data = [churn, active]\n",
    "fig, ax = plt.subplots(figsize=(6,6))\n",
    "ax.boxplot(data)\n",
    "ax.set_xticklabels(['Churned', 'Active'])\n",
    "plt.title('Unique songs')\n",
    "plt.show()\n",
    "\n",
    "# plot basic statistics\n",
    "print('Basic statistics for churned users:')\n",
    "df_ml.select('unique_songs').where(df_ml['churn'] == 1).summary().show()\n",
    "print('Basic statistics for active users:')\n",
    "df_ml.select('unique_songs').where(df_ml['churn'] == 0).summary().show()"
   ]
  },
  {
   "cell_type": "code",
   "execution_count": 76,
   "metadata": {},
   "outputs": [
    {
     "data": {
      "image/png": "[encoded data removed]",
      "text/plain": [
       "<matplotlib.figure.Figure at 0x7f1d79186f60>"
      ]
     },
     "metadata": {
      "needs_background": "light"
     },
     "output_type": "display_data"
    },
    {
     "name": "stdout",
     "output_type": "stream",
     "text": [
      "Basic statistics for churned users:\n",
      "+-------+-----------------+\n",
      "|summary|   total_nextsong|\n",
      "+-------+-----------------+\n",
      "|  count|               52|\n",
      "|   mean|699.8846153846154|\n",
      "| stddev|714.7376497666588|\n",
      "|    min|                8|\n",
      "|    25%|              133|\n",
      "|    50%|              429|\n",
      "|    75%|              927|\n",
      "|    max|             3028|\n",
      "+-------+-----------------+\n",
      "\n",
      "Basic statistics for active users:\n",
      "+-------+------------------+\n",
      "|summary|    total_nextsong|\n",
      "+-------+------------------+\n",
      "|  count|               173|\n",
      "|   mean|1108.1734104046243|\n",
      "| stddev|1183.1467030410008|\n",
      "|    min|                 3|\n",
      "|    25%|               251|\n",
      "|    50%|               747|\n",
      "|    75%|              1640|\n",
      "|    max|              8002|\n",
      "+-------+------------------+\n",
      "\n"
     ]
    }
   ],
   "source": [
    "# plot total_nextsong\n",
    "# store column values as list\n",
    "churn = df_ml.select('total_nextsong').where(df_ml['churn'] == 1).toPandas().values.tolist()\n",
    "active = df_ml.select('total_nextsong').where(df_ml['churn'] == 0).toPandas().values.tolist()\n",
    "\n",
    "# plot boxplots of both lists in the same plot\n",
    "data = [churn, active]\n",
    "fig, ax = plt.subplots(figsize=(6,6))\n",
    "ax.boxplot(data)\n",
    "ax.set_xticklabels(['Churned', 'Active'])\n",
    "plt.title('Total NextSong')\n",
    "plt.show()\n",
    "\n",
    "# plot basic statistics\n",
    "print('Basic statistics for churned users:')\n",
    "df_ml.select('total_nextsong').where(df_ml['churn'] == 1).summary().show()\n",
    "print('Basic statistics for active users:')\n",
    "df_ml.select('total_nextsong').where(df_ml['churn'] == 0).summary().show()"
   ]
  },
  {
   "cell_type": "code",
   "execution_count": 77,
   "metadata": {},
   "outputs": [
    {
     "data": {
      "image/png": "[encoded data removed]",
      "text/plain": [
       "<matplotlib.figure.Figure at 0x7f1d6dafbe80>"
      ]
     },
     "metadata": {
      "needs_background": "light"
     },
     "output_type": "display_data"
    },
    {
     "name": "stdout",
     "output_type": "stream",
     "text": [
      "Basic statistics for churned users:\n",
      "+-------+------------------+\n",
      "|summary|    total_thumbsup|\n",
      "+-------+------------------+\n",
      "|  count|                52|\n",
      "|   mean|             35.75|\n",
      "| stddev|39.697816900513146|\n",
      "|    min|                 0|\n",
      "|    25%|                 8|\n",
      "|    50%|                19|\n",
      "|    75%|                45|\n",
      "|    max|               163|\n",
      "+-------+------------------+\n",
      "\n",
      "Basic statistics for active users:\n",
      "+-------+-----------------+\n",
      "|summary|   total_thumbsup|\n",
      "+-------+-----------------+\n",
      "|  count|              173|\n",
      "|   mean|61.80346820809248|\n",
      "| stddev|70.41642406853158|\n",
      "|    min|                0|\n",
      "|    25%|               14|\n",
      "|    50%|               41|\n",
      "|    75%|               84|\n",
      "|    max|              437|\n",
      "+-------+-----------------+\n",
      "\n"
     ]
    }
   ],
   "source": [
    "# plot total_thumbsup\n",
    "# store column values as list\n",
    "churn = df_ml.select('total_thumbsup').where(df_ml['churn'] == 1).toPandas().values.tolist()\n",
    "active = df_ml.select('total_thumbsup').where(df_ml['churn'] == 0).toPandas().values.tolist()\n",
    "\n",
    "# plot boxplots of both lists in the same plot\n",
    "data = [churn, active]\n",
    "fig, ax = plt.subplots(figsize=(6,6))\n",
    "ax.boxplot(data)\n",
    "ax.set_xticklabels(['Churned', 'Active'])\n",
    "plt.title('Total Thumbs Up')\n",
    "plt.show()\n",
    "\n",
    "# plot basic statistics\n",
    "print('Basic statistics for churned users:')\n",
    "df_ml.select('total_thumbsup').where(df_ml['churn'] == 1).summary().show()\n",
    "print('Basic statistics for active users:')\n",
    "df_ml.select('total_thumbsup').where(df_ml['churn'] == 0).summary().show()"
   ]
  },
  {
   "cell_type": "code",
   "execution_count": 78,
   "metadata": {},
   "outputs": [
    {
     "data": {
      "image/png": "[encoded data removed]",
      "text/plain": [
       "<matplotlib.figure.Figure at 0x7f1d6e60a048>"
      ]
     },
     "metadata": {
      "needs_background": "light"
     },
     "output_type": "display_data"
    },
    {
     "name": "stdout",
     "output_type": "stream",
     "text": [
      "Basic statistics for churned users:\n",
      "+-------+------------------+\n",
      "|summary|        total_home|\n",
      "+-------+------------------+\n",
      "|  count|                52|\n",
      "|   mean| 32.15384615384615|\n",
      "| stddev|29.368106360328266|\n",
      "|    min|                 0|\n",
      "|    25%|                10|\n",
      "|    50%|                21|\n",
      "|    75%|                47|\n",
      "|    max|               129|\n",
      "+-------+------------------+\n",
      "\n",
      "Basic statistics for active users:\n",
      "+-------+-----------------+\n",
      "|summary|       total_home|\n",
      "+-------+-----------------+\n",
      "|  count|              173|\n",
      "|   mean|48.61271676300578|\n",
      "| stddev|50.93618054493799|\n",
      "|    min|                0|\n",
      "|    25%|               14|\n",
      "|    50%|               35|\n",
      "|    75%|               69|\n",
      "|    max|              355|\n",
      "+-------+-----------------+\n",
      "\n"
     ]
    }
   ],
   "source": [
    "# plot total_home\n",
    "# store column values as list\n",
    "churn = df_ml.select('total_home').where(df_ml['churn'] == 1).toPandas().values.tolist()\n",
    "active = df_ml.select('total_home').where(df_ml['churn'] == 0).toPandas().values.tolist()\n",
    "\n",
    "# plot boxplots of both lists in the same plot\n",
    "data = [churn, active]\n",
    "fig, ax = plt.subplots(figsize=(6,6))\n",
    "ax.boxplot(data)\n",
    "ax.set_xticklabels(['Churned', 'Active'])\n",
    "plt.title('Total home')\n",
    "plt.show()\n",
    "\n",
    "# plot basic statistics\n",
    "print('Basic statistics for churned users:')\n",
    "df_ml.select('total_home').where(df_ml['churn'] == 1).summary().show()\n",
    "print('Basic statistics for active users:')\n",
    "df_ml.select('total_home').where(df_ml['churn'] == 0).summary().show()"
   ]
  },
  {
   "cell_type": "code",
   "execution_count": 79,
   "metadata": {},
   "outputs": [
    {
     "data": {
      "image/png": "[encoded data removed]",
      "text/plain": [
       "<matplotlib.figure.Figure at 0x7f1d72eeab00>"
      ]
     },
     "metadata": {
      "needs_background": "light"
     },
     "output_type": "display_data"
    },
    {
     "name": "stdout",
     "output_type": "stream",
     "text": [
      "Basic statistics for churned users:\n",
      "+-------+------------------+\n",
      "|summary|   total_addfriend|\n",
      "+-------+------------------+\n",
      "|  count|                52|\n",
      "|   mean| 12.23076923076923|\n",
      "| stddev|11.157720240502051|\n",
      "|    min|                 0|\n",
      "|    25%|                 2|\n",
      "|    50%|                10|\n",
      "|    75%|                19|\n",
      "|    max|                47|\n",
      "+-------+------------------+\n",
      "\n",
      "Basic statistics for active users:\n",
      "+-------+------------------+\n",
      "|summary|   total_addfriend|\n",
      "+-------+------------------+\n",
      "|  count|               173|\n",
      "|   mean|21.046242774566473|\n",
      "| stddev|22.286666946671954|\n",
      "|    min|                 0|\n",
      "|    25%|                 6|\n",
      "|    50%|                16|\n",
      "|    75%|                28|\n",
      "|    max|               143|\n",
      "+-------+------------------+\n",
      "\n"
     ]
    }
   ],
   "source": [
    "# plot total_addfriend\n",
    "# store column values as list\n",
    "churn = df_ml.select('total_addfriend').where(df_ml['churn'] == 1).toPandas().values.tolist()\n",
    "active = df_ml.select('total_addfriend').where(df_ml['churn'] == 0).toPandas().values.tolist()\n",
    "\n",
    "# plot boxplots of both lists in the same plot\n",
    "data = [churn, active]\n",
    "fig, ax = plt.subplots(figsize=(6,6))\n",
    "ax.boxplot(data)\n",
    "ax.set_xticklabels(['Churned', 'Active'])\n",
    "plt.title('Total Add Friend')\n",
    "plt.show()\n",
    "\n",
    "# plot basic statistics\n",
    "print('Basic statistics for churned users:')\n",
    "df_ml.select('total_addfriend').where(df_ml['churn'] == 1).summary().show()\n",
    "print('Basic statistics for active users:')\n",
    "df_ml.select('total_addfriend').where(df_ml['churn'] == 0).summary().show()"
   ]
  },
  {
   "cell_type": "markdown",
   "metadata": {},
   "source": [
    "**There is not that big of a difference in the total number of added friends if we compare churned and active users. The mean is higher for active users, the same as for the column with total sessions, but the number of added friends for 25%, 50% and 75% of the datasets don't differ that much.**"
   ]
  },
  {
   "cell_type": "code",
   "execution_count": 80,
   "metadata": {
    "scrolled": false
   },
   "outputs": [
    {
     "data": {
      "image/png": "[encoded data removed]",
      "text/plain": [
       "<matplotlib.figure.Figure at 0x7f1d6e058fd0>"
      ]
     },
     "metadata": {
      "needs_background": "light"
     },
     "output_type": "display_data"
    },
    {
     "name": "stdout",
     "output_type": "stream",
     "text": [
      "Basic statistics for churned users:\n",
      "+-------+------------------+\n",
      "|summary|  total_rolladvert|\n",
      "+-------+------------------+\n",
      "|  count|                52|\n",
      "|   mean|18.596153846153847|\n",
      "| stddev|21.799675852406267|\n",
      "|    min|                 0|\n",
      "|    25%|                 3|\n",
      "|    50%|                11|\n",
      "|    75%|                27|\n",
      "|    max|               115|\n",
      "+-------+------------------+\n",
      "\n",
      "Basic statistics for active users:\n",
      "+-------+------------------+\n",
      "|summary|  total_rolladvert|\n",
      "+-------+------------------+\n",
      "|  count|               173|\n",
      "|   mean| 17.14450867052023|\n",
      "| stddev|21.527076957738625|\n",
      "|    min|                 0|\n",
      "|    25%|                 3|\n",
      "|    50%|                11|\n",
      "|    75%|                21|\n",
      "|    max|               128|\n",
      "+-------+------------------+\n",
      "\n"
     ]
    }
   ],
   "source": [
    "# plot total_rolladvert\n",
    "# store column values as list\n",
    "churn = df_ml.select('total_rolladvert').where(df_ml['churn'] == 1).toPandas().values.tolist()\n",
    "active = df_ml.select('total_rolladvert').where(df_ml['churn'] == 0).toPandas().values.tolist()\n",
    "\n",
    "# plot boxplots of both lists in the same plot\n",
    "data = [churn, active]\n",
    "fig, ax = plt.subplots(figsize=(6,6))\n",
    "ax.boxplot(data)\n",
    "ax.set_xticklabels(['Churned', 'Active'])\n",
    "plt.title('Total Roll Advert')\n",
    "plt.show()\n",
    "\n",
    "# plot basic statistics\n",
    "print('Basic statistics for churned users:')\n",
    "df_ml.select('total_rolladvert').where(df_ml['churn'] == 1).summary().show()\n",
    "print('Basic statistics for active users:')\n",
    "df_ml.select('total_rolladvert').where(df_ml['churn'] == 0).summary().show()"
   ]
  },
  {
   "cell_type": "markdown",
   "metadata": {},
   "source": [
    "**The same goes for number of ads received, the outliers are most likely increasing the mean for active users, but the values for 25% to 75% of the data are similar.**"
   ]
  },
  {
   "cell_type": "markdown",
   "metadata": {},
   "source": [
    "**Over all, we can see that the standard deviation is higher for active users, there is more variation in this data and also more outliers. This might be because we are comparing a relatively big dataset to a much smaller one or it could mean that active users actually have more variation in their behaviors. After looking at the outlier values, I have decided to keep them as is because they don't appear to be errors and they can add meaning to the model.**"
   ]
  },
  {
   "cell_type": "markdown",
   "metadata": {},
   "source": [
    "**We sould also look att the correlation between the numerical variables in the dataset to see if some features seem to give the same information and possibly reomve some of them to make the model faster:**"
   ]
  },
  {
   "cell_type": "code",
   "execution_count": 81,
   "metadata": {},
   "outputs": [
    {
     "data": {
      "image/png": "[encoded data removed]",
      "text/plain": [
       "<matplotlib.figure.Figure at 0x7f1d694ab6a0>"
      ]
     },
     "metadata": {
      "needs_background": "light"
     },
     "output_type": "display_data"
    }
   ],
   "source": [
    "# correlation matrix of numerical columns\n",
    "# create correlation matrix\n",
    "df_corr = df_ml.toPandas().corr()\n",
    "\n",
    "plt.figure(figsize=(15,12))\n",
    "plt.title('Correlation between numerical columns')\n",
    "\n",
    "# create a mask for the upper triangle\n",
    "mask = np.zeros_like(df_corr)\n",
    "mask[np.triu_indices_from(mask)] = True\n",
    "\n",
    "# create custom color range for heatmap to match other graphs in notebook\n",
    "cmap = mcolors.LinearSegmentedColormap.from_list('n',['#99E1A8', '#FFFFFF','#97BFEE'])\n",
    "\n",
    "sns.heatmap(df_corr, mask=mask, annot=True, linewidths=0.5, cmap=cmap)\n",
    "plt.show()"
   ]
  },
  {
   "cell_type": "markdown",
   "metadata": {},
   "source": [
    "**A lot of features seem to have a strong correlation. 'total_events' has a perfectly positive correlation with 'unique_songs' and 'total_nextsong, and 'unique_songs' has a perfectly positive correlaton with 'total_nextsong'.**\n",
    "\n",
    "**'churn' doesn't appear to have any stong positive correlations. 'avg_session_length' and 'days_registered' have the strongest negative correlations with 'churn'. It seems that 'total_rolladvert' and 'gender' have very low correlation to 'churn'. However, pearson correlation assumes a linear relationship, and low correlation might simply mean that there is no linear relationship present - the data might still have a non-linear relationship and should be included in the modeling for now. 'churn' having no stong correlations to the features could mean that we should use a non-linear model.**\n",
    "\n",
    "**Having too many features that are correlated among each other (not regarding the target variable) might just mean some of the features will not add any new information to the model and are therefore redundant. I might remove some of the features with high correlation if it seems to make the models more stable.**"
   ]
  },
  {
   "cell_type": "markdown",
   "metadata": {},
   "source": [
    "**Before we can use the data for modeling we need to recode 'state', which is a categorical variable, into a binary column per state (one hot encoding). We also need to apply some scaling to normalize the range across the features., the MinMax scaler preserves the original data distribution.**"
   ]
  },
  {
   "cell_type": "code",
   "execution_count": 82,
   "metadata": {},
   "outputs": [],
   "source": [
    "# data modeling preparation pipeline\n",
    "\n",
    "# list of numerical columns\n",
    "numerical_cols = ['avg_session_length',\n",
    "                  'days_registered', \n",
    "                  'total_events', \n",
    "                  'total_sessions', \n",
    "                  'unique_artists',\n",
    "                  'unique_songs', \n",
    "                  'total_nextsong', \n",
    "                  'total_thumbsup', \n",
    "                  'total_home', \n",
    "                  'total_addfriend', \n",
    "                  'total_rolladvert']\n",
    "\n",
    "# convert sting column to index column\n",
    "indexer = StringIndexer(inputCol='state', outputCol='stateIndex', handleInvalid='keep')\n",
    "inputs = [indexer.getOutputCol(), 'gender']\n",
    "# one hot encode categorical columns to numerical vector columns\n",
    "encoder = OneHotEncoderEstimator(inputCols=inputs, outputCols=['stateVec', 'genderVec'], handleInvalid='keep')\n",
    "# transform numerical columns to a single vector column\n",
    "num_assembler = VectorAssembler(inputCols=numerical_cols, outputCol='num_features')\n",
    "# apply scaler (MinMax scaler preserves original data distribution)\n",
    "scaler = MinMaxScaler(inputCol='num_features', outputCol='scaled_features')\n",
    "# transform all create vector columns into one vector column\n",
    "assembler = VectorAssembler(inputCols=['stateVec', 'genderVec', 'scaled_features'], outputCol='features')\n",
    "# create pipeline with above steps\n",
    "data_pipeline = Pipeline(stages=[indexer, encoder, num_assembler, scaler, assembler])\n",
    "# fit dataframe to pipleine and transform\n",
    "df_ml = data_pipeline.fit(df_ml).transform(df_ml)"
   ]
  },
  {
   "cell_type": "code",
   "execution_count": 83,
   "metadata": {},
   "outputs": [
    {
     "data": {
      "text/html": [
       "<div>\n",
       "<style scoped>\n",
       "    .dataframe tbody tr th:only-of-type {\n",
       "        vertical-align: middle;\n",
       "    }\n",
       "\n",
       "    .dataframe tbody tr th {\n",
       "        vertical-align: top;\n",
       "    }\n",
       "\n",
       "    .dataframe thead th {\n",
       "        text-align: right;\n",
       "    }\n",
       "</style>\n",
       "<table border=\"1\" class=\"dataframe\">\n",
       "  <thead>\n",
       "    <tr style=\"text-align: right;\">\n",
       "      <th></th>\n",
       "      <th>userId</th>\n",
       "      <th>churn</th>\n",
       "      <th>gender</th>\n",
       "      <th>state</th>\n",
       "      <th>avg_session_length</th>\n",
       "      <th>days_registered</th>\n",
       "      <th>total_events</th>\n",
       "      <th>total_sessions</th>\n",
       "      <th>unique_artists</th>\n",
       "      <th>unique_songs</th>\n",
       "      <th>total_nextsong</th>\n",
       "      <th>total_thumbsup</th>\n",
       "      <th>total_home</th>\n",
       "      <th>total_addfriend</th>\n",
       "      <th>total_rolladvert</th>\n",
       "      <th>stateIndex</th>\n",
       "      <th>stateVec</th>\n",
       "      <th>genderVec</th>\n",
       "      <th>num_features</th>\n",
       "      <th>scaled_features</th>\n",
       "      <th>features</th>\n",
       "    </tr>\n",
       "  </thead>\n",
       "  <tbody>\n",
       "    <tr>\n",
       "      <th>0</th>\n",
       "      <td>100010</td>\n",
       "      <td>0</td>\n",
       "      <td>1</td>\n",
       "      <td>CT</td>\n",
       "      <td>3.389725</td>\n",
       "      <td>55</td>\n",
       "      <td>381</td>\n",
       "      <td>7</td>\n",
       "      <td>252</td>\n",
       "      <td>269</td>\n",
       "      <td>275</td>\n",
       "      <td>17</td>\n",
       "      <td>11</td>\n",
       "      <td>4</td>\n",
       "      <td>52</td>\n",
       "      <td>8.0</td>\n",
       "      <td>(0.0, 0.0, 0.0, 0.0, 0.0, 0.0, 0.0, 0.0, 1.0, 0.0, 0.0, 0.0, 0.0, 0.0, 0.0, 0.0, 0.0, 0.0, 0.0, 0.0, 0.0, 0.0, 0.0, 0.0, 0.0, 0.0, 0.0, 0.0, 0.0, 0.0, 0.0, 0.0, 0.0, 0.0, 0.0, 0.0, 0.0, 0.0, 0.0, 0.0, 0.0, 0.0)</td>\n",
       "      <td>(0.0, 1.0)</td>\n",
       "      <td>[3.38972506858, 55.0, 381.0, 7.0, 252.0, 269.0, 275.0, 17.0, 11.0, 4.0, 52.0]</td>\n",
       "      <td>[0.074934533955, 0.21484375, 0.0389569914814, 0.0566037735849, 0.070319118893, 0.0447585394582, 0.0340042505313, 0.0389016018307, 0.030985915493, 0.027972027972, 0.40625]</td>\n",
       "      <td>(0.0, 0.0, 0.0, 0.0, 0.0, 0.0, 0.0, 0.0, 1.0, 0.0, 0.0, 0.0, 0.0, 0.0, 0.0, 0.0, 0.0, 0.0, 0.0, 0.0, 0.0, 0.0, 0.0, 0.0, 0.0, 0.0, 0.0, 0.0, 0.0, 0.0, 0.0, 0.0, 0.0, 0.0, 0.0, 0.0, 0.0, 0.0, 0.0, 0.0, 0.0, 0.0, 0.0, 1.0, 0.074934533955, 0.21484375, 0.0389569914814, 0.0566037735849, 0.070319118893, 0.0447585394582, 0.0340042505313, 0.0389016018307, 0.030985915493, 0.027972027972, 0.40625)</td>\n",
       "    </tr>\n",
       "  </tbody>\n",
       "</table>\n",
       "</div>"
      ],
      "text/plain": [
       "   userId  churn  gender state  avg_session_length  days_registered  total_events  total_sessions  unique_artists  unique_songs  total_nextsong  total_thumbsup  total_home  total_addfriend  total_rolladvert  stateIndex                                                                                                                                                                                                            stateVec   genderVec                                                                   num_features                                                                                                                                                             scaled_features                                                                                                                                                                                                                                                                                                                                                                                                features\n",
       "0  100010  0      1        CT   3.389725            55               381           7               252             269           275             17              11          4                52                8.0         (0.0, 0.0, 0.0, 0.0, 0.0, 0.0, 0.0, 0.0, 1.0, 0.0, 0.0, 0.0, 0.0, 0.0, 0.0, 0.0, 0.0, 0.0, 0.0, 0.0, 0.0, 0.0, 0.0, 0.0, 0.0, 0.0, 0.0, 0.0, 0.0, 0.0, 0.0, 0.0, 0.0, 0.0, 0.0, 0.0, 0.0, 0.0, 0.0, 0.0, 0.0, 0.0)  (0.0, 1.0)  [3.38972506858, 55.0, 381.0, 7.0, 252.0, 269.0, 275.0, 17.0, 11.0, 4.0, 52.0]  [0.074934533955, 0.21484375, 0.0389569914814, 0.0566037735849, 0.070319118893, 0.0447585394582, 0.0340042505313, 0.0389016018307, 0.030985915493, 0.027972027972, 0.40625]  (0.0, 0.0, 0.0, 0.0, 0.0, 0.0, 0.0, 0.0, 1.0, 0.0, 0.0, 0.0, 0.0, 0.0, 0.0, 0.0, 0.0, 0.0, 0.0, 0.0, 0.0, 0.0, 0.0, 0.0, 0.0, 0.0, 0.0, 0.0, 0.0, 0.0, 0.0, 0.0, 0.0, 0.0, 0.0, 0.0, 0.0, 0.0, 0.0, 0.0, 0.0, 0.0, 0.0, 1.0, 0.074934533955, 0.21484375, 0.0389569914814, 0.0566037735849, 0.070319118893, 0.0447585394582, 0.0340042505313, 0.0389016018307, 0.030985915493, 0.027972027972, 0.40625)"
      ]
     },
     "execution_count": 83,
     "metadata": {},
     "output_type": "execute_result"
    }
   ],
   "source": [
    "df_ml.toPandas().head(1)"
   ]
  },
  {
   "cell_type": "markdown",
   "metadata": {},
   "source": [
    "**The features column is now ready to be used for modeling.**"
   ]
  },
  {
   "cell_type": "markdown",
   "metadata": {},
   "source": [
    "# Modeling\n",
    "Split the full dataset into train, test, and validation sets. Test out several of the machine learning methods you learned. Evaluate the accuracy of the various models, tuning parameters as necessary. Determine your winning model based on test accuracy and report results on the validation set. Since the churned users are a fairly small subset, I suggest using F1 score as the metric to optimize."
   ]
  },
  {
   "cell_type": "code",
   "execution_count": 84,
   "metadata": {},
   "outputs": [
    {
     "name": "stdout",
     "output_type": "stream",
     "text": [
      "Shape of train, validation and test sets:\n",
      "(163, 21)\n",
      "(11, 21)\n",
      "(51, 21)\n"
     ]
    }
   ],
   "source": [
    "# split data into train, validation and test sets\n",
    "train, validation_test = df_ml.randomSplit([0.7, 0.3], seed = 4)\n",
    "validation, test = validation_test.randomSplit([0.5, 0.5], seed = 4)\n",
    "\n",
    "# shape of datasets (spark random split doesn't guarantee a split exactly to the input weigths)\n",
    "print('Shape of train, validation and test sets:')\n",
    "print((train.count(), len(train.columns)))\n",
    "print((validation.count(), len(validation.columns)))\n",
    "print((test.count(), len(test.columns)))"
   ]
  },
  {
   "cell_type": "markdown",
   "metadata": {},
   "source": [
    "**As we can see the valdation and test set don't have a 50/50 split, this is due to how spark's randomsplit function divides the samples, it doesn't guarantee an exact split to the weights.**"
   ]
  },
  {
   "cell_type": "code",
   "execution_count": 85,
   "metadata": {},
   "outputs": [
    {
     "name": "stdout",
     "output_type": "stream",
     "text": [
      "Total training time for naive bayes: 9.472581148147583 seconds\n",
      "Total training time for logic regression: 249.5936975479126 seconds\n",
      "Total training time for linear svc: 1131.8211860656738 seconds\n",
      "Total training time for random forest: 54.43535494804382 seconds\n",
      "Total training time for decision tree: 32.28688311576843 seconds\n"
     ]
    }
   ],
   "source": [
    "# set up and fit models to training data\n",
    "# baseline results for each model without any hyperparameter tuning\n",
    "# add timer to see how long it takes to train each model\n",
    "\n",
    "# naive bayes\n",
    "start1 = time()\n",
    "nb = NaiveBayes(featuresCol='features', labelCol='churn')\n",
    "nb_model = nb.fit(train)\n",
    "end1 = time()\n",
    "\n",
    "print('Total training time for naive bayes: {} seconds'.format(end1 - start1))\n",
    "\n",
    "# logistic regression\n",
    "start2 = time()\n",
    "lr = LogisticRegression(featuresCol='features', labelCol='churn')\n",
    "lr_model = lr.fit(train)\n",
    "end2 = time()\n",
    "\n",
    "print('Total training time for logic regression: {} seconds'.format(end2 - start2))\n",
    "\n",
    "# linear svc (support vector machine)\n",
    "start3 = time()\n",
    "svc = LinearSVC(featuresCol='features', labelCol='churn')\n",
    "svc_model = svc.fit(train)\n",
    "end3 = time()\n",
    "\n",
    "print('Total training time for linear svc: {} seconds'.format(end3 - start3))\n",
    "\n",
    "# random forest\n",
    "start4 = time()\n",
    "rf = RandomForestClassifier(featuresCol='features', labelCol='churn', seed=4)\n",
    "rf_model = rf.fit(train)\n",
    "end4 = time()\n",
    "\n",
    "print('Total training time for random forest: {} seconds'.format(end4 - start4))\n",
    "\n",
    "# decision tree\n",
    "start5 = time()\n",
    "dt = DecisionTreeClassifier(featuresCol='features', labelCol='churn', seed=4)\n",
    "dt_model = dt.fit(train)\n",
    "end5 = time()\n",
    "\n",
    "print('Total training time for decision tree: {} seconds'.format(end5 - start5))"
   ]
  },
  {
   "cell_type": "markdown",
   "metadata": {},
   "source": [
    "**There are six initial models selected to be tested on the dataset. They are all classification models suitable for binary classification. Naive Bayes is a simple and straightforward model and could be a good baseline model to compare more complex models to. Logistic regression and linear SVC (support vector machine) assume a linear relationship between the data, meanwhile random forest and decision tree can be applied to non-linear relationships as well. These could be good to compare to each other to see how well they fit our data and wether it appears to have a linear or non-linear relationship.**\n",
    "\n",
    "**All models are first initiated to show their baseline results - how well they are able to predict on the validation set without any parameter tuning.**\n",
    "\n",
    "**Naive bayes is the fastest model to train with our dataset and the linear SVC takes the longest.**"
   ]
  },
  {
   "cell_type": "code",
   "execution_count": 86,
   "metadata": {},
   "outputs": [
    {
     "name": "stdout",
     "output_type": "stream",
     "text": [
      "F1 score for naive bayes on validation set: 0.7363636363636363\n",
      "Area under PR for naive bayes on validation set: 0.18181818181818182\n",
      "\n",
      "F1 score for logistic regression on validation set: 0.7363636363636363\n",
      "Area under PR for logistic regression on validation set: 0.18181818181818182\n",
      "\n",
      "F1 score for linear svc on validation set: 0.7363636363636363\n",
      "Area under PR for linear svc on validation set: 0.18181818181818182\n",
      "\n",
      "F1 score for random forest on validation set: 0.7363636363636363\n",
      "Area under PR for random forest on validation set: 0.18181818181818182\n",
      "\n",
      "F1 score for decision tree on validation set: 0.8963317384370016\n",
      "Area under PR for decision tree on validation set: 0.7954545454545454\n",
      "\n"
     ]
    }
   ],
   "source": [
    "# baseline model predictions\n",
    "# create lists with the models and their respective names\n",
    "models = [nb_model,\n",
    "          lr_model,\n",
    "          svc_model,\n",
    "          rf_model,\n",
    "          dt_model]\n",
    "\n",
    "model_names = ['naive bayes',\n",
    "               'logistic regression',\n",
    "               'linear svc',\n",
    "               'random forest',\n",
    "               'decision tree']\n",
    "\n",
    "# for all models, make prediction, calculate f1 scores and display results\n",
    "for i in range(len(models)):\n",
    "    model = models[i]\n",
    "    model_name = model_names[i]\n",
    "    # predict on validation set\n",
    "    validation_prediction = model.transform(validation)\n",
    "    # use MulticlassClassificationEvaluator to get f1 scores\n",
    "    evaluator1 = MulticlassClassificationEvaluator(labelCol='churn')\n",
    "    # use BinaryClassificationEvaluator to get area under PR \n",
    "    evaluator2 = BinaryClassificationEvaluator(rawPredictionCol='prediction', labelCol='churn')\n",
    "    # make evaluation and print f1-score and area under PR per model\n",
    "    print('F1 score for {} on validation set: {}'.format((model_name), (evaluator1.evaluate(\n",
    "        validation_prediction, {evaluator1.metricName:'f1'}))))\n",
    "    \n",
    "    print('Area under PR for {} on validation set: {}'.format((model_name), (evaluator2.evaluate(\n",
    "        validation_prediction, {evaluator2.metricName:'areaUnderPR'}))))\n",
    "    \n",
    "    print('')"
   ]
  },
  {
   "cell_type": "markdown",
   "metadata": {},
   "source": [
    "**Since our dataset is imbalanced, we have chosen to use the f1 score as a performance metric, which is the harmonic mean of precision and recall. Measuring accuracy could lead to a poor model when the input data is imbalanced, the accuracy could be high because the model predicts well on the majority class (active users), but that would not be a good model for us since our goal is to predict on the minority class (churned users). Precision and recall calculations do not make use of the true negatives, they're only concerned with the correct prediction of the minority class.**\n",
    "\n",
    "**The area under PR refers to the area under the precision-recall curve (AUC). Precision-recall curves are more informative than the receiver operating characteristic (ROC) curve when evaluating binary classifiers on an imbalanced dataset, and a precision-recall curve is a plot of the precision and the recall for different thresholds. The area under the curve (AUC) can be used as a summary of the model skill. Area under the PR curve will typically show larger differences than area under the ROC curve when comparing classifiers trained on imbalanced data.**\n",
    "\n",
    "**It appears that the decision tree model perform the best on the validation set. As mentioned above, this model doesn't only follow a linear relationship, which might suggest that our input and output features have a non-linear relationship and hence this model will be more suited to the data.**\n",
    "\n",
    "**Let's tune the decision tree model to see if we can improve it further.**"
   ]
  },
  {
   "cell_type": "markdown",
   "metadata": {},
   "source": [
    "**Tune hyperparameters for decision tree model:**"
   ]
  },
  {
   "cell_type": "code",
   "execution_count": 87,
   "metadata": {
    "scrolled": true
   },
   "outputs": [
    {
     "data": {
      "text/plain": [
       "'cacheNodeIds: If false, the algorithm will pass trees to executors to match instances with nodes. If true, the algorithm will cache node IDs for each instance. Caching can speed up training of deeper trees. Users can set how often should the cache be checkpointed or disable it by setting checkpointInterval. (default: False)\\ncheckpointInterval: set checkpoint interval (>= 1) or disable checkpoint (-1). E.g. 10 means that the cache will get checkpointed every 10 iterations. Note: this setting will be ignored if the checkpoint directory is not set in the SparkContext. (default: 10)\\nfeaturesCol: features column name. (default: features, current: features)\\nimpurity: Criterion used for information gain calculation (case-insensitive). Supported options: entropy, gini (default: gini)\\nlabelCol: label column name. (default: label, current: churn)\\nmaxBins: Max number of bins for discretizing continuous features.  Must be >=2 and >= number of categories for any categorical feature. (default: 32)\\nmaxDepth: Maximum depth of the tree. (>= 0) E.g., depth 0 means 1 leaf node; depth 1 means 1 internal node + 2 leaf nodes. (default: 5)\\nmaxMemoryInMB: Maximum memory in MB allocated to histogram aggregation. If too small, then 1 node will be split per iteration, and its aggregates may exceed this size. (default: 256)\\nminInfoGain: Minimum information gain for a split to be considered at a tree node. (default: 0.0)\\nminInstancesPerNode: Minimum number of instances each child must have after split. If a split causes the left or right child to have fewer than minInstancesPerNode, the split will be discarded as invalid. Should be >= 1. (default: 1)\\npredictionCol: prediction column name. (default: prediction)\\nprobabilityCol: Column name for predicted class conditional probabilities. Note: Not all models output well-calibrated probability estimates! These probabilities should be treated as confidences, not precise probabilities. (default: probability)\\nrawPredictionCol: raw prediction (a.k.a. confidence) column name. (default: rawPrediction)\\nseed: random seed. (default: -6037216380011565647, current: 4)'"
      ]
     },
     "execution_count": 87,
     "metadata": {},
     "output_type": "execute_result"
    }
   ],
   "source": [
    "# get parameter options for decision tree model\n",
    "dt.explainParams()"
   ]
  },
  {
   "cell_type": "code",
   "execution_count": 88,
   "metadata": {},
   "outputs": [
    {
     "name": "stdout",
     "output_type": "stream",
     "text": [
      "Total training time for hyperparameter tuning on decision tree model: 1239.4033126831055 seconds\n"
     ]
    }
   ],
   "source": [
    "# tune hyperparapeters with ParamGridBuilder and CrossValidator\n",
    "# build paramGrid with hyperparameters to tune\n",
    "paramGrid = (ParamGridBuilder()\n",
    "            .addGrid(dt.impurity,['entropy', 'gini']) # default: gini\n",
    "            .addGrid(dt.maxDepth, [5, 10, 15]) # default: 5\n",
    "            .build())\n",
    "\n",
    "# add paramGrid to CrossValidator\n",
    "crossval = CrossValidator(estimator = dt,\n",
    "                          estimatorParamMaps = paramGrid,\n",
    "                          evaluator = MulticlassClassificationEvaluator(labelCol='churn'),\n",
    "                          numFolds = 5)\n",
    "\n",
    "# fit cv model\n",
    "start7 = time()\n",
    "cv_dt = crossval.fit(train)\n",
    "end7 = time()\n",
    "\n",
    "print('Total training time for hyperparameter tuning on decision tree model: {} seconds'.format(end7 - start7))"
   ]
  },
  {
   "cell_type": "markdown",
   "metadata": {},
   "source": [
    "**The hyperparameters I have chosen to test in tuning the decision tree model are 'impurity' and  'maxDepth'. The 'impurity' parameter with 'entropy' and 'gini' refers to which criterion to be used for information gain calculation and 'maxDepth' refers to the maximum depth of the tree.**"
   ]
  },
  {
   "cell_type": "code",
   "execution_count": 89,
   "metadata": {},
   "outputs": [
    {
     "name": "stdout",
     "output_type": "stream",
     "text": [
      "F1 score for tuned decision tree model on validation set: 0.8963317384370016\n"
     ]
    }
   ],
   "source": [
    "# predict on validation set\n",
    "validation_prediction_dt = cv_dt.transform(validation)\n",
    "\n",
    "# make evaluation and print f1-score\n",
    "print('F1 score for tuned decision tree model on validation set: {}'.format(evaluator1.evaluate(\n",
    "    validation_prediction_dt, {evaluator1.metricName:'f1'})))"
   ]
  },
  {
   "cell_type": "code",
   "execution_count": 90,
   "metadata": {},
   "outputs": [
    {
     "name": "stdout",
     "output_type": "stream",
     "text": [
      "F1 score for tuned decision tree model on test set: 0.8099323383728836\n"
     ]
    }
   ],
   "source": [
    "# predict on test set\n",
    "test_prediction_dt = cv_dt.transform(test)\n",
    "\n",
    "# make evaluation and print f1-score\n",
    "print('F1 score for tuned decision tree model on test set: {}'.format(evaluator1.evaluate(test_prediction_dt, \n",
    "                                                                     {evaluator1.metricName:'f1'})))"
   ]
  },
  {
   "cell_type": "code",
   "execution_count": 91,
   "metadata": {},
   "outputs": [
    {
     "name": "stdout",
     "output_type": "stream",
     "text": [
      "F1 score for baseline decision tree model on test set: 0.8099323383728836\n"
     ]
    }
   ],
   "source": [
    "# test baseline decision tree model on test set\n",
    "# predict on test set\n",
    "test_prediction_dt_baseline = dt_model.transform(test)\n",
    "\n",
    "# make evaluation and print f1-score\n",
    "print('F1 score for baseline decision tree model on test set: {}'.format(evaluator1.evaluate(\n",
    "            test_prediction_dt_baseline, {evaluator1.metricName:'f1'})))"
   ]
  },
  {
   "cell_type": "markdown",
   "metadata": {},
   "source": [
    "**The tuned decision tree model performs exactly as well as the baseline decision tree model on both the validation and test sets and our hyperparameter tuning didn't improve the model. Maybe this is due to our model having so few examples to train on. We can see below that the best hyperparameter tuning for the model are the same as the default settings, which are the lowest alternatives of the different options we tested. Adding more hyperparameters to a model increases its complexity and depth, and since we have so few examples to train on this could easily lead to overfitting and that's proably why the best model options are the least complex for this model.**\n",
    "\n",
    "**We should try the decision tree model on the bigger dataset to see if it gets the same results.**"
   ]
  },
  {
   "cell_type": "code",
   "execution_count": 92,
   "metadata": {
    "scrolled": false
   },
   "outputs": [
    {
     "data": {
      "text/plain": [
       "{Param(parent='DecisionTreeClassifier_54e82d44df56', name='cacheNodeIds', doc='If false, the algorithm will pass trees to executors to match instances with nodes. If true, the algorithm will cache node IDs for each instance. Caching can speed up training of deeper trees.'): False,\n",
       " Param(parent='DecisionTreeClassifier_54e82d44df56', name='checkpointInterval', doc='set checkpoint interval (>= 1) or disable checkpoint (-1). E.g. 10 means that the cache will get checkpointed every 10 iterations. Note: this setting will be ignored if the checkpoint directory is not set in the SparkContext'): 10,\n",
       " Param(parent='DecisionTreeClassifier_54e82d44df56', name='featuresCol', doc='features column name'): 'features',\n",
       " Param(parent='DecisionTreeClassifier_54e82d44df56', name='impurity', doc='Criterion used for information gain calculation (case-insensitive). Supported options: entropy, gini'): 'gini',\n",
       " Param(parent='DecisionTreeClassifier_54e82d44df56', name='labelCol', doc='label column name'): 'churn',\n",
       " Param(parent='DecisionTreeClassifier_54e82d44df56', name='maxBins', doc='Max number of bins for discretizing continuous features.  Must be >=2 and >= number of categories for any categorical feature.'): 32,\n",
       " Param(parent='DecisionTreeClassifier_54e82d44df56', name='maxDepth', doc='Maximum depth of the tree. (>= 0) E.g., depth 0 means 1 leaf node; depth 1 means 1 internal node + 2 leaf nodes.'): 5,\n",
       " Param(parent='DecisionTreeClassifier_54e82d44df56', name='maxMemoryInMB', doc='Maximum memory in MB allocated to histogram aggregation.'): 256,\n",
       " Param(parent='DecisionTreeClassifier_54e82d44df56', name='minInfoGain', doc='Minimum information gain for a split to be considered at a tree node.'): 0.0,\n",
       " Param(parent='DecisionTreeClassifier_54e82d44df56', name='minInstancesPerNode', doc='Minimum number of instances each child must have after split.  If a split causes the left or right child to have fewer than minInstancesPerNode, the split will be discarded as invalid. Should be >= 1.'): 1,\n",
       " Param(parent='DecisionTreeClassifier_54e82d44df56', name='predictionCol', doc='prediction column name'): 'prediction',\n",
       " Param(parent='DecisionTreeClassifier_54e82d44df56', name='probabilityCol', doc='Column name for predicted class conditional probabilities. Note: Not all models output well-calibrated probability estimates! These probabilities should be treated as confidences, not precise probabilities'): 'probability',\n",
       " Param(parent='DecisionTreeClassifier_54e82d44df56', name='rawPredictionCol', doc='raw prediction (a.k.a. confidence) column name'): 'rawPrediction',\n",
       " Param(parent='DecisionTreeClassifier_54e82d44df56', name='seed', doc='random seed'): 4}"
      ]
     },
     "execution_count": 92,
     "metadata": {},
     "output_type": "execute_result"
    }
   ],
   "source": [
    "# get parameter options for best decision tree model\n",
    "cv_dt.bestModel.extractParamMap()"
   ]
  },
  {
   "cell_type": "markdown",
   "metadata": {},
   "source": [
    "**Best hyperparameters options for the decision tree model that we have tested:**\n",
    "- **impurity: gini**\n",
    "- **maxDepth: 5**"
   ]
  },
  {
   "cell_type": "markdown",
   "metadata": {},
   "source": [
    "**Feature importance for tuned decision tree model:**"
   ]
  },
  {
   "cell_type": "code",
   "execution_count": 93,
   "metadata": {},
   "outputs": [],
   "source": [
    "# function to extract feature importance score and name for model, convert to pandas dataframe and\n",
    "# add column with cumulative score\n",
    "# source: https://www.timlrx.com/2018/06/19/feature-selection-using-feature-importance-\n",
    "# score-creating-a-pyspark-estimator/\n",
    "\n",
    "def extract_feature_imp(featureImp, dataset, featuresCol):\n",
    "    # dictionary to replace vector name with feature name\n",
    "    feat_name_dict = {\n",
    "        'scaled_features_0': 'avg_session_length',\n",
    "        'scaled_features_1': 'days_registered',\n",
    "        'scaled_features_2': 'total_events',\n",
    "        'scaled_features_3': 'total_sessions',\n",
    "        'scaled_features_4': 'unique_artists',\n",
    "        'scaled_features_5': 'unique_songs',\n",
    "        'scaled_features_6': 'total_nextsong',\n",
    "        'scaled_features_7': 'total_thumbsup',\n",
    "        'scaled_features_8': 'total_home',\n",
    "        'scaled_features_9': 'total_addfriend',\n",
    "        'scaled_features_10': 'total_rolladvert',\n",
    "        'stateVec_ CA': 'state: CA',\n",
    "        'stateVec_ NY': 'state: NY',\n",
    "        'stateVec_ TX': 'state: TX',\n",
    "        'stateVec_ FL': 'state: FL',\n",
    "        'stateVec_ NC': 'state: NC',\n",
    "        'stateVec_ IL': 'state: IL',\n",
    "        'stateVec_ PA': 'state: PA',\n",
    "        'stateVec_ MO': 'state: MO',\n",
    "        'stateVec_ CT': 'state: CT',\n",
    "        'stateVec_ AZ': 'state: AZ',\n",
    "        'stateVec_ GA': 'state: GA',\n",
    "        'stateVec_ OH': 'state: OH',\n",
    "        'stateVec_ MA': 'state: MA',\n",
    "        'stateVec_ MI': 'state: MI',\n",
    "        'stateVec_ DC': 'state: DC',\n",
    "        'stateVec_ CO': 'state: CO',\n",
    "        'stateVec_ AL': 'state: AL',\n",
    "        'stateVec_ VA': 'state: VA',\n",
    "        'stateVec_ KY': 'state: KY',\n",
    "        'stateVec_ WA': 'state: WA',\n",
    "        'stateVec_ OR': 'state: OR',\n",
    "        'stateVec_ MS': 'state: MS',\n",
    "        'stateVec_ SC': 'state: SC',\n",
    "        'stateVec_ MN': 'state: MN',\n",
    "        'stateVec_ IN': 'state: IN',\n",
    "        'stateVec_ TN': 'state: TN',\n",
    "        'stateVec_ MD': 'state: MD',\n",
    "        'stateVec_ NV': 'state: NV',\n",
    "        'stateVec_ RI': 'state: RI',\n",
    "        'stateVec_ MT': 'state: MT',\n",
    "        'stateVec_ NH': 'state: NH',\n",
    "        'stateVec_ LA': 'state: LA',\n",
    "        'stateVec_ UT': 'state: UT',\n",
    "        'stateVec_ AK': 'state: AK',\n",
    "        'stateVec_ NJ': 'state: NJ',\n",
    "        'stateVec_ WI': 'state: WI',\n",
    "        'stateVec_ WV': 'state: WV',\n",
    "        'stateVec_ IA': 'state: IA',\n",
    "        'stateVec_ OK': 'state: OK',\n",
    "        'stateVec_ NE': 'state: NE',\n",
    "        'stateVec_ AR': 'state: AR',\n",
    "        'stateVec___unknown': 'state:__unknown',\n",
    "        'genderVec_0': 'gender: male',\n",
    "        'genderVec_1': 'gender: female'}\n",
    "    \n",
    "    list_extract = []\n",
    "    \n",
    "    for i in dataset.schema[featuresCol].metadata[\"ml_attr\"][\"attrs\"]:\n",
    "        list_extract = list_extract + dataset.schema[featuresCol].metadata[\"ml_attr\"][\"attrs\"][i]\n",
    "    \n",
    "    # create pandas dataframe with index and feature vector name from metadata\n",
    "    df = pd.DataFrame(list_extract)\n",
    "    # add column with feature importance score\n",
    "    df['score'] = df['idx'].apply(lambda x: featureImp[x])\n",
    "    df = df.sort_values('score', ascending = False)\n",
    "    # add column with cumulative feature importance score\n",
    "    df['cumulative_score'] = df['score'].cumsum()\n",
    "    # replace feature vector name with feature name\n",
    "    df['name'] = df['name'].map(feat_name_dict)\n",
    "    \n",
    "    return df"
   ]
  },
  {
   "cell_type": "code",
   "execution_count": 94,
   "metadata": {},
   "outputs": [
    {
     "data": {
      "text/html": [
       "<div>\n",
       "<style scoped>\n",
       "    .dataframe tbody tr th:only-of-type {\n",
       "        vertical-align: middle;\n",
       "    }\n",
       "\n",
       "    .dataframe tbody tr th {\n",
       "        vertical-align: top;\n",
       "    }\n",
       "\n",
       "    .dataframe thead th {\n",
       "        text-align: right;\n",
       "    }\n",
       "</style>\n",
       "<table border=\"1\" class=\"dataframe\">\n",
       "  <thead>\n",
       "    <tr style=\"text-align: right;\">\n",
       "      <th></th>\n",
       "      <th>idx</th>\n",
       "      <th>name</th>\n",
       "      <th>score</th>\n",
       "      <th>cumulative_score</th>\n",
       "    </tr>\n",
       "  </thead>\n",
       "  <tbody>\n",
       "    <tr>\n",
       "      <th>1</th>\n",
       "      <td>45</td>\n",
       "      <td>days_registered</td>\n",
       "      <td>0.278586</td>\n",
       "      <td>0.278586</td>\n",
       "    </tr>\n",
       "    <tr>\n",
       "      <th>10</th>\n",
       "      <td>54</td>\n",
       "      <td>total_rolladvert</td>\n",
       "      <td>0.153097</td>\n",
       "      <td>0.431684</td>\n",
       "    </tr>\n",
       "    <tr>\n",
       "      <th>3</th>\n",
       "      <td>47</td>\n",
       "      <td>total_sessions</td>\n",
       "      <td>0.113773</td>\n",
       "      <td>0.545456</td>\n",
       "    </tr>\n",
       "    <tr>\n",
       "      <th>0</th>\n",
       "      <td>44</td>\n",
       "      <td>avg_session_length</td>\n",
       "      <td>0.076237</td>\n",
       "      <td>0.621693</td>\n",
       "    </tr>\n",
       "    <tr>\n",
       "      <th>9</th>\n",
       "      <td>53</td>\n",
       "      <td>total_addfriend</td>\n",
       "      <td>0.072661</td>\n",
       "      <td>0.694355</td>\n",
       "    </tr>\n",
       "    <tr>\n",
       "      <th>2</th>\n",
       "      <td>46</td>\n",
       "      <td>total_events</td>\n",
       "      <td>0.059147</td>\n",
       "      <td>0.753501</td>\n",
       "    </tr>\n",
       "    <tr>\n",
       "      <th>32</th>\n",
       "      <td>21</td>\n",
       "      <td>state: MS</td>\n",
       "      <td>0.046887</td>\n",
       "      <td>0.800389</td>\n",
       "    </tr>\n",
       "    <tr>\n",
       "      <th>30</th>\n",
       "      <td>19</td>\n",
       "      <td>state: WA</td>\n",
       "      <td>0.045940</td>\n",
       "      <td>0.846329</td>\n",
       "    </tr>\n",
       "    <tr>\n",
       "      <th>28</th>\n",
       "      <td>17</td>\n",
       "      <td>state: VA</td>\n",
       "      <td>0.038400</td>\n",
       "      <td>0.884728</td>\n",
       "    </tr>\n",
       "    <tr>\n",
       "      <th>29</th>\n",
       "      <td>18</td>\n",
       "      <td>state: KY</td>\n",
       "      <td>0.038274</td>\n",
       "      <td>0.923003</td>\n",
       "    </tr>\n",
       "    <tr>\n",
       "      <th>38</th>\n",
       "      <td>27</td>\n",
       "      <td>state: NV</td>\n",
       "      <td>0.035882</td>\n",
       "      <td>0.958885</td>\n",
       "    </tr>\n",
       "    <tr>\n",
       "      <th>12</th>\n",
       "      <td>1</td>\n",
       "      <td>state: NY</td>\n",
       "      <td>0.020931</td>\n",
       "      <td>0.979816</td>\n",
       "    </tr>\n",
       "    <tr>\n",
       "      <th>11</th>\n",
       "      <td>0</td>\n",
       "      <td>state: CA</td>\n",
       "      <td>0.020184</td>\n",
       "      <td>1.000000</td>\n",
       "    </tr>\n",
       "    <tr>\n",
       "      <th>50</th>\n",
       "      <td>39</td>\n",
       "      <td>state: NE</td>\n",
       "      <td>0.000000</td>\n",
       "      <td>1.000000</td>\n",
       "    </tr>\n",
       "    <tr>\n",
       "      <th>40</th>\n",
       "      <td>29</td>\n",
       "      <td>state: MT</td>\n",
       "      <td>0.000000</td>\n",
       "      <td>1.000000</td>\n",
       "    </tr>\n",
       "  </tbody>\n",
       "</table>\n",
       "</div>"
      ],
      "text/plain": [
       "    idx                name     score  cumulative_score\n",
       "1   45   days_registered     0.278586  0.278586        \n",
       "10  54   total_rolladvert    0.153097  0.431684        \n",
       "3   47   total_sessions      0.113773  0.545456        \n",
       "0   44   avg_session_length  0.076237  0.621693        \n",
       "9   53   total_addfriend     0.072661  0.694355        \n",
       "2   46   total_events        0.059147  0.753501        \n",
       "32  21   state: MS           0.046887  0.800389        \n",
       "30  19   state: WA           0.045940  0.846329        \n",
       "28  17   state: VA           0.038400  0.884728        \n",
       "29  18   state: KY           0.038274  0.923003        \n",
       "38  27   state: NV           0.035882  0.958885        \n",
       "12  1    state: NY           0.020931  0.979816        \n",
       "11  0    state: CA           0.020184  1.000000        \n",
       "50  39   state: NE           0.000000  1.000000        \n",
       "40  29   state: MT           0.000000  1.000000        "
      ]
     },
     "execution_count": 94,
     "metadata": {},
     "output_type": "execute_result"
    }
   ],
   "source": [
    "# get dataframe with feature importance\n",
    "df_feat_imp_dt = extract_feature_imp(cv_dt.bestModel.featureImportances, df_ml, 'features')\n",
    "df_feat_imp_dt.head(15)"
   ]
  },
  {
   "cell_type": "code",
   "execution_count": 95,
   "metadata": {
    "scrolled": false
   },
   "outputs": [
    {
     "data": {
      "image/png": "[encoded data removed]",
      "text/plain": [
       "<matplotlib.figure.Figure at 0x7f1d57e471d0>"
      ]
     },
     "metadata": {
      "needs_background": "light"
     },
     "output_type": "display_data"
    }
   ],
   "source": [
    "# plot feature score and cumulative score for most important features for tuned decision tree model\n",
    "# keep only top 15 most important features for plotting\n",
    "df_feat_imp_dt_15 = df_feat_imp_dt.head(15)\n",
    "\n",
    "ind = np.arange(len(df_feat_imp_dt_15['name']))\n",
    "\n",
    "fig = plt.figure(figsize = (15,10))\n",
    "plt.bar(ind, df_feat_imp_dt_15['score'], label='Feature score')\n",
    "plt.plot(ind, df_feat_imp_dt_15['cumulative_score'], label='Cumulative score')\n",
    "plt.title('Most important features for tuned decision tree model')\n",
    "plt.legend(loc='upper left')\n",
    "plt.ylabel('Score')\n",
    "plt.yticks(np.arange(0, 1.1, step=0.1))\n",
    "plt.xlabel('Feature')\n",
    "plt.xticks(ind, df_feat_imp_dt_15['name'], rotation=90)\n",
    "plt.show()"
   ]
  },
  {
   "cell_type": "markdown",
   "metadata": {},
   "source": [
    "**Above we can see the top 15 most important features to the tuned decision tree model in predicting churn. The score is the weight of the feature, and the higher the weight the more important the feature is to the model. The weight of a feature indicates its predictive power. The cumulative score shows the total predictive power of a feature and its previous features.**\n",
    "\n",
    "**The most important features to the model seem to be days_registered and total_rolladvert, which have a predictive power of 28% and 15% respectively. This means that looking at how long a user has been registered on the platform and the number of ads they have received are most important in predicting whether they will churn.**\n",
    "\n",
    "**If we look at the 7 most important features, they have a combined predictive power of 80%, so we could narrow down our feature selection to these 7 and still have a model that has a predictive power of 80%. We could test the performance of that model and if it's good enough we would have a more simple and faster model that needs less data to predict on.**"
   ]
  },
  {
   "cell_type": "markdown",
   "metadata": {},
   "source": [
    "**To continue our model evaluation we need to move to the bigger dataset to be able to train and test the models properly. We should also explore if we can reduce the number of inut features to see if we can make a more efficient model that still performs good enough. I will keep to the initial analysis I've conducted here and only look at basic plots and statistics of the columns I have already decided to include in the modeling for the bigger dataset. My main focus for the bigger dataset will be model optimization and selection.**"
   ]
  }
 ],
 "metadata": {
  "kernelspec": {
   "display_name": "Python 3",
   "language": "python",
   "name": "python3"
  },
  "language_info": {
   "codemirror_mode": {
    "name": "ipython",
    "version": 3
   },
   "file_extension": ".py",
   "mimetype": "text/x-python",
   "name": "python",
   "nbconvert_exporter": "python",
   "pygments_lexer": "ipython3",
   "version": "3.6.3"
  }
 },
 "nbformat": 4,
 "nbformat_minor": 2
}
